{
 "cells": [
  {
   "cell_type": "markdown",
   "id": "56fb8a1f",
   "metadata": {},
   "source": [
    "# Цель проекта\n",
    "Целью данного проекта является прогнозирование оттока клиентов оператора связи.\n",
    "Прогноз по каждому клиенту будет формировать модель машинного обучения в виде бинарной классификации \"1\" - клиент уйдет, \"0\" - клиент не уйдет.\n",
    "Качество прогнозирования будет определятся метриками ROC AUC И Accuracy."
   ]
  },
  {
   "cell_type": "markdown",
   "id": "60c7c23d",
   "metadata": {
    "toc": true
   },
   "source": [
    "<h1>Table of Contents<span class=\"tocSkip\"></span></h1>\n",
    "<div class=\"toc\"><ul class=\"toc-item\"><li><span><a href=\"#Загрузка-датасетов-и-общий-анализ-представленных-данных\" data-toc-modified-id=\"Загрузка-датасетов-и-общий-анализ-представленных-данных-1\"><span class=\"toc-item-num\">1&nbsp;&nbsp;</span>Загрузка датасетов и общий анализ представленных данных</a></span><ul class=\"toc-item\"><li><span><a href=\"#Вывод\" data-toc-modified-id=\"Вывод-1.1\"><span class=\"toc-item-num\">1.1&nbsp;&nbsp;</span>Вывод</a></span></li></ul></li><li><span><a href=\"#Создание-целевого-признака\" data-toc-modified-id=\"Создание-целевого-признака-2\"><span class=\"toc-item-num\">2&nbsp;&nbsp;</span>Создание целевого признака</a></span><ul class=\"toc-item\"><li><span><a href=\"#Вывод\" data-toc-modified-id=\"Вывод-2.1\"><span class=\"toc-item-num\">2.1&nbsp;&nbsp;</span>Вывод</a></span></li></ul></li><li><span><a href=\"#Объединение-датасетов-в-одну-таблицу\" data-toc-modified-id=\"Объединение-датасетов-в-одну-таблицу-3\"><span class=\"toc-item-num\">3&nbsp;&nbsp;</span>Объединение датасетов в одну таблицу</a></span><ul class=\"toc-item\"><li><span><a href=\"#Вывод\" data-toc-modified-id=\"Вывод-3.1\"><span class=\"toc-item-num\">3.1&nbsp;&nbsp;</span>Вывод</a></span></li></ul></li><li><span><a href=\"#Предобработка-данных\" data-toc-modified-id=\"Предобработка-данных-4\"><span class=\"toc-item-num\">4&nbsp;&nbsp;</span>Предобработка данных</a></span><ul class=\"toc-item\"><li><span><a href=\"#Вывод\" data-toc-modified-id=\"Вывод-4.1\"><span class=\"toc-item-num\">4.1&nbsp;&nbsp;</span>Вывод</a></span></li></ul></li><li><span><a href=\"#Формирование-итогового-датасета.\" data-toc-modified-id=\"Формирование-итогового-датасета.-5\"><span class=\"toc-item-num\">5&nbsp;&nbsp;</span>Формирование итогового датасета.</a></span><ul class=\"toc-item\"><li><span><a href=\"#Вывод\" data-toc-modified-id=\"Вывод-5.1\"><span class=\"toc-item-num\">5.1&nbsp;&nbsp;</span>Вывод</a></span></li></ul></li><li><span><a href=\"#Обучение-моделей\" data-toc-modified-id=\"Обучение-моделей-6\"><span class=\"toc-item-num\">6&nbsp;&nbsp;</span>Обучение моделей</a></span><ul class=\"toc-item\"><li><span><a href=\"#CatBoostClassifier\" data-toc-modified-id=\"CatBoostClassifier-6.1\"><span class=\"toc-item-num\">6.1&nbsp;&nbsp;</span>CatBoostClassifier</a></span><ul class=\"toc-item\"><li><span><a href=\"#Корретировка-модели-на-основе-важности-признаков\" data-toc-modified-id=\"Корретировка-модели-на-основе-важности-признаков-6.1.1\"><span class=\"toc-item-num\">6.1.1&nbsp;&nbsp;</span>Корретировка модели на основе важности признаков</a></span></li><li><span><a href=\"#Вывод\" data-toc-modified-id=\"Вывод-6.1.2\"><span class=\"toc-item-num\">6.1.2&nbsp;&nbsp;</span>Вывод</a></span></li></ul></li><li><span><a href=\"#RandomForestClassifie\" data-toc-modified-id=\"RandomForestClassifie-6.2\"><span class=\"toc-item-num\">6.2&nbsp;&nbsp;</span>RandomForestClassifie</a></span><ul class=\"toc-item\"><li><span><a href=\"#Корретировка-модели-на-основе-важности-признаков\" data-toc-modified-id=\"Корретировка-модели-на-основе-важности-признаков-6.2.1\"><span class=\"toc-item-num\">6.2.1&nbsp;&nbsp;</span>Корретировка модели на основе важности признаков</a></span></li><li><span><a href=\"#Вывод\" data-toc-modified-id=\"Вывод-6.2.2\"><span class=\"toc-item-num\">6.2.2&nbsp;&nbsp;</span>Вывод</a></span></li></ul></li><li><span><a href=\"#LogisticRegression\" data-toc-modified-id=\"LogisticRegression-6.3\"><span class=\"toc-item-num\">6.3&nbsp;&nbsp;</span>LogisticRegression</a></span><ul class=\"toc-item\"><li><span><a href=\"#Корретировка-модели-на-основе-коэффицентов-важности-признаков\" data-toc-modified-id=\"Корретировка-модели-на-основе-коэффицентов-важности-признаков-6.3.1\"><span class=\"toc-item-num\">6.3.1&nbsp;&nbsp;</span>Корретировка модели на основе коэффицентов важности признаков</a></span></li><li><span><a href=\"#Вывод\" data-toc-modified-id=\"Вывод-6.3.2\"><span class=\"toc-item-num\">6.3.2&nbsp;&nbsp;</span>Вывод</a></span></li></ul></li><li><span><a href=\"#Проверка-модели-на-адекватность-Dummy-классификатором\" data-toc-modified-id=\"Проверка-модели-на-адекватность-Dummy-классификатором-6.4\"><span class=\"toc-item-num\">6.4&nbsp;&nbsp;</span>Проверка модели на адекватность Dummy классификатором</a></span><ul class=\"toc-item\"><li><span><a href=\"#Вывод\" data-toc-modified-id=\"Вывод-6.4.1\"><span class=\"toc-item-num\">6.4.1&nbsp;&nbsp;</span>Вывод</a></span></li></ul></li></ul></li><li><span><a href=\"#Вывод\" data-toc-modified-id=\"Вывод-7\"><span class=\"toc-item-num\">7&nbsp;&nbsp;</span>Вывод</a></span></li></ul></div>"
   ]
  },
  {
   "cell_type": "markdown",
   "id": "f6997030",
   "metadata": {},
   "source": [
    "##  Загрузка датасетов и общий анализ представленных данных"
   ]
  },
  {
   "cell_type": "code",
   "execution_count": 1,
   "id": "97e2f750",
   "metadata": {},
   "outputs": [],
   "source": [
    "import pandas as pd\n",
    "import numpy as np\n",
    "from datetime import datetime\n",
    "\n",
    "import matplotlib.pyplot as plt\n",
    "import seaborn as sns\n",
    "\n",
    "from sklearn.metrics import auc, roc_curve, roc_auc_score, accuracy_score\n",
    "from sklearn.model_selection import train_test_split\n",
    "from sklearn.model_selection import GridSearchCV\n",
    "from catboost import CatBoostClassifier, Pool\n",
    "from sklearn.ensemble import RandomForestClassifier\n",
    "from sklearn.linear_model import LogisticRegression\n",
    "from sklearn.preprocessing import LabelEncoder, OneHotEncoder, MinMaxScaler\n",
    "from sklearn.preprocessing import OneHotEncoder\n",
    "from sklearn.dummy import DummyClassifier\n",
    "\n",
    "import warnings\n",
    "warnings.filterwarnings(\"ignore\", category=UserWarning)"
   ]
  },
  {
   "cell_type": "code",
   "execution_count": 2,
   "id": "945ebe99",
   "metadata": {
    "scrolled": false
   },
   "outputs": [
    {
     "data": {
      "text/html": [
       "<div>\n",
       "<style scoped>\n",
       "    .dataframe tbody tr th:only-of-type {\n",
       "        vertical-align: middle;\n",
       "    }\n",
       "\n",
       "    .dataframe tbody tr th {\n",
       "        vertical-align: top;\n",
       "    }\n",
       "\n",
       "    .dataframe thead th {\n",
       "        text-align: right;\n",
       "    }\n",
       "</style>\n",
       "<table border=\"1\" class=\"dataframe\">\n",
       "  <thead>\n",
       "    <tr style=\"text-align: right;\">\n",
       "      <th></th>\n",
       "      <th>customerID</th>\n",
       "      <th>BeginDate</th>\n",
       "      <th>EndDate</th>\n",
       "      <th>Type</th>\n",
       "      <th>PaperlessBilling</th>\n",
       "      <th>PaymentMethod</th>\n",
       "      <th>MonthlyCharges</th>\n",
       "      <th>TotalCharges</th>\n",
       "    </tr>\n",
       "  </thead>\n",
       "  <tbody>\n",
       "    <tr>\n",
       "      <th>0</th>\n",
       "      <td>7590-VHVEG</td>\n",
       "      <td>2020-01-01</td>\n",
       "      <td>No</td>\n",
       "      <td>Month-to-month</td>\n",
       "      <td>Yes</td>\n",
       "      <td>Electronic check</td>\n",
       "      <td>29.85</td>\n",
       "      <td>29.85</td>\n",
       "    </tr>\n",
       "    <tr>\n",
       "      <th>1</th>\n",
       "      <td>5575-GNVDE</td>\n",
       "      <td>2017-04-01</td>\n",
       "      <td>No</td>\n",
       "      <td>One year</td>\n",
       "      <td>No</td>\n",
       "      <td>Mailed check</td>\n",
       "      <td>56.95</td>\n",
       "      <td>1889.5</td>\n",
       "    </tr>\n",
       "    <tr>\n",
       "      <th>2</th>\n",
       "      <td>3668-QPYBK</td>\n",
       "      <td>2019-10-01</td>\n",
       "      <td>2019-12-01 00:00:00</td>\n",
       "      <td>Month-to-month</td>\n",
       "      <td>Yes</td>\n",
       "      <td>Mailed check</td>\n",
       "      <td>53.85</td>\n",
       "      <td>108.15</td>\n",
       "    </tr>\n",
       "    <tr>\n",
       "      <th>3</th>\n",
       "      <td>7795-CFOCW</td>\n",
       "      <td>2016-05-01</td>\n",
       "      <td>No</td>\n",
       "      <td>One year</td>\n",
       "      <td>No</td>\n",
       "      <td>Bank transfer (automatic)</td>\n",
       "      <td>42.30</td>\n",
       "      <td>1840.75</td>\n",
       "    </tr>\n",
       "    <tr>\n",
       "      <th>4</th>\n",
       "      <td>9237-HQITU</td>\n",
       "      <td>2019-09-01</td>\n",
       "      <td>2019-11-01 00:00:00</td>\n",
       "      <td>Month-to-month</td>\n",
       "      <td>Yes</td>\n",
       "      <td>Electronic check</td>\n",
       "      <td>70.70</td>\n",
       "      <td>151.65</td>\n",
       "    </tr>\n",
       "  </tbody>\n",
       "</table>\n",
       "</div>"
      ],
      "text/plain": [
       "   customerID   BeginDate              EndDate            Type  \\\n",
       "0  7590-VHVEG  2020-01-01                   No  Month-to-month   \n",
       "1  5575-GNVDE  2017-04-01                   No        One year   \n",
       "2  3668-QPYBK  2019-10-01  2019-12-01 00:00:00  Month-to-month   \n",
       "3  7795-CFOCW  2016-05-01                   No        One year   \n",
       "4  9237-HQITU  2019-09-01  2019-11-01 00:00:00  Month-to-month   \n",
       "\n",
       "  PaperlessBilling              PaymentMethod  MonthlyCharges TotalCharges  \n",
       "0              Yes           Electronic check           29.85        29.85  \n",
       "1               No               Mailed check           56.95       1889.5  \n",
       "2              Yes               Mailed check           53.85       108.15  \n",
       "3               No  Bank transfer (automatic)           42.30      1840.75  \n",
       "4              Yes           Electronic check           70.70       151.65  "
      ]
     },
     "metadata": {},
     "output_type": "display_data"
    },
    {
     "name": "stdout",
     "output_type": "stream",
     "text": [
      "<class 'pandas.core.frame.DataFrame'>\n",
      "RangeIndex: 7043 entries, 0 to 7042\n",
      "Data columns (total 8 columns):\n",
      " #   Column            Non-Null Count  Dtype  \n",
      "---  ------            --------------  -----  \n",
      " 0   customerID        7043 non-null   object \n",
      " 1   BeginDate         7043 non-null   object \n",
      " 2   EndDate           7043 non-null   object \n",
      " 3   Type              7043 non-null   object \n",
      " 4   PaperlessBilling  7043 non-null   object \n",
      " 5   PaymentMethod     7043 non-null   object \n",
      " 6   MonthlyCharges    7043 non-null   float64\n",
      " 7   TotalCharges      7043 non-null   object \n",
      "dtypes: float64(1), object(7)\n",
      "memory usage: 440.3+ KB\n",
      "\n"
     ]
    },
    {
     "data": {
      "text/html": [
       "<div>\n",
       "<style scoped>\n",
       "    .dataframe tbody tr th:only-of-type {\n",
       "        vertical-align: middle;\n",
       "    }\n",
       "\n",
       "    .dataframe tbody tr th {\n",
       "        vertical-align: top;\n",
       "    }\n",
       "\n",
       "    .dataframe thead th {\n",
       "        text-align: right;\n",
       "    }\n",
       "</style>\n",
       "<table border=\"1\" class=\"dataframe\">\n",
       "  <thead>\n",
       "    <tr style=\"text-align: right;\">\n",
       "      <th></th>\n",
       "      <th>customerID</th>\n",
       "      <th>gender</th>\n",
       "      <th>SeniorCitizen</th>\n",
       "      <th>Partner</th>\n",
       "      <th>Dependents</th>\n",
       "    </tr>\n",
       "  </thead>\n",
       "  <tbody>\n",
       "    <tr>\n",
       "      <th>0</th>\n",
       "      <td>7590-VHVEG</td>\n",
       "      <td>Female</td>\n",
       "      <td>0</td>\n",
       "      <td>Yes</td>\n",
       "      <td>No</td>\n",
       "    </tr>\n",
       "    <tr>\n",
       "      <th>1</th>\n",
       "      <td>5575-GNVDE</td>\n",
       "      <td>Male</td>\n",
       "      <td>0</td>\n",
       "      <td>No</td>\n",
       "      <td>No</td>\n",
       "    </tr>\n",
       "    <tr>\n",
       "      <th>2</th>\n",
       "      <td>3668-QPYBK</td>\n",
       "      <td>Male</td>\n",
       "      <td>0</td>\n",
       "      <td>No</td>\n",
       "      <td>No</td>\n",
       "    </tr>\n",
       "    <tr>\n",
       "      <th>3</th>\n",
       "      <td>7795-CFOCW</td>\n",
       "      <td>Male</td>\n",
       "      <td>0</td>\n",
       "      <td>No</td>\n",
       "      <td>No</td>\n",
       "    </tr>\n",
       "    <tr>\n",
       "      <th>4</th>\n",
       "      <td>9237-HQITU</td>\n",
       "      <td>Female</td>\n",
       "      <td>0</td>\n",
       "      <td>No</td>\n",
       "      <td>No</td>\n",
       "    </tr>\n",
       "  </tbody>\n",
       "</table>\n",
       "</div>"
      ],
      "text/plain": [
       "   customerID  gender  SeniorCitizen Partner Dependents\n",
       "0  7590-VHVEG  Female              0     Yes         No\n",
       "1  5575-GNVDE    Male              0      No         No\n",
       "2  3668-QPYBK    Male              0      No         No\n",
       "3  7795-CFOCW    Male              0      No         No\n",
       "4  9237-HQITU  Female              0      No         No"
      ]
     },
     "metadata": {},
     "output_type": "display_data"
    },
    {
     "name": "stdout",
     "output_type": "stream",
     "text": [
      "<class 'pandas.core.frame.DataFrame'>\n",
      "RangeIndex: 7043 entries, 0 to 7042\n",
      "Data columns (total 5 columns):\n",
      " #   Column         Non-Null Count  Dtype \n",
      "---  ------         --------------  ----- \n",
      " 0   customerID     7043 non-null   object\n",
      " 1   gender         7043 non-null   object\n",
      " 2   SeniorCitizen  7043 non-null   int64 \n",
      " 3   Partner        7043 non-null   object\n",
      " 4   Dependents     7043 non-null   object\n",
      "dtypes: int64(1), object(4)\n",
      "memory usage: 275.2+ KB\n",
      "\n"
     ]
    },
    {
     "data": {
      "text/html": [
       "<div>\n",
       "<style scoped>\n",
       "    .dataframe tbody tr th:only-of-type {\n",
       "        vertical-align: middle;\n",
       "    }\n",
       "\n",
       "    .dataframe tbody tr th {\n",
       "        vertical-align: top;\n",
       "    }\n",
       "\n",
       "    .dataframe thead th {\n",
       "        text-align: right;\n",
       "    }\n",
       "</style>\n",
       "<table border=\"1\" class=\"dataframe\">\n",
       "  <thead>\n",
       "    <tr style=\"text-align: right;\">\n",
       "      <th></th>\n",
       "      <th>customerID</th>\n",
       "      <th>InternetService</th>\n",
       "      <th>OnlineSecurity</th>\n",
       "      <th>OnlineBackup</th>\n",
       "      <th>DeviceProtection</th>\n",
       "      <th>TechSupport</th>\n",
       "      <th>StreamingTV</th>\n",
       "      <th>StreamingMovies</th>\n",
       "    </tr>\n",
       "  </thead>\n",
       "  <tbody>\n",
       "    <tr>\n",
       "      <th>0</th>\n",
       "      <td>7590-VHVEG</td>\n",
       "      <td>DSL</td>\n",
       "      <td>No</td>\n",
       "      <td>Yes</td>\n",
       "      <td>No</td>\n",
       "      <td>No</td>\n",
       "      <td>No</td>\n",
       "      <td>No</td>\n",
       "    </tr>\n",
       "    <tr>\n",
       "      <th>1</th>\n",
       "      <td>5575-GNVDE</td>\n",
       "      <td>DSL</td>\n",
       "      <td>Yes</td>\n",
       "      <td>No</td>\n",
       "      <td>Yes</td>\n",
       "      <td>No</td>\n",
       "      <td>No</td>\n",
       "      <td>No</td>\n",
       "    </tr>\n",
       "    <tr>\n",
       "      <th>2</th>\n",
       "      <td>3668-QPYBK</td>\n",
       "      <td>DSL</td>\n",
       "      <td>Yes</td>\n",
       "      <td>Yes</td>\n",
       "      <td>No</td>\n",
       "      <td>No</td>\n",
       "      <td>No</td>\n",
       "      <td>No</td>\n",
       "    </tr>\n",
       "    <tr>\n",
       "      <th>3</th>\n",
       "      <td>7795-CFOCW</td>\n",
       "      <td>DSL</td>\n",
       "      <td>Yes</td>\n",
       "      <td>No</td>\n",
       "      <td>Yes</td>\n",
       "      <td>Yes</td>\n",
       "      <td>No</td>\n",
       "      <td>No</td>\n",
       "    </tr>\n",
       "    <tr>\n",
       "      <th>4</th>\n",
       "      <td>9237-HQITU</td>\n",
       "      <td>Fiber optic</td>\n",
       "      <td>No</td>\n",
       "      <td>No</td>\n",
       "      <td>No</td>\n",
       "      <td>No</td>\n",
       "      <td>No</td>\n",
       "      <td>No</td>\n",
       "    </tr>\n",
       "  </tbody>\n",
       "</table>\n",
       "</div>"
      ],
      "text/plain": [
       "   customerID InternetService OnlineSecurity OnlineBackup DeviceProtection  \\\n",
       "0  7590-VHVEG             DSL             No          Yes               No   \n",
       "1  5575-GNVDE             DSL            Yes           No              Yes   \n",
       "2  3668-QPYBK             DSL            Yes          Yes               No   \n",
       "3  7795-CFOCW             DSL            Yes           No              Yes   \n",
       "4  9237-HQITU     Fiber optic             No           No               No   \n",
       "\n",
       "  TechSupport StreamingTV StreamingMovies  \n",
       "0          No          No              No  \n",
       "1          No          No              No  \n",
       "2          No          No              No  \n",
       "3         Yes          No              No  \n",
       "4          No          No              No  "
      ]
     },
     "metadata": {},
     "output_type": "display_data"
    },
    {
     "name": "stdout",
     "output_type": "stream",
     "text": [
      "<class 'pandas.core.frame.DataFrame'>\n",
      "RangeIndex: 5517 entries, 0 to 5516\n",
      "Data columns (total 8 columns):\n",
      " #   Column            Non-Null Count  Dtype \n",
      "---  ------            --------------  ----- \n",
      " 0   customerID        5517 non-null   object\n",
      " 1   InternetService   5517 non-null   object\n",
      " 2   OnlineSecurity    5517 non-null   object\n",
      " 3   OnlineBackup      5517 non-null   object\n",
      " 4   DeviceProtection  5517 non-null   object\n",
      " 5   TechSupport       5517 non-null   object\n",
      " 6   StreamingTV       5517 non-null   object\n",
      " 7   StreamingMovies   5517 non-null   object\n",
      "dtypes: object(8)\n",
      "memory usage: 344.9+ KB\n",
      "\n"
     ]
    },
    {
     "data": {
      "text/html": [
       "<div>\n",
       "<style scoped>\n",
       "    .dataframe tbody tr th:only-of-type {\n",
       "        vertical-align: middle;\n",
       "    }\n",
       "\n",
       "    .dataframe tbody tr th {\n",
       "        vertical-align: top;\n",
       "    }\n",
       "\n",
       "    .dataframe thead th {\n",
       "        text-align: right;\n",
       "    }\n",
       "</style>\n",
       "<table border=\"1\" class=\"dataframe\">\n",
       "  <thead>\n",
       "    <tr style=\"text-align: right;\">\n",
       "      <th></th>\n",
       "      <th>customerID</th>\n",
       "      <th>MultipleLines</th>\n",
       "    </tr>\n",
       "  </thead>\n",
       "  <tbody>\n",
       "    <tr>\n",
       "      <th>0</th>\n",
       "      <td>5575-GNVDE</td>\n",
       "      <td>No</td>\n",
       "    </tr>\n",
       "    <tr>\n",
       "      <th>1</th>\n",
       "      <td>3668-QPYBK</td>\n",
       "      <td>No</td>\n",
       "    </tr>\n",
       "    <tr>\n",
       "      <th>2</th>\n",
       "      <td>9237-HQITU</td>\n",
       "      <td>No</td>\n",
       "    </tr>\n",
       "    <tr>\n",
       "      <th>3</th>\n",
       "      <td>9305-CDSKC</td>\n",
       "      <td>Yes</td>\n",
       "    </tr>\n",
       "    <tr>\n",
       "      <th>4</th>\n",
       "      <td>1452-KIOVK</td>\n",
       "      <td>Yes</td>\n",
       "    </tr>\n",
       "  </tbody>\n",
       "</table>\n",
       "</div>"
      ],
      "text/plain": [
       "   customerID MultipleLines\n",
       "0  5575-GNVDE            No\n",
       "1  3668-QPYBK            No\n",
       "2  9237-HQITU            No\n",
       "3  9305-CDSKC           Yes\n",
       "4  1452-KIOVK           Yes"
      ]
     },
     "metadata": {},
     "output_type": "display_data"
    },
    {
     "name": "stdout",
     "output_type": "stream",
     "text": [
      "<class 'pandas.core.frame.DataFrame'>\n",
      "RangeIndex: 6361 entries, 0 to 6360\n",
      "Data columns (total 2 columns):\n",
      " #   Column         Non-Null Count  Dtype \n",
      "---  ------         --------------  ----- \n",
      " 0   customerID     6361 non-null   object\n",
      " 1   MultipleLines  6361 non-null   object\n",
      "dtypes: object(2)\n",
      "memory usage: 99.5+ KB\n",
      "\n"
     ]
    }
   ],
   "source": [
    "df_contr = pd.read_csv('/datasets/final_provider/contract.csv')\n",
    "df_pers = pd.read_csv('/datasets/final_provider/personal.csv')\n",
    "df_inter = pd.read_csv('/datasets/final_provider/internet.csv')\n",
    "df_phone = pd.read_csv('/datasets/final_provider/phone.csv')\n",
    "\n",
    "df_all = [df_contr, df_pers, df_inter, df_phone]\n",
    "for i in df_all:\n",
    "    display(i.head())\n",
    "    i.info()\n",
    "    print()"
   ]
  },
  {
   "cell_type": "code",
   "execution_count": 3,
   "id": "4499c480",
   "metadata": {
    "scrolled": false
   },
   "outputs": [
    {
     "name": "stdout",
     "output_type": "stream",
     "text": [
      "Month-to-month    3875\n",
      "Two year          1695\n",
      "One year          1473\n",
      "Name: Type, dtype: int64\n",
      "\n",
      "Yes    4171\n",
      "No     2872\n",
      "Name: PaperlessBilling, dtype: int64\n",
      "\n",
      "Electronic check             2365\n",
      "Mailed check                 1612\n",
      "Bank transfer (automatic)    1544\n",
      "Credit card (automatic)      1522\n",
      "Name: PaymentMethod, dtype: int64\n",
      "\n",
      "Male      3555\n",
      "Female    3488\n",
      "Name: gender, dtype: int64\n",
      "\n",
      "0    5901\n",
      "1    1142\n",
      "Name: SeniorCitizen, dtype: int64\n",
      "\n",
      "No     3641\n",
      "Yes    3402\n",
      "Name: Partner, dtype: int64\n",
      "\n",
      "No     4933\n",
      "Yes    2110\n",
      "Name: Dependents, dtype: int64\n",
      "\n",
      "Fiber optic    3096\n",
      "DSL            2421\n",
      "Name: InternetService, dtype: int64\n",
      "\n",
      "No     3498\n",
      "Yes    2019\n",
      "Name: OnlineSecurity, dtype: int64\n",
      "\n",
      "No     3088\n",
      "Yes    2429\n",
      "Name: OnlineBackup, dtype: int64\n",
      "\n",
      "No     3095\n",
      "Yes    2422\n",
      "Name: DeviceProtection, dtype: int64\n",
      "\n",
      "No     3473\n",
      "Yes    2044\n",
      "Name: TechSupport, dtype: int64\n",
      "\n",
      "No     2810\n",
      "Yes    2707\n",
      "Name: StreamingTV, dtype: int64\n",
      "\n",
      "No     2785\n",
      "Yes    2732\n",
      "Name: StreamingMovies, dtype: int64\n",
      "\n",
      "No     3390\n",
      "Yes    2971\n",
      "Name: MultipleLines, dtype: int64\n",
      "\n"
     ]
    }
   ],
   "source": [
    "# Количество уникальных данных в категориальных признаках\n",
    "for i in [df_contr, df_pers, df_inter, df_phone]:\n",
    "    for k in list(i):\n",
    "        if k not in ['customerID', 'BeginDate', 'EndDate', 'MonthlyCharges', 'TotalCharges']:\n",
    "            print(i[k].value_counts())\n",
    "            print()"
   ]
  },
  {
   "cell_type": "markdown",
   "id": "e32a8094",
   "metadata": {},
   "source": [
    "### Вывод\n",
    "Предоставлено три датасета: датасет с информацией по договорам, датасет с личной информацией пользователей, датасет с данныыми по предоставленным услугами интернета, датасет с данныыми по предоставленным услугам телефонии.  \n",
    "В датасетах нет пропусков.  \n",
    "Тип данных столбцов 'BeginDate', 'EndDate', 'TotalCharges' не соответствуют типу содержимого.  \n",
    "Столбец с индефикатором пользователя 'customerID' пристутствует во всех датасетах."
   ]
  },
  {
   "cell_type": "markdown",
   "id": "d34991c1",
   "metadata": {},
   "source": [
    "## Создание целевого признака"
   ]
  },
  {
   "cell_type": "code",
   "execution_count": 4,
   "id": "fb721f83",
   "metadata": {
    "scrolled": true
   },
   "outputs": [
    {
     "name": "stdout",
     "output_type": "stream",
     "text": [
      "Распределение значений целевого признака:\n",
      "0    5174\n",
      "1    1869\n",
      "Name: target, dtype: int64\n"
     ]
    }
   ],
   "source": [
    "df_contr['target'] = df_contr.EndDate.apply(lambda x: 1 if x!='No' else 0)\n",
    "print('Распределение значений целевого признака:', df_contr['target'].value_counts(), sep='\\n')"
   ]
  },
  {
   "cell_type": "markdown",
   "id": "e2415035",
   "metadata": {},
   "source": [
    "### Вывод\n",
    "Наличие даты расторжения договора в столбце 'EndDate' означает, что клиент ушел.  \n",
    "Исходя из этого создан новый столбец с целевым признаком 'target'.  \n",
    "Целевой признак имеет сильно выраженный дисбаланс классов"
   ]
  },
  {
   "cell_type": "markdown",
   "id": "ed716c89",
   "metadata": {},
   "source": [
    "## Объединение датасетов в одну таблицу"
   ]
  },
  {
   "cell_type": "code",
   "execution_count": 5,
   "id": "e0541252",
   "metadata": {
    "scrolled": false
   },
   "outputs": [
    {
     "name": "stdout",
     "output_type": "stream",
     "text": [
      "<class 'pandas.core.frame.DataFrame'>\n",
      "Int64Index: 7043 entries, 0 to 7042\n",
      "Data columns (total 21 columns):\n",
      " #   Column            Non-Null Count  Dtype  \n",
      "---  ------            --------------  -----  \n",
      " 0   customerID        7043 non-null   object \n",
      " 1   BeginDate         7043 non-null   object \n",
      " 2   EndDate           7043 non-null   object \n",
      " 3   Type              7043 non-null   object \n",
      " 4   PaperlessBilling  7043 non-null   object \n",
      " 5   PaymentMethod     7043 non-null   object \n",
      " 6   MonthlyCharges    7043 non-null   float64\n",
      " 7   TotalCharges      7043 non-null   object \n",
      " 8   target            7043 non-null   int64  \n",
      " 9   gender            7043 non-null   object \n",
      " 10  SeniorCitizen     7043 non-null   int64  \n",
      " 11  Partner           7043 non-null   object \n",
      " 12  Dependents        7043 non-null   object \n",
      " 13  InternetService   5517 non-null   object \n",
      " 14  OnlineSecurity    5517 non-null   object \n",
      " 15  OnlineBackup      5517 non-null   object \n",
      " 16  DeviceProtection  5517 non-null   object \n",
      " 17  TechSupport       5517 non-null   object \n",
      " 18  StreamingTV       5517 non-null   object \n",
      " 19  StreamingMovies   5517 non-null   object \n",
      " 20  MultipleLines     6361 non-null   object \n",
      "dtypes: float64(1), int64(2), object(18)\n",
      "memory usage: 1.2+ MB\n"
     ]
    },
    {
     "data": {
      "text/html": [
       "<div>\n",
       "<style scoped>\n",
       "    .dataframe tbody tr th:only-of-type {\n",
       "        vertical-align: middle;\n",
       "    }\n",
       "\n",
       "    .dataframe tbody tr th {\n",
       "        vertical-align: top;\n",
       "    }\n",
       "\n",
       "    .dataframe thead th {\n",
       "        text-align: right;\n",
       "    }\n",
       "</style>\n",
       "<table border=\"1\" class=\"dataframe\">\n",
       "  <thead>\n",
       "    <tr style=\"text-align: right;\">\n",
       "      <th></th>\n",
       "      <th>customerID</th>\n",
       "      <th>BeginDate</th>\n",
       "      <th>EndDate</th>\n",
       "      <th>Type</th>\n",
       "      <th>PaperlessBilling</th>\n",
       "      <th>PaymentMethod</th>\n",
       "      <th>MonthlyCharges</th>\n",
       "      <th>TotalCharges</th>\n",
       "      <th>target</th>\n",
       "      <th>gender</th>\n",
       "      <th>...</th>\n",
       "      <th>Partner</th>\n",
       "      <th>Dependents</th>\n",
       "      <th>InternetService</th>\n",
       "      <th>OnlineSecurity</th>\n",
       "      <th>OnlineBackup</th>\n",
       "      <th>DeviceProtection</th>\n",
       "      <th>TechSupport</th>\n",
       "      <th>StreamingTV</th>\n",
       "      <th>StreamingMovies</th>\n",
       "      <th>MultipleLines</th>\n",
       "    </tr>\n",
       "  </thead>\n",
       "  <tbody>\n",
       "    <tr>\n",
       "      <th>0</th>\n",
       "      <td>7590-VHVEG</td>\n",
       "      <td>2020-01-01</td>\n",
       "      <td>No</td>\n",
       "      <td>Month-to-month</td>\n",
       "      <td>Yes</td>\n",
       "      <td>Electronic check</td>\n",
       "      <td>29.85</td>\n",
       "      <td>29.85</td>\n",
       "      <td>0</td>\n",
       "      <td>Female</td>\n",
       "      <td>...</td>\n",
       "      <td>Yes</td>\n",
       "      <td>No</td>\n",
       "      <td>DSL</td>\n",
       "      <td>No</td>\n",
       "      <td>Yes</td>\n",
       "      <td>No</td>\n",
       "      <td>No</td>\n",
       "      <td>No</td>\n",
       "      <td>No</td>\n",
       "      <td>NaN</td>\n",
       "    </tr>\n",
       "    <tr>\n",
       "      <th>1</th>\n",
       "      <td>5575-GNVDE</td>\n",
       "      <td>2017-04-01</td>\n",
       "      <td>No</td>\n",
       "      <td>One year</td>\n",
       "      <td>No</td>\n",
       "      <td>Mailed check</td>\n",
       "      <td>56.95</td>\n",
       "      <td>1889.5</td>\n",
       "      <td>0</td>\n",
       "      <td>Male</td>\n",
       "      <td>...</td>\n",
       "      <td>No</td>\n",
       "      <td>No</td>\n",
       "      <td>DSL</td>\n",
       "      <td>Yes</td>\n",
       "      <td>No</td>\n",
       "      <td>Yes</td>\n",
       "      <td>No</td>\n",
       "      <td>No</td>\n",
       "      <td>No</td>\n",
       "      <td>No</td>\n",
       "    </tr>\n",
       "    <tr>\n",
       "      <th>2</th>\n",
       "      <td>3668-QPYBK</td>\n",
       "      <td>2019-10-01</td>\n",
       "      <td>2019-12-01 00:00:00</td>\n",
       "      <td>Month-to-month</td>\n",
       "      <td>Yes</td>\n",
       "      <td>Mailed check</td>\n",
       "      <td>53.85</td>\n",
       "      <td>108.15</td>\n",
       "      <td>1</td>\n",
       "      <td>Male</td>\n",
       "      <td>...</td>\n",
       "      <td>No</td>\n",
       "      <td>No</td>\n",
       "      <td>DSL</td>\n",
       "      <td>Yes</td>\n",
       "      <td>Yes</td>\n",
       "      <td>No</td>\n",
       "      <td>No</td>\n",
       "      <td>No</td>\n",
       "      <td>No</td>\n",
       "      <td>No</td>\n",
       "    </tr>\n",
       "    <tr>\n",
       "      <th>3</th>\n",
       "      <td>7795-CFOCW</td>\n",
       "      <td>2016-05-01</td>\n",
       "      <td>No</td>\n",
       "      <td>One year</td>\n",
       "      <td>No</td>\n",
       "      <td>Bank transfer (automatic)</td>\n",
       "      <td>42.30</td>\n",
       "      <td>1840.75</td>\n",
       "      <td>0</td>\n",
       "      <td>Male</td>\n",
       "      <td>...</td>\n",
       "      <td>No</td>\n",
       "      <td>No</td>\n",
       "      <td>DSL</td>\n",
       "      <td>Yes</td>\n",
       "      <td>No</td>\n",
       "      <td>Yes</td>\n",
       "      <td>Yes</td>\n",
       "      <td>No</td>\n",
       "      <td>No</td>\n",
       "      <td>NaN</td>\n",
       "    </tr>\n",
       "    <tr>\n",
       "      <th>4</th>\n",
       "      <td>9237-HQITU</td>\n",
       "      <td>2019-09-01</td>\n",
       "      <td>2019-11-01 00:00:00</td>\n",
       "      <td>Month-to-month</td>\n",
       "      <td>Yes</td>\n",
       "      <td>Electronic check</td>\n",
       "      <td>70.70</td>\n",
       "      <td>151.65</td>\n",
       "      <td>1</td>\n",
       "      <td>Female</td>\n",
       "      <td>...</td>\n",
       "      <td>No</td>\n",
       "      <td>No</td>\n",
       "      <td>Fiber optic</td>\n",
       "      <td>No</td>\n",
       "      <td>No</td>\n",
       "      <td>No</td>\n",
       "      <td>No</td>\n",
       "      <td>No</td>\n",
       "      <td>No</td>\n",
       "      <td>No</td>\n",
       "    </tr>\n",
       "  </tbody>\n",
       "</table>\n",
       "<p>5 rows × 21 columns</p>\n",
       "</div>"
      ],
      "text/plain": [
       "   customerID   BeginDate              EndDate            Type  \\\n",
       "0  7590-VHVEG  2020-01-01                   No  Month-to-month   \n",
       "1  5575-GNVDE  2017-04-01                   No        One year   \n",
       "2  3668-QPYBK  2019-10-01  2019-12-01 00:00:00  Month-to-month   \n",
       "3  7795-CFOCW  2016-05-01                   No        One year   \n",
       "4  9237-HQITU  2019-09-01  2019-11-01 00:00:00  Month-to-month   \n",
       "\n",
       "  PaperlessBilling              PaymentMethod  MonthlyCharges TotalCharges  \\\n",
       "0              Yes           Electronic check           29.85        29.85   \n",
       "1               No               Mailed check           56.95       1889.5   \n",
       "2              Yes               Mailed check           53.85       108.15   \n",
       "3               No  Bank transfer (automatic)           42.30      1840.75   \n",
       "4              Yes           Electronic check           70.70       151.65   \n",
       "\n",
       "   target  gender  ...  Partner Dependents InternetService OnlineSecurity  \\\n",
       "0       0  Female  ...      Yes         No             DSL             No   \n",
       "1       0    Male  ...       No         No             DSL            Yes   \n",
       "2       1    Male  ...       No         No             DSL            Yes   \n",
       "3       0    Male  ...       No         No             DSL            Yes   \n",
       "4       1  Female  ...       No         No     Fiber optic             No   \n",
       "\n",
       "  OnlineBackup DeviceProtection TechSupport StreamingTV StreamingMovies  \\\n",
       "0          Yes               No          No          No              No   \n",
       "1           No              Yes          No          No              No   \n",
       "2          Yes               No          No          No              No   \n",
       "3           No              Yes         Yes          No              No   \n",
       "4           No               No          No          No              No   \n",
       "\n",
       "  MultipleLines  \n",
       "0           NaN  \n",
       "1            No  \n",
       "2            No  \n",
       "3           NaN  \n",
       "4            No  \n",
       "\n",
       "[5 rows x 21 columns]"
      ]
     },
     "execution_count": 5,
     "metadata": {},
     "output_type": "execute_result"
    }
   ],
   "source": [
    "df = df_contr.merge(df_pers, how='left').merge(\n",
    "             df_inter, how='left').merge(df_phone, how='left')\n",
    "\n",
    "df.info()\n",
    "df.head()"
   ]
  },
  {
   "cell_type": "code",
   "execution_count": 6,
   "id": "ee3ebfd3",
   "metadata": {
    "scrolled": false
   },
   "outputs": [
    {
     "data": {
      "text/html": [
       "<div>\n",
       "<style scoped>\n",
       "    .dataframe tbody tr th:only-of-type {\n",
       "        vertical-align: middle;\n",
       "    }\n",
       "\n",
       "    .dataframe tbody tr th {\n",
       "        vertical-align: top;\n",
       "    }\n",
       "\n",
       "    .dataframe thead th {\n",
       "        text-align: right;\n",
       "    }\n",
       "</style>\n",
       "<table border=\"1\" class=\"dataframe\">\n",
       "  <thead>\n",
       "    <tr style=\"text-align: right;\">\n",
       "      <th></th>\n",
       "      <th>customerID</th>\n",
       "      <th>BeginDate</th>\n",
       "      <th>EndDate</th>\n",
       "      <th>Type</th>\n",
       "      <th>PaperlessBilling</th>\n",
       "      <th>PaymentMethod</th>\n",
       "      <th>MonthlyCharges</th>\n",
       "      <th>TotalCharges</th>\n",
       "      <th>target</th>\n",
       "      <th>gender</th>\n",
       "      <th>...</th>\n",
       "      <th>Partner</th>\n",
       "      <th>Dependents</th>\n",
       "      <th>InternetService</th>\n",
       "      <th>OnlineSecurity</th>\n",
       "      <th>OnlineBackup</th>\n",
       "      <th>DeviceProtection</th>\n",
       "      <th>TechSupport</th>\n",
       "      <th>StreamingTV</th>\n",
       "      <th>StreamingMovies</th>\n",
       "      <th>MultipleLines</th>\n",
       "    </tr>\n",
       "  </thead>\n",
       "  <tbody>\n",
       "    <tr>\n",
       "      <th>0</th>\n",
       "      <td>7590-VHVEG</td>\n",
       "      <td>2020-01-01</td>\n",
       "      <td>No</td>\n",
       "      <td>Month-to-month</td>\n",
       "      <td>Yes</td>\n",
       "      <td>Electronic check</td>\n",
       "      <td>29.85</td>\n",
       "      <td>29.85</td>\n",
       "      <td>0</td>\n",
       "      <td>Female</td>\n",
       "      <td>...</td>\n",
       "      <td>Yes</td>\n",
       "      <td>No</td>\n",
       "      <td>DSL</td>\n",
       "      <td>No</td>\n",
       "      <td>Yes</td>\n",
       "      <td>No</td>\n",
       "      <td>No</td>\n",
       "      <td>No</td>\n",
       "      <td>No</td>\n",
       "      <td>no</td>\n",
       "    </tr>\n",
       "    <tr>\n",
       "      <th>1</th>\n",
       "      <td>5575-GNVDE</td>\n",
       "      <td>2017-04-01</td>\n",
       "      <td>No</td>\n",
       "      <td>One year</td>\n",
       "      <td>No</td>\n",
       "      <td>Mailed check</td>\n",
       "      <td>56.95</td>\n",
       "      <td>1889.5</td>\n",
       "      <td>0</td>\n",
       "      <td>Male</td>\n",
       "      <td>...</td>\n",
       "      <td>No</td>\n",
       "      <td>No</td>\n",
       "      <td>DSL</td>\n",
       "      <td>Yes</td>\n",
       "      <td>No</td>\n",
       "      <td>Yes</td>\n",
       "      <td>No</td>\n",
       "      <td>No</td>\n",
       "      <td>No</td>\n",
       "      <td>No</td>\n",
       "    </tr>\n",
       "    <tr>\n",
       "      <th>2</th>\n",
       "      <td>3668-QPYBK</td>\n",
       "      <td>2019-10-01</td>\n",
       "      <td>2019-12-01 00:00:00</td>\n",
       "      <td>Month-to-month</td>\n",
       "      <td>Yes</td>\n",
       "      <td>Mailed check</td>\n",
       "      <td>53.85</td>\n",
       "      <td>108.15</td>\n",
       "      <td>1</td>\n",
       "      <td>Male</td>\n",
       "      <td>...</td>\n",
       "      <td>No</td>\n",
       "      <td>No</td>\n",
       "      <td>DSL</td>\n",
       "      <td>Yes</td>\n",
       "      <td>Yes</td>\n",
       "      <td>No</td>\n",
       "      <td>No</td>\n",
       "      <td>No</td>\n",
       "      <td>No</td>\n",
       "      <td>No</td>\n",
       "    </tr>\n",
       "    <tr>\n",
       "      <th>3</th>\n",
       "      <td>7795-CFOCW</td>\n",
       "      <td>2016-05-01</td>\n",
       "      <td>No</td>\n",
       "      <td>One year</td>\n",
       "      <td>No</td>\n",
       "      <td>Bank transfer (automatic)</td>\n",
       "      <td>42.30</td>\n",
       "      <td>1840.75</td>\n",
       "      <td>0</td>\n",
       "      <td>Male</td>\n",
       "      <td>...</td>\n",
       "      <td>No</td>\n",
       "      <td>No</td>\n",
       "      <td>DSL</td>\n",
       "      <td>Yes</td>\n",
       "      <td>No</td>\n",
       "      <td>Yes</td>\n",
       "      <td>Yes</td>\n",
       "      <td>No</td>\n",
       "      <td>No</td>\n",
       "      <td>no</td>\n",
       "    </tr>\n",
       "    <tr>\n",
       "      <th>4</th>\n",
       "      <td>9237-HQITU</td>\n",
       "      <td>2019-09-01</td>\n",
       "      <td>2019-11-01 00:00:00</td>\n",
       "      <td>Month-to-month</td>\n",
       "      <td>Yes</td>\n",
       "      <td>Electronic check</td>\n",
       "      <td>70.70</td>\n",
       "      <td>151.65</td>\n",
       "      <td>1</td>\n",
       "      <td>Female</td>\n",
       "      <td>...</td>\n",
       "      <td>No</td>\n",
       "      <td>No</td>\n",
       "      <td>Fiber optic</td>\n",
       "      <td>No</td>\n",
       "      <td>No</td>\n",
       "      <td>No</td>\n",
       "      <td>No</td>\n",
       "      <td>No</td>\n",
       "      <td>No</td>\n",
       "      <td>No</td>\n",
       "    </tr>\n",
       "  </tbody>\n",
       "</table>\n",
       "<p>5 rows × 21 columns</p>\n",
       "</div>"
      ],
      "text/plain": [
       "   customerID   BeginDate              EndDate            Type  \\\n",
       "0  7590-VHVEG  2020-01-01                   No  Month-to-month   \n",
       "1  5575-GNVDE  2017-04-01                   No        One year   \n",
       "2  3668-QPYBK  2019-10-01  2019-12-01 00:00:00  Month-to-month   \n",
       "3  7795-CFOCW  2016-05-01                   No        One year   \n",
       "4  9237-HQITU  2019-09-01  2019-11-01 00:00:00  Month-to-month   \n",
       "\n",
       "  PaperlessBilling              PaymentMethod  MonthlyCharges TotalCharges  \\\n",
       "0              Yes           Electronic check           29.85        29.85   \n",
       "1               No               Mailed check           56.95       1889.5   \n",
       "2              Yes               Mailed check           53.85       108.15   \n",
       "3               No  Bank transfer (automatic)           42.30      1840.75   \n",
       "4              Yes           Electronic check           70.70       151.65   \n",
       "\n",
       "   target  gender  ...  Partner Dependents InternetService OnlineSecurity  \\\n",
       "0       0  Female  ...      Yes         No             DSL             No   \n",
       "1       0    Male  ...       No         No             DSL            Yes   \n",
       "2       1    Male  ...       No         No             DSL            Yes   \n",
       "3       0    Male  ...       No         No             DSL            Yes   \n",
       "4       1  Female  ...       No         No     Fiber optic             No   \n",
       "\n",
       "  OnlineBackup DeviceProtection TechSupport StreamingTV StreamingMovies  \\\n",
       "0          Yes               No          No          No              No   \n",
       "1           No              Yes          No          No              No   \n",
       "2          Yes               No          No          No              No   \n",
       "3           No              Yes         Yes          No              No   \n",
       "4           No               No          No          No              No   \n",
       "\n",
       "  MultipleLines  \n",
       "0            no  \n",
       "1            No  \n",
       "2            No  \n",
       "3            no  \n",
       "4            No  \n",
       "\n",
       "[5 rows x 21 columns]"
      ]
     },
     "execution_count": 6,
     "metadata": {},
     "output_type": "execute_result"
    }
   ],
   "source": [
    "df.fillna(\"no\", inplace=True)\n",
    "df.head()"
   ]
  },
  {
   "cell_type": "markdown",
   "id": "ffaf5479",
   "metadata": {},
   "source": [
    "### Вывод\n",
    "После объединения появились пропуски в данных по потребению услуг интернета и телефонии.  \n",
    "Пропуски были заполнены значением 'unknown'. "
   ]
  },
  {
   "cell_type": "markdown",
   "id": "d230a28d",
   "metadata": {},
   "source": [
    "## Предобработка данных"
   ]
  },
  {
   "cell_type": "code",
   "execution_count": 7,
   "id": "ca16c6c9",
   "metadata": {},
   "outputs": [
    {
     "name": "stdout",
     "output_type": "stream",
     "text": [
      "Количество строк с пропущенными данными в столбце \"TotalCharges\" - 11\n"
     ]
    }
   ],
   "source": [
    "# Преобразование типа данных столбца 'TotalCharges' в числовой\n",
    "df['TotalCharges'] = pd.to_numeric(df['TotalCharges'], errors='coerce')\n",
    "print('Количество строк с пропущенными данными в столбце \"TotalCharges\" -',\n",
    "       df[df['TotalCharges'].isna()]['customerID'].count()\n",
    "      )"
   ]
  },
  {
   "cell_type": "code",
   "execution_count": 8,
   "id": "bda966c3",
   "metadata": {},
   "outputs": [
    {
     "name": "stdout",
     "output_type": "stream",
     "text": [
      "Количество строк с пропущенными данными в столбце \"TotalCharges\" - 0\n"
     ]
    }
   ],
   "source": [
    "# Удаление строк спропусками в столбце 'TotalCharges'\n",
    "df.dropna(subset=['TotalCharges'], inplace=True)\n",
    "print('Количество строк с пропущенными данными в столбце \"TotalCharges\" -',\n",
    "       df[df['TotalCharges'].isna()]['customerID'].count()\n",
    "      )"
   ]
  },
  {
   "cell_type": "code",
   "execution_count": 9,
   "id": "92592915",
   "metadata": {},
   "outputs": [],
   "source": [
    "# Функция построение гистограммы числового признака\n",
    "def hist(i):\n",
    "    plt.figure(figsize=(20, 7))\n",
    "    sns.histplot(data=df[i], bins=76)\n",
    "    # plt.title('Всего потрачено денег на услуги')\n",
    "    plt.xlabel(i)\n",
    "    plt.ylabel('Количество пользователей')\n",
    "    plt.grid(color='#95a5a6', linestyle='--', linewidth=2, axis='y', alpha=0.7)\n",
    "    plt.show"
   ]
  },
  {
   "cell_type": "code",
   "execution_count": 10,
   "id": "e499afad",
   "metadata": {},
   "outputs": [
    {
     "name": "stdout",
     "output_type": "stream",
     "text": [
      "                                                   Ежемесячные траты на услуги\n"
     ]
    },
    {
     "data": {
      "image/png": "[encoded data removed]",
      "text/plain": [
       "<Figure size 1440x504 with 1 Axes>"
      ]
     },
     "metadata": {
      "needs_background": "light"
     },
     "output_type": "display_data"
    }
   ],
   "source": [
    "# Построение гистограммы числового признака 'MonthlyCharges'\n",
    "print(' '*50, 'Ежемесячные траты на услуги')\n",
    "hist('MonthlyCharges')"
   ]
  },
  {
   "cell_type": "code",
   "execution_count": 11,
   "id": "ce0df8b4",
   "metadata": {
    "scrolled": false
   },
   "outputs": [
    {
     "name": "stdout",
     "output_type": "stream",
     "text": [
      "                                                   Ежегодные траты на услуги\n"
     ]
    },
    {
     "data": {
      "image/png": "[encoded data removed]",
      "text/plain": [
       "<Figure size 1440x504 with 1 Axes>"
      ]
     },
     "metadata": {
      "needs_background": "light"
     },
     "output_type": "display_data"
    }
   ],
   "source": [
    "# Построение гистограммы числового признака 'TotalCharges'\n",
    "print(' '*50,'Ежегодные траты на услуги')\n",
    "hist('TotalCharges')"
   ]
  },
  {
   "cell_type": "code",
   "execution_count": 12,
   "id": "da07cf0f",
   "metadata": {
    "scrolled": true
   },
   "outputs": [
    {
     "data": {
      "text/html": [
       "<div>\n",
       "<style scoped>\n",
       "    .dataframe tbody tr th:only-of-type {\n",
       "        vertical-align: middle;\n",
       "    }\n",
       "\n",
       "    .dataframe tbody tr th {\n",
       "        vertical-align: top;\n",
       "    }\n",
       "\n",
       "    .dataframe thead th {\n",
       "        text-align: right;\n",
       "    }\n",
       "</style>\n",
       "<table border=\"1\" class=\"dataframe\">\n",
       "  <thead>\n",
       "    <tr style=\"text-align: right;\">\n",
       "      <th></th>\n",
       "      <th>customerID</th>\n",
       "      <th>BeginDate</th>\n",
       "      <th>EndDate</th>\n",
       "      <th>Type</th>\n",
       "      <th>PaperlessBilling</th>\n",
       "      <th>PaymentMethod</th>\n",
       "      <th>MonthlyCharges</th>\n",
       "      <th>TotalCharges</th>\n",
       "      <th>target</th>\n",
       "      <th>gender</th>\n",
       "      <th>...</th>\n",
       "      <th>Dependents</th>\n",
       "      <th>InternetService</th>\n",
       "      <th>OnlineSecurity</th>\n",
       "      <th>OnlineBackup</th>\n",
       "      <th>DeviceProtection</th>\n",
       "      <th>TechSupport</th>\n",
       "      <th>StreamingTV</th>\n",
       "      <th>StreamingMovies</th>\n",
       "      <th>MultipleLines</th>\n",
       "      <th>months</th>\n",
       "    </tr>\n",
       "  </thead>\n",
       "  <tbody>\n",
       "    <tr>\n",
       "      <th>0</th>\n",
       "      <td>7590-VHVEG</td>\n",
       "      <td>2020-01-01</td>\n",
       "      <td>No</td>\n",
       "      <td>Month-to-month</td>\n",
       "      <td>Yes</td>\n",
       "      <td>Electronic check</td>\n",
       "      <td>29.85</td>\n",
       "      <td>29.85</td>\n",
       "      <td>0</td>\n",
       "      <td>Female</td>\n",
       "      <td>...</td>\n",
       "      <td>No</td>\n",
       "      <td>DSL</td>\n",
       "      <td>No</td>\n",
       "      <td>Yes</td>\n",
       "      <td>No</td>\n",
       "      <td>No</td>\n",
       "      <td>No</td>\n",
       "      <td>No</td>\n",
       "      <td>no</td>\n",
       "      <td>1</td>\n",
       "    </tr>\n",
       "    <tr>\n",
       "      <th>1</th>\n",
       "      <td>5575-GNVDE</td>\n",
       "      <td>2017-04-01</td>\n",
       "      <td>No</td>\n",
       "      <td>One year</td>\n",
       "      <td>No</td>\n",
       "      <td>Mailed check</td>\n",
       "      <td>56.95</td>\n",
       "      <td>1889.50</td>\n",
       "      <td>0</td>\n",
       "      <td>Male</td>\n",
       "      <td>...</td>\n",
       "      <td>No</td>\n",
       "      <td>DSL</td>\n",
       "      <td>Yes</td>\n",
       "      <td>No</td>\n",
       "      <td>Yes</td>\n",
       "      <td>No</td>\n",
       "      <td>No</td>\n",
       "      <td>No</td>\n",
       "      <td>No</td>\n",
       "      <td>34</td>\n",
       "    </tr>\n",
       "    <tr>\n",
       "      <th>2</th>\n",
       "      <td>3668-QPYBK</td>\n",
       "      <td>2019-10-01</td>\n",
       "      <td>2019-12-01 00:00:00</td>\n",
       "      <td>Month-to-month</td>\n",
       "      <td>Yes</td>\n",
       "      <td>Mailed check</td>\n",
       "      <td>53.85</td>\n",
       "      <td>108.15</td>\n",
       "      <td>1</td>\n",
       "      <td>Male</td>\n",
       "      <td>...</td>\n",
       "      <td>No</td>\n",
       "      <td>DSL</td>\n",
       "      <td>Yes</td>\n",
       "      <td>Yes</td>\n",
       "      <td>No</td>\n",
       "      <td>No</td>\n",
       "      <td>No</td>\n",
       "      <td>No</td>\n",
       "      <td>No</td>\n",
       "      <td>4</td>\n",
       "    </tr>\n",
       "    <tr>\n",
       "      <th>3</th>\n",
       "      <td>7795-CFOCW</td>\n",
       "      <td>2016-05-01</td>\n",
       "      <td>No</td>\n",
       "      <td>One year</td>\n",
       "      <td>No</td>\n",
       "      <td>Bank transfer (automatic)</td>\n",
       "      <td>42.30</td>\n",
       "      <td>1840.75</td>\n",
       "      <td>0</td>\n",
       "      <td>Male</td>\n",
       "      <td>...</td>\n",
       "      <td>No</td>\n",
       "      <td>DSL</td>\n",
       "      <td>Yes</td>\n",
       "      <td>No</td>\n",
       "      <td>Yes</td>\n",
       "      <td>Yes</td>\n",
       "      <td>No</td>\n",
       "      <td>No</td>\n",
       "      <td>no</td>\n",
       "      <td>45</td>\n",
       "    </tr>\n",
       "    <tr>\n",
       "      <th>4</th>\n",
       "      <td>9237-HQITU</td>\n",
       "      <td>2019-09-01</td>\n",
       "      <td>2019-11-01 00:00:00</td>\n",
       "      <td>Month-to-month</td>\n",
       "      <td>Yes</td>\n",
       "      <td>Electronic check</td>\n",
       "      <td>70.70</td>\n",
       "      <td>151.65</td>\n",
       "      <td>1</td>\n",
       "      <td>Female</td>\n",
       "      <td>...</td>\n",
       "      <td>No</td>\n",
       "      <td>Fiber optic</td>\n",
       "      <td>No</td>\n",
       "      <td>No</td>\n",
       "      <td>No</td>\n",
       "      <td>No</td>\n",
       "      <td>No</td>\n",
       "      <td>No</td>\n",
       "      <td>No</td>\n",
       "      <td>5</td>\n",
       "    </tr>\n",
       "  </tbody>\n",
       "</table>\n",
       "<p>5 rows × 22 columns</p>\n",
       "</div>"
      ],
      "text/plain": [
       "   customerID  BeginDate              EndDate            Type  \\\n",
       "0  7590-VHVEG 2020-01-01                   No  Month-to-month   \n",
       "1  5575-GNVDE 2017-04-01                   No        One year   \n",
       "2  3668-QPYBK 2019-10-01  2019-12-01 00:00:00  Month-to-month   \n",
       "3  7795-CFOCW 2016-05-01                   No        One year   \n",
       "4  9237-HQITU 2019-09-01  2019-11-01 00:00:00  Month-to-month   \n",
       "\n",
       "  PaperlessBilling              PaymentMethod  MonthlyCharges  TotalCharges  \\\n",
       "0              Yes           Electronic check           29.85         29.85   \n",
       "1               No               Mailed check           56.95       1889.50   \n",
       "2              Yes               Mailed check           53.85        108.15   \n",
       "3               No  Bank transfer (automatic)           42.30       1840.75   \n",
       "4              Yes           Electronic check           70.70        151.65   \n",
       "\n",
       "   target  gender  ...  Dependents InternetService OnlineSecurity  \\\n",
       "0       0  Female  ...          No             DSL             No   \n",
       "1       0    Male  ...          No             DSL            Yes   \n",
       "2       1    Male  ...          No             DSL            Yes   \n",
       "3       0    Male  ...          No             DSL            Yes   \n",
       "4       1  Female  ...          No     Fiber optic             No   \n",
       "\n",
       "  OnlineBackup DeviceProtection TechSupport StreamingTV StreamingMovies  \\\n",
       "0          Yes               No          No          No              No   \n",
       "1           No              Yes          No          No              No   \n",
       "2          Yes               No          No          No              No   \n",
       "3           No              Yes         Yes          No              No   \n",
       "4           No               No          No          No              No   \n",
       "\n",
       "  MultipleLines months  \n",
       "0            no      1  \n",
       "1            No     34  \n",
       "2            No      4  \n",
       "3            no     45  \n",
       "4            No      5  \n",
       "\n",
       "[5 rows x 22 columns]"
      ]
     },
     "execution_count": 12,
     "metadata": {},
     "output_type": "execute_result"
    }
   ],
   "source": [
    "# Создание нового признака - количество месяцев с момента заключения контракта\n",
    "df['BeginDate'] = pd.to_datetime(df['BeginDate'])\n",
    "r = datetime(year=2020, month=2, day=1)\n",
    "df['months'] = ((r - df['BeginDate'])/np.timedelta64(1, 'M'))\n",
    "df['months'] = df['months'].astype(int)\n",
    "df.head()         "
   ]
  },
  {
   "cell_type": "code",
   "execution_count": 13,
   "id": "f9e034e3",
   "metadata": {},
   "outputs": [
    {
     "name": "stdout",
     "output_type": "stream",
     "text": [
      "                                         Количество месяцев от заключения контракта до 01.02.2022\n"
     ]
    },
    {
     "data": {
      "image/png": "[encoded data removed]",
      "text/plain": [
       "<Figure size 1440x504 with 1 Axes>"
      ]
     },
     "metadata": {
      "needs_background": "light"
     },
     "output_type": "display_data"
    }
   ],
   "source": [
    "print(' '*40,'Количество месяцев от заключения контракта до 01.02.2022')\n",
    "hist('months')"
   ]
  },
  {
   "cell_type": "code",
   "execution_count": 14,
   "id": "661f2767",
   "metadata": {
    "scrolled": true
   },
   "outputs": [
    {
     "data": {
      "text/html": [
       "<div>\n",
       "<style scoped>\n",
       "    .dataframe tbody tr th:only-of-type {\n",
       "        vertical-align: middle;\n",
       "    }\n",
       "\n",
       "    .dataframe tbody tr th {\n",
       "        vertical-align: top;\n",
       "    }\n",
       "\n",
       "    .dataframe thead th {\n",
       "        text-align: right;\n",
       "    }\n",
       "</style>\n",
       "<table border=\"1\" class=\"dataframe\">\n",
       "  <thead>\n",
       "    <tr style=\"text-align: right;\">\n",
       "      <th></th>\n",
       "      <th>MonthlyCharges</th>\n",
       "      <th>TotalCharges</th>\n",
       "      <th>months</th>\n",
       "    </tr>\n",
       "  </thead>\n",
       "  <tbody>\n",
       "    <tr>\n",
       "      <th>count</th>\n",
       "      <td>7032.00</td>\n",
       "      <td>7032.00</td>\n",
       "      <td>7032.00</td>\n",
       "    </tr>\n",
       "    <tr>\n",
       "      <th>mean</th>\n",
       "      <td>64.80</td>\n",
       "      <td>2283.30</td>\n",
       "      <td>32.97</td>\n",
       "    </tr>\n",
       "    <tr>\n",
       "      <th>std</th>\n",
       "      <td>30.09</td>\n",
       "      <td>2266.77</td>\n",
       "      <td>24.11</td>\n",
       "    </tr>\n",
       "    <tr>\n",
       "      <th>min</th>\n",
       "      <td>18.25</td>\n",
       "      <td>18.80</td>\n",
       "      <td>1.00</td>\n",
       "    </tr>\n",
       "    <tr>\n",
       "      <th>25%</th>\n",
       "      <td>35.59</td>\n",
       "      <td>401.45</td>\n",
       "      <td>10.00</td>\n",
       "    </tr>\n",
       "    <tr>\n",
       "      <th>50%</th>\n",
       "      <td>70.35</td>\n",
       "      <td>1397.48</td>\n",
       "      <td>29.00</td>\n",
       "    </tr>\n",
       "    <tr>\n",
       "      <th>75%</th>\n",
       "      <td>89.86</td>\n",
       "      <td>3794.74</td>\n",
       "      <td>56.00</td>\n",
       "    </tr>\n",
       "    <tr>\n",
       "      <th>max</th>\n",
       "      <td>118.75</td>\n",
       "      <td>8684.80</td>\n",
       "      <td>76.00</td>\n",
       "    </tr>\n",
       "  </tbody>\n",
       "</table>\n",
       "</div>"
      ],
      "text/plain": [
       "       MonthlyCharges  TotalCharges   months\n",
       "count         7032.00       7032.00  7032.00\n",
       "mean            64.80       2283.30    32.97\n",
       "std             30.09       2266.77    24.11\n",
       "min             18.25         18.80     1.00\n",
       "25%             35.59        401.45    10.00\n",
       "50%             70.35       1397.48    29.00\n",
       "75%             89.86       3794.74    56.00\n",
       "max            118.75       8684.80    76.00"
      ]
     },
     "execution_count": 14,
     "metadata": {},
     "output_type": "execute_result"
    }
   ],
   "source": [
    "# статистические данные числовых признаков\n",
    "df.loc[:, ['MonthlyCharges', 'TotalCharges', 'months']].describe().round(2)"
   ]
  },
  {
   "cell_type": "code",
   "execution_count": 15,
   "id": "44267c1a",
   "metadata": {},
   "outputs": [
    {
     "data": {
      "text/html": [
       "<div>\n",
       "<style scoped>\n",
       "    .dataframe tbody tr th:only-of-type {\n",
       "        vertical-align: middle;\n",
       "    }\n",
       "\n",
       "    .dataframe tbody tr th {\n",
       "        vertical-align: top;\n",
       "    }\n",
       "\n",
       "    .dataframe thead th {\n",
       "        text-align: right;\n",
       "    }\n",
       "</style>\n",
       "<table border=\"1\" class=\"dataframe\">\n",
       "  <thead>\n",
       "    <tr style=\"text-align: right;\">\n",
       "      <th></th>\n",
       "      <th>MonthlyCharges</th>\n",
       "      <th>TotalCharges</th>\n",
       "      <th>months</th>\n",
       "    </tr>\n",
       "  </thead>\n",
       "  <tbody>\n",
       "    <tr>\n",
       "      <th>MonthlyCharges</th>\n",
       "      <td>1.000000</td>\n",
       "      <td>0.651065</td>\n",
       "      <td>0.259687</td>\n",
       "    </tr>\n",
       "    <tr>\n",
       "      <th>TotalCharges</th>\n",
       "      <td>0.651065</td>\n",
       "      <td>1.000000</td>\n",
       "      <td>0.828761</td>\n",
       "    </tr>\n",
       "    <tr>\n",
       "      <th>months</th>\n",
       "      <td>0.259687</td>\n",
       "      <td>0.828761</td>\n",
       "      <td>1.000000</td>\n",
       "    </tr>\n",
       "  </tbody>\n",
       "</table>\n",
       "</div>"
      ],
      "text/plain": [
       "                MonthlyCharges  TotalCharges    months\n",
       "MonthlyCharges        1.000000      0.651065  0.259687\n",
       "TotalCharges          0.651065      1.000000  0.828761\n",
       "months                0.259687      0.828761  1.000000"
      ]
     },
     "execution_count": 15,
     "metadata": {},
     "output_type": "execute_result"
    }
   ],
   "source": [
    "# корреляция Пирсона между числовыми признаками\n",
    "df.loc[:, ['MonthlyCharges', 'TotalCharges', 'months']].corr()"
   ]
  },
  {
   "cell_type": "markdown",
   "id": "13e83f05",
   "metadata": {},
   "source": [
    "### Вывод\n",
    "Произведена замена типа данных в столбце 'TotalCharges'. Удалены 11 строк с пропусками в столбце 'TotalCharges'.  \n",
    "Произведена замена типа данных в столбце 'BeginDate'. С помощью этого столбца создан новый признак 'months' - количество месяцев с момента заключения договора до 01.02.2020 г."
   ]
  },
  {
   "cell_type": "markdown",
   "id": "ea438a15",
   "metadata": {},
   "source": [
    "## Формирование итогового датасета."
   ]
  },
  {
   "cell_type": "code",
   "execution_count": 16,
   "id": "4735fcc2",
   "metadata": {
    "scrolled": false
   },
   "outputs": [
    {
     "name": "stdout",
     "output_type": "stream",
     "text": [
      " Числовые признаки: ['MonthlyCharges', 'TotalCharges', 'months'] \n",
      "\n",
      " Категориальные признаки: ['StreamingMovies', 'Type', 'Partner', 'SeniorCitizen', 'MultipleLines', 'OnlineBackup', 'PaymentMethod', 'TechSupport', 'InternetService', 'Dependents', 'StreamingTV', 'gender', 'OnlineSecurity', 'PaperlessBilling', 'DeviceProtection'] \n",
      "\n",
      "<class 'pandas.core.frame.DataFrame'>\n",
      "Int64Index: 7032 entries, 0 to 7042\n",
      "Data columns (total 19 columns):\n",
      " #   Column            Non-Null Count  Dtype  \n",
      "---  ------            --------------  -----  \n",
      " 0   Type              7032 non-null   object \n",
      " 1   PaperlessBilling  7032 non-null   object \n",
      " 2   PaymentMethod     7032 non-null   object \n",
      " 3   MonthlyCharges    7032 non-null   float64\n",
      " 4   TotalCharges      7032 non-null   float64\n",
      " 5   target            7032 non-null   int64  \n",
      " 6   gender            7032 non-null   object \n",
      " 7   SeniorCitizen     7032 non-null   int64  \n",
      " 8   Partner           7032 non-null   object \n",
      " 9   Dependents        7032 non-null   object \n",
      " 10  InternetService   7032 non-null   object \n",
      " 11  OnlineSecurity    7032 non-null   object \n",
      " 12  OnlineBackup      7032 non-null   object \n",
      " 13  DeviceProtection  7032 non-null   object \n",
      " 14  TechSupport       7032 non-null   object \n",
      " 15  StreamingTV       7032 non-null   object \n",
      " 16  StreamingMovies   7032 non-null   object \n",
      " 17  MultipleLines     7032 non-null   object \n",
      " 18  months            7032 non-null   int32  \n",
      "dtypes: float64(2), int32(1), int64(2), object(14)\n",
      "memory usage: 1.0+ MB\n"
     ]
    }
   ],
   "source": [
    "# Удаление ненужных столбцов\n",
    "df.drop(['customerID', 'BeginDate', 'EndDate'], axis=1, inplace=True)\n",
    "\n",
    "# Создание списков столбцов с числовыми и категориальеыми признаками\n",
    "columns = list(df)\n",
    "columns.remove('target')\n",
    "columns_num = ['MonthlyCharges', 'TotalCharges', 'months']\n",
    "columns_cat = list(set(columns)-set(columns_num))\n",
    "\n",
    "print(' Числовые признаки:', columns_num,'\\n'*2,\n",
    "      'Категориальные признаки:', columns_cat, '\\n')\n",
    "df.info()"
   ]
  },
  {
   "cell_type": "markdown",
   "id": "0a5ef525",
   "metadata": {},
   "source": [
    "### Вывод\n",
    "Из итоговой таблицы удалены лишние стобцы: 'EndDate' - создает утечку целевого признака, 'customerID' - не влияет на целевой признак, 'BeginDate' - заменен более информативным признаком 'months'.  \n",
    "В итоговой таблице остуствуют пропуски, числовые признаки в числовом формате.  \n",
    "Созданы списки чиловых и категориальных признаков."
   ]
  },
  {
   "cell_type": "markdown",
   "id": "083d78f4",
   "metadata": {},
   "source": [
    "## Обучение моделей"
   ]
  },
  {
   "cell_type": "code",
   "execution_count": 17,
   "id": "15b3644c",
   "metadata": {},
   "outputs": [],
   "source": [
    "# Функция разбиения датасета на обучающую и тестовую выборки\n",
    "def split():\n",
    "    global target, features, features_train, features_test, target_train, target_test\n",
    "    target = df['target']\n",
    "    features = df.drop(['target'], axis=1)\n",
    "    features_train, features_test, target_train, target_test = train_test_split(features, target, test_size=0.25,\n",
    "                                                                                  random_state=12345, stratify=df['target'])"
   ]
  },
  {
   "cell_type": "code",
   "execution_count": 18,
   "id": "28cbeac6",
   "metadata": {},
   "outputs": [],
   "source": [
    "# Функция построения ROC-кривой\n",
    "def grafic(model, features_test, target_test):\n",
    "    probs = model.predict_proba(features_test)\n",
    "    preds = probs[:,1]\n",
    "    fpr, tpr, threshold = roc_curve(target_test, preds)\n",
    "    roc_auc = auc(fpr, tpr)\n",
    "    plt.title('ROC-кривая')\n",
    "    plt.plot(fpr, tpr, 'b', label = 'AUC = %0.2f' % roc_auc)\n",
    "    plt.legend(loc = 'lower right')\n",
    "    plt.plot([0, 1], [0, 1],'r--')\n",
    "    plt.xlim([0, 1])\n",
    "    plt.ylim([0, 1])\n",
    "    plt.ylabel('True Positive Rate')\n",
    "    plt.xlabel('False Positive Rate')\n",
    "    plt.grid(color='#95a5a6', linestyle='--', linewidth=2, axis='y', alpha=0.7)\n",
    "    plt.show()"
   ]
  },
  {
   "cell_type": "code",
   "execution_count": 19,
   "id": "fd6a8627",
   "metadata": {
    "scrolled": false
   },
   "outputs": [],
   "source": [
    "# Функция построения графика важности факторов\n",
    "def feature_imp(model):\n",
    "    feat_importances = pd.Series(model.feature_importances_, index=features.columns)\n",
    "    plt.figure(figsize=(15, 7))\n",
    "    feat_importances.nlargest(19).plot(kind='barh')\n",
    "    plt.grid(color='#95a5a6', linestyle='--', linewidth=2, axis='both', alpha=0.7)\n",
    "    plt.title('График важности признаков')\n",
    "    plt.xlabel('Отностиельная важность')"
   ]
  },
  {
   "cell_type": "markdown",
   "id": "5303ed54",
   "metadata": {},
   "source": [
    "### CatBoostClassifier"
   ]
  },
  {
   "cell_type": "code",
   "execution_count": 20,
   "id": "0873a5a1",
   "metadata": {},
   "outputs": [
    {
     "data": {
      "application/vnd.jupyter.widget-view+json": {
       "model_id": "b98e72079ed7404f8afc5f0d050c8dcf",
       "version_major": 2,
       "version_minor": 0
      },
      "text/plain": [
       "MetricVisualizer(layout=Layout(align_self='stretch', height='500px'))"
      ]
     },
     "metadata": {},
     "output_type": "display_data"
    }
   ],
   "source": [
    "split()\n",
    "\n",
    "# установка параметров модели\n",
    "params = {\n",
    "    'iterations': 1000,\n",
    "    'learning_rate': 0.1,\n",
    "    'eval_metric': 'AUC',\n",
    "    'random_seed': 1234,\n",
    "    'logging_level': 'Silent',\n",
    "    'custom_loss': ['AUC', 'Accuracy'],\n",
    "    'random_seed': 12345,\n",
    "    'thread_count': 16\n",
    "     }\n",
    "\n",
    "train_pool = Pool(features_train, target_train, cat_features=columns_cat) # данные для обучения\n",
    "validate_pool = Pool(features_test, target_test, cat_features=columns_cat)# данные для тестирования\n",
    "\n",
    "# обучение модели\n",
    "model_cat = CatBoostClassifier(**params)\n",
    "model_cat.fit(train_pool, eval_set=validate_pool, plot=True) \n",
    "\n",
    "# Предсказание и получение метрик на тестовой выборке\n",
    "accur_ct =  accuracy_score(target_test, model_cat.predict(features_test))\n",
    "roc_auc_ct = roc_auc_score(target_test, model_cat.predict_proba(features_test)[:, 1])"
   ]
  },
  {
   "cell_type": "code",
   "execution_count": 21,
   "id": "b412574b",
   "metadata": {
    "scrolled": true
   },
   "outputs": [
    {
     "name": "stdout",
     "output_type": "stream",
     "text": [
      "Метрики полученные при использовании модели  CatBoostClassifier\n",
      "ROC AUC: 0.942\n",
      "Accuracy: 0.909\n"
     ]
    },
    {
     "data": {
      "image/png": "[encoded data removed]",
      "text/plain": [
       "<Figure size 432x288 with 1 Axes>"
      ]
     },
     "metadata": {
      "needs_background": "light"
     },
     "output_type": "display_data"
    }
   ],
   "source": [
    "# Вывод метрик и графика AUC ROC\n",
    "print(f'Метрики полученные при использовании модели  CatBoostClassifier' '\\n'\n",
    "      f'ROC AUC:{roc_auc_ct: .3}' '\\n'\n",
    "      f'Accuracy:{accur_ct: .3}')\n",
    "\n",
    "grafic(model_cat, features_test, target_test)"
   ]
  },
  {
   "cell_type": "markdown",
   "id": "dcb71def",
   "metadata": {},
   "source": [
    "####  Корретировка модели на основе важности признаков"
   ]
  },
  {
   "cell_type": "code",
   "execution_count": 22,
   "id": "8fee8f85",
   "metadata": {
    "scrolled": false
   },
   "outputs": [
    {
     "data": {
      "image/png": "[encoded data removed]",
      "text/plain": [
       "<Figure size 1080x504 with 1 Axes>"
      ]
     },
     "metadata": {
      "needs_background": "light"
     },
     "output_type": "display_data"
    }
   ],
   "source": [
    "# График важности факторов для модели CatBoostClassifier\n",
    "feature_imp(model_cat)"
   ]
  },
  {
   "cell_type": "code",
   "execution_count": 23,
   "id": "4c0ff2e9",
   "metadata": {},
   "outputs": [],
   "source": [
    "# Удаление слабозначимых признаков\n",
    "split()\n",
    "s = [features_train, features_test]\n",
    "features_train = features_train.loc[:, ['Type', 'MonthlyCharges', 'months', 'TotalCharges']]\n",
    "features_test = features_test.loc[:, ['Type', 'MonthlyCharges', 'months', 'TotalCharges']]"
   ]
  },
  {
   "cell_type": "code",
   "execution_count": 24,
   "id": "95b8bf6c",
   "metadata": {},
   "outputs": [
    {
     "data": {
      "application/vnd.jupyter.widget-view+json": {
       "model_id": "5ff958d8f15d42d4819a1f368f8d8357",
       "version_major": 2,
       "version_minor": 0
      },
      "text/plain": [
       "MetricVisualizer(layout=Layout(align_self='stretch', height='500px'))"
      ]
     },
     "metadata": {},
     "output_type": "display_data"
    }
   ],
   "source": [
    "# установка параметров модели\n",
    "params = {\n",
    "    'iterations': 1000,\n",
    "    'learning_rate': 0.1,\n",
    "    'eval_metric': 'AUC',\n",
    "    'random_seed': 1234,\n",
    "    'logging_level': 'Silent',\n",
    "    'custom_loss': ['AUC', 'Accuracy'],\n",
    "    'random_seed': 12345,\n",
    "    'thread_count': 16\n",
    "     }\n",
    "\n",
    "columns_cat1 = ['Type']\n",
    "# columns_cat1 = ['MultipleLines', 'PaymentMethod', 'InternetService', 'Type']\n",
    "train_pool = Pool(features_train, target_train, cat_features=columns_cat1) # данные для обучения\n",
    "validate_pool = Pool(features_test, target_test, cat_features=columns_cat1) # данные для тестирования\n",
    "\n",
    "# обучение модели\n",
    "model_cat = CatBoostClassifier(**params)\n",
    "model_cat.fit(train_pool, eval_set=validate_pool, plot=True) \n",
    "\n",
    "# Предсказание и получение метрик на тестовой выборке\n",
    "accur_ct =  accuracy_score(target_test, model_cat.predict(features_test))\n",
    "roc_auc_ct = roc_auc_score(target_test, model_cat.predict_proba(features_test)[:, 1])"
   ]
  },
  {
   "cell_type": "code",
   "execution_count": 25,
   "id": "fc3f09ae",
   "metadata": {
    "scrolled": false
   },
   "outputs": [
    {
     "name": "stdout",
     "output_type": "stream",
     "text": [
      "Метрики полученные при использовании модели  CatBoostClassifier\n",
      "ROC AUC: 0.95\n",
      "Accuracy: 0.919\n"
     ]
    },
    {
     "data": {
      "image/png": "[encoded data removed]",
      "text/plain": [
       "<Figure size 432x288 with 1 Axes>"
      ]
     },
     "metadata": {
      "needs_background": "light"
     },
     "output_type": "display_data"
    }
   ],
   "source": [
    "# Вывод метрик и графика AUC ROC\n",
    "print(f'Метрики полученные при использовании модели  CatBoostClassifier' '\\n'\n",
    "      f'ROC AUC:{roc_auc_ct: .3}' '\\n'\n",
    "      f'Accuracy:{accur_ct: .3}')\n",
    "\n",
    "grafic(model_cat, features_test, target_test)"
   ]
  },
  {
   "cell_type": "markdown",
   "id": "951a9b8c",
   "metadata": {},
   "source": [
    "#### Вывод\n",
    "Изменение набора признаков на основе важности позволила увеличить метрику ROC AUC  0.942 до 0.95"
   ]
  },
  {
   "cell_type": "markdown",
   "id": "39c4ffa5",
   "metadata": {},
   "source": [
    "### RandomForestClassifie"
   ]
  },
  {
   "cell_type": "code",
   "execution_count": 26,
   "id": "195a844d",
   "metadata": {},
   "outputs": [
    {
     "data": {
      "text/html": [
       "<div>\n",
       "<style scoped>\n",
       "    .dataframe tbody tr th:only-of-type {\n",
       "        vertical-align: middle;\n",
       "    }\n",
       "\n",
       "    .dataframe tbody tr th {\n",
       "        vertical-align: top;\n",
       "    }\n",
       "\n",
       "    .dataframe thead th {\n",
       "        text-align: right;\n",
       "    }\n",
       "</style>\n",
       "<table border=\"1\" class=\"dataframe\">\n",
       "  <thead>\n",
       "    <tr style=\"text-align: right;\">\n",
       "      <th></th>\n",
       "      <th>Type</th>\n",
       "      <th>PaperlessBilling</th>\n",
       "      <th>PaymentMethod</th>\n",
       "      <th>MonthlyCharges</th>\n",
       "      <th>TotalCharges</th>\n",
       "      <th>gender</th>\n",
       "      <th>SeniorCitizen</th>\n",
       "      <th>Partner</th>\n",
       "      <th>Dependents</th>\n",
       "      <th>InternetService</th>\n",
       "      <th>OnlineSecurity</th>\n",
       "      <th>OnlineBackup</th>\n",
       "      <th>DeviceProtection</th>\n",
       "      <th>TechSupport</th>\n",
       "      <th>StreamingTV</th>\n",
       "      <th>StreamingMovies</th>\n",
       "      <th>MultipleLines</th>\n",
       "      <th>months</th>\n",
       "    </tr>\n",
       "  </thead>\n",
       "  <tbody>\n",
       "    <tr>\n",
       "      <th>2165</th>\n",
       "      <td>1</td>\n",
       "      <td>0</td>\n",
       "      <td>3</td>\n",
       "      <td>20.20</td>\n",
       "      <td>273.25</td>\n",
       "      <td>0</td>\n",
       "      <td>0</td>\n",
       "      <td>0</td>\n",
       "      <td>0</td>\n",
       "      <td>2</td>\n",
       "      <td>2</td>\n",
       "      <td>2</td>\n",
       "      <td>2</td>\n",
       "      <td>2</td>\n",
       "      <td>2</td>\n",
       "      <td>2</td>\n",
       "      <td>0</td>\n",
       "      <td>13</td>\n",
       "    </tr>\n",
       "    <tr>\n",
       "      <th>3814</th>\n",
       "      <td>2</td>\n",
       "      <td>1</td>\n",
       "      <td>1</td>\n",
       "      <td>88.70</td>\n",
       "      <td>6301.70</td>\n",
       "      <td>1</td>\n",
       "      <td>0</td>\n",
       "      <td>1</td>\n",
       "      <td>0</td>\n",
       "      <td>0</td>\n",
       "      <td>1</td>\n",
       "      <td>1</td>\n",
       "      <td>1</td>\n",
       "      <td>1</td>\n",
       "      <td>1</td>\n",
       "      <td>1</td>\n",
       "      <td>1</td>\n",
       "      <td>71</td>\n",
       "    </tr>\n",
       "    <tr>\n",
       "      <th>2514</th>\n",
       "      <td>0</td>\n",
       "      <td>1</td>\n",
       "      <td>2</td>\n",
       "      <td>89.70</td>\n",
       "      <td>2187.55</td>\n",
       "      <td>0</td>\n",
       "      <td>1</td>\n",
       "      <td>0</td>\n",
       "      <td>0</td>\n",
       "      <td>1</td>\n",
       "      <td>0</td>\n",
       "      <td>1</td>\n",
       "      <td>0</td>\n",
       "      <td>0</td>\n",
       "      <td>0</td>\n",
       "      <td>1</td>\n",
       "      <td>1</td>\n",
       "      <td>27</td>\n",
       "    </tr>\n",
       "    <tr>\n",
       "      <th>3837</th>\n",
       "      <td>1</td>\n",
       "      <td>1</td>\n",
       "      <td>2</td>\n",
       "      <td>105.65</td>\n",
       "      <td>443.90</td>\n",
       "      <td>0</td>\n",
       "      <td>0</td>\n",
       "      <td>0</td>\n",
       "      <td>0</td>\n",
       "      <td>1</td>\n",
       "      <td>0</td>\n",
       "      <td>1</td>\n",
       "      <td>1</td>\n",
       "      <td>1</td>\n",
       "      <td>1</td>\n",
       "      <td>1</td>\n",
       "      <td>0</td>\n",
       "      <td>6</td>\n",
       "    </tr>\n",
       "    <tr>\n",
       "      <th>2573</th>\n",
       "      <td>0</td>\n",
       "      <td>1</td>\n",
       "      <td>3</td>\n",
       "      <td>54.75</td>\n",
       "      <td>54.75</td>\n",
       "      <td>0</td>\n",
       "      <td>0</td>\n",
       "      <td>0</td>\n",
       "      <td>0</td>\n",
       "      <td>0</td>\n",
       "      <td>0</td>\n",
       "      <td>0</td>\n",
       "      <td>0</td>\n",
       "      <td>0</td>\n",
       "      <td>0</td>\n",
       "      <td>1</td>\n",
       "      <td>0</td>\n",
       "      <td>2</td>\n",
       "    </tr>\n",
       "  </tbody>\n",
       "</table>\n",
       "</div>"
      ],
      "text/plain": [
       "      Type  PaperlessBilling  PaymentMethod  MonthlyCharges  TotalCharges  \\\n",
       "2165     1                 0              3           20.20        273.25   \n",
       "3814     2                 1              1           88.70       6301.70   \n",
       "2514     0                 1              2           89.70       2187.55   \n",
       "3837     1                 1              2          105.65        443.90   \n",
       "2573     0                 1              3           54.75         54.75   \n",
       "\n",
       "      gender  SeniorCitizen  Partner  Dependents  InternetService  \\\n",
       "2165       0              0        0           0                2   \n",
       "3814       1              0        1           0                0   \n",
       "2514       0              1        0           0                1   \n",
       "3837       0              0        0           0                1   \n",
       "2573       0              0        0           0                0   \n",
       "\n",
       "      OnlineSecurity  OnlineBackup  DeviceProtection  TechSupport  \\\n",
       "2165               2             2                 2            2   \n",
       "3814               1             1                 1            1   \n",
       "2514               0             1                 0            0   \n",
       "3837               0             1                 1            1   \n",
       "2573               0             0                 0            0   \n",
       "\n",
       "      StreamingTV  StreamingMovies  MultipleLines  months  \n",
       "2165            2                2              0      13  \n",
       "3814            1                1              1      71  \n",
       "2514            0                1              1      27  \n",
       "3837            1                1              0       6  \n",
       "2573            0                1              0       2  "
      ]
     },
     "execution_count": 26,
     "metadata": {},
     "output_type": "execute_result"
    }
   ],
   "source": [
    "split()\n",
    "\n",
    "# Предварительная обработка данных перед обучением модели\n",
    "\n",
    "# Кодирование методом LabelEncoder категориальных признаков\n",
    "labelencoder = LabelEncoder()\n",
    "for i in columns_cat:\n",
    "    features_train[i] = labelencoder.fit_transform(features_train[i])\n",
    "    features_test[i] = labelencoder.transform(features_test[i])\n",
    "\n",
    "features_train.head()"
   ]
  },
  {
   "cell_type": "code",
   "execution_count": 27,
   "id": "05df912f",
   "metadata": {},
   "outputs": [],
   "source": [
    "# Сетка гиперпараметров\n",
    "parametrs = { 'n_estimators': range(10, 31, 10),\n",
    "              'max_depth': range(1, 11, 2),\n",
    "              'min_samples_leaf': range(1, 8),\n",
    "              'min_samples_split': range(2, 10, 2),\n",
    "              'class_weight': ['balanced'] }\n",
    "\n",
    "# Обучение модели с кросс-валидацией\n",
    "model_rf = GridSearchCV(RandomForestClassifier(), parametrs, cv=5, scoring='roc_auc', n_jobs=-1)\n",
    "model_rf.fit(features_train, target_train)\n",
    "pred_rf = model_rf.predict(features_test)\n",
    "\n",
    "# Предсказание и получение метрик на тестовой выборке\n",
    "accur_rf = accuracy_score(target_test, pred_rf)\n",
    "roc_auc_rf = roc_auc_score(target_test, model_rf.predict_proba(features_test)[:, 1])"
   ]
  },
  {
   "cell_type": "code",
   "execution_count": 28,
   "id": "b76378fb",
   "metadata": {
    "scrolled": true
   },
   "outputs": [
    {
     "name": "stdout",
     "output_type": "stream",
     "text": [
      "Метрики полученные при использовании модели RandomForestClassifier:\n",
      "ROC AUC: 0.884\n",
      "Accuracy: 0.804\n"
     ]
    },
    {
     "data": {
      "image/png": "[encoded data removed]",
      "text/plain": [
       "<Figure size 432x288 with 1 Axes>"
      ]
     },
     "metadata": {
      "needs_background": "light"
     },
     "output_type": "display_data"
    }
   ],
   "source": [
    "# Вывод метрик и графика AUC ROC\n",
    "print(f'Метрики полученные при использовании модели RandomForestClassifier:' '\\n'\n",
    "      f'ROC AUC:{roc_auc_rf: .3}' '\\n'\n",
    "      f'Accuracy:{accur_rf: .3}')\n",
    "\n",
    "grafic(model_rf, features_test, target_test)"
   ]
  },
  {
   "cell_type": "markdown",
   "id": "08c3aa32",
   "metadata": {},
   "source": [
    "####  Корретировка модели на основе важности признаков"
   ]
  },
  {
   "cell_type": "code",
   "execution_count": 29,
   "id": "94a446cd",
   "metadata": {
    "scrolled": false
   },
   "outputs": [
    {
     "data": {
      "image/png": "[encoded data removed]",
      "text/plain": [
       "<Figure size 1080x504 with 1 Axes>"
      ]
     },
     "metadata": {
      "needs_background": "light"
     },
     "output_type": "display_data"
    }
   ],
   "source": [
    "# График важности факторов для модели CatBoostClassifier\n",
    "feature_imp(model_rf.best_estimator_)"
   ]
  },
  {
   "cell_type": "code",
   "execution_count": 30,
   "id": "25273565",
   "metadata": {
    "scrolled": false
   },
   "outputs": [],
   "source": [
    "# Удаление слабозначимых признаков\n",
    "split()\n",
    "\n",
    "features_test = features_test.loc[:, ['MonthlyCharges', 'TotalCharges', 'Type', 'months']]\n",
    "features_train = features_train.loc[:, ['MonthlyCharges', 'TotalCharges', 'Type', 'months']]\n",
    "\n",
    "# Кодирование методом LabelEncoder категориальных признаков\n",
    "columns_cat2 = ['Type']\n",
    "labelencoder = LabelEncoder()\n",
    "for i in columns_cat2:\n",
    "    features_train[i] = labelencoder.fit_transform(features_train[i])\n",
    "    features_test[i] = labelencoder.transform(features_test[i])"
   ]
  },
  {
   "cell_type": "code",
   "execution_count": 31,
   "id": "cb7f77ed",
   "metadata": {},
   "outputs": [],
   "source": [
    "# Сетка гиперпараметров\n",
    "parametrs = { 'n_estimators': range(10, 31, 10),\n",
    "              'max_depth': range(1, 11, 2),\n",
    "              'min_samples_leaf': range(1, 8),\n",
    "              'min_samples_split': range(2, 10, 2),\n",
    "              'class_weight': ['balanced'] }\n",
    "\n",
    "# Обучение модели с кросс-валидацией\n",
    "model_rf = GridSearchCV(RandomForestClassifier(), parametrs, cv=5, scoring='roc_auc', n_jobs=-1)\n",
    "model_rf.fit(features_train, target_train)\n",
    "pred_rf = model_rf.predict(features_test)\n",
    "\n",
    "# Предсказание и получение метрик на тестовой выборке\n",
    "accur_rf = accuracy_score(target_test, pred_rf)\n",
    "roc_auc_rf = roc_auc_score(target_test, model_rf.predict_proba(features_test)[:, 1])"
   ]
  },
  {
   "cell_type": "code",
   "execution_count": 32,
   "id": "8d5f3923",
   "metadata": {
    "scrolled": false
   },
   "outputs": [
    {
     "name": "stdout",
     "output_type": "stream",
     "text": [
      "Метрики полученные при использовании модели RandomForestClassifier:\n",
      "ROC AUC: 0.9\n",
      "Accuracy: 0.828\n"
     ]
    },
    {
     "data": {
      "image/png": "[encoded data removed]",
      "text/plain": [
       "<Figure size 432x288 with 1 Axes>"
      ]
     },
     "metadata": {
      "needs_background": "light"
     },
     "output_type": "display_data"
    }
   ],
   "source": [
    "# Вывод метрик и графика AUC ROC\n",
    "print(f'Метрики полученные при использовании модели RandomForestClassifier:' '\\n'\n",
    "      f'ROC AUC:{roc_auc_rf: .3}' '\\n'\n",
    "      f'Accuracy:{accur_rf: .3}')\n",
    "\n",
    "grafic(model_rf, features_test, target_test)"
   ]
  },
  {
   "cell_type": "markdown",
   "id": "79ff50b6",
   "metadata": {},
   "source": [
    "#### Вывод\n",
    "Изменение набора признаков на основе важности позволила увеличить метрику ROC AUC  0.886 до 0.901"
   ]
  },
  {
   "cell_type": "markdown",
   "id": "4a39ef87",
   "metadata": {},
   "source": [
    "### LogisticRegression"
   ]
  },
  {
   "cell_type": "code",
   "execution_count": 33,
   "id": "cd87637f",
   "metadata": {},
   "outputs": [
    {
     "data": {
      "text/html": [
       "<div>\n",
       "<style scoped>\n",
       "    .dataframe tbody tr th:only-of-type {\n",
       "        vertical-align: middle;\n",
       "    }\n",
       "\n",
       "    .dataframe tbody tr th {\n",
       "        vertical-align: top;\n",
       "    }\n",
       "\n",
       "    .dataframe thead th {\n",
       "        text-align: right;\n",
       "    }\n",
       "</style>\n",
       "<table border=\"1\" class=\"dataframe\">\n",
       "  <thead>\n",
       "    <tr style=\"text-align: right;\">\n",
       "      <th></th>\n",
       "      <th>MonthlyCharges</th>\n",
       "      <th>TotalCharges</th>\n",
       "      <th>months</th>\n",
       "      <th>StreamingMovies_Yes</th>\n",
       "      <th>StreamingMovies_no</th>\n",
       "      <th>Type_One year</th>\n",
       "      <th>Type_Two year</th>\n",
       "      <th>Partner_Yes</th>\n",
       "      <th>SeniorCitizen_1</th>\n",
       "      <th>MultipleLines_Yes</th>\n",
       "      <th>...</th>\n",
       "      <th>InternetService_no</th>\n",
       "      <th>Dependents_Yes</th>\n",
       "      <th>StreamingTV_Yes</th>\n",
       "      <th>StreamingTV_no</th>\n",
       "      <th>gender_Male</th>\n",
       "      <th>OnlineSecurity_Yes</th>\n",
       "      <th>OnlineSecurity_no</th>\n",
       "      <th>PaperlessBilling_Yes</th>\n",
       "      <th>DeviceProtection_Yes</th>\n",
       "      <th>DeviceProtection_no</th>\n",
       "    </tr>\n",
       "  </thead>\n",
       "  <tbody>\n",
       "    <tr>\n",
       "      <th>2165</th>\n",
       "      <td>0.019432</td>\n",
       "      <td>0.029412</td>\n",
       "      <td>0.160000</td>\n",
       "      <td>0</td>\n",
       "      <td>1</td>\n",
       "      <td>1</td>\n",
       "      <td>0</td>\n",
       "      <td>0</td>\n",
       "      <td>0</td>\n",
       "      <td>0</td>\n",
       "      <td>...</td>\n",
       "      <td>1</td>\n",
       "      <td>0</td>\n",
       "      <td>0</td>\n",
       "      <td>1</td>\n",
       "      <td>0</td>\n",
       "      <td>0</td>\n",
       "      <td>1</td>\n",
       "      <td>0</td>\n",
       "      <td>0</td>\n",
       "      <td>1</td>\n",
       "    </tr>\n",
       "    <tr>\n",
       "      <th>3814</th>\n",
       "      <td>0.702043</td>\n",
       "      <td>0.726238</td>\n",
       "      <td>0.933333</td>\n",
       "      <td>1</td>\n",
       "      <td>0</td>\n",
       "      <td>0</td>\n",
       "      <td>1</td>\n",
       "      <td>1</td>\n",
       "      <td>0</td>\n",
       "      <td>1</td>\n",
       "      <td>...</td>\n",
       "      <td>0</td>\n",
       "      <td>0</td>\n",
       "      <td>1</td>\n",
       "      <td>0</td>\n",
       "      <td>1</td>\n",
       "      <td>1</td>\n",
       "      <td>0</td>\n",
       "      <td>1</td>\n",
       "      <td>1</td>\n",
       "      <td>0</td>\n",
       "    </tr>\n",
       "    <tr>\n",
       "      <th>2514</th>\n",
       "      <td>0.712008</td>\n",
       "      <td>0.250685</td>\n",
       "      <td>0.346667</td>\n",
       "      <td>1</td>\n",
       "      <td>0</td>\n",
       "      <td>0</td>\n",
       "      <td>0</td>\n",
       "      <td>0</td>\n",
       "      <td>1</td>\n",
       "      <td>1</td>\n",
       "      <td>...</td>\n",
       "      <td>0</td>\n",
       "      <td>0</td>\n",
       "      <td>0</td>\n",
       "      <td>0</td>\n",
       "      <td>0</td>\n",
       "      <td>0</td>\n",
       "      <td>0</td>\n",
       "      <td>1</td>\n",
       "      <td>0</td>\n",
       "      <td>0</td>\n",
       "    </tr>\n",
       "    <tr>\n",
       "      <th>3837</th>\n",
       "      <td>0.870952</td>\n",
       "      <td>0.049137</td>\n",
       "      <td>0.066667</td>\n",
       "      <td>1</td>\n",
       "      <td>0</td>\n",
       "      <td>1</td>\n",
       "      <td>0</td>\n",
       "      <td>0</td>\n",
       "      <td>0</td>\n",
       "      <td>0</td>\n",
       "      <td>...</td>\n",
       "      <td>0</td>\n",
       "      <td>0</td>\n",
       "      <td>1</td>\n",
       "      <td>0</td>\n",
       "      <td>0</td>\n",
       "      <td>0</td>\n",
       "      <td>0</td>\n",
       "      <td>1</td>\n",
       "      <td>1</td>\n",
       "      <td>0</td>\n",
       "    </tr>\n",
       "    <tr>\n",
       "      <th>2573</th>\n",
       "      <td>0.363727</td>\n",
       "      <td>0.004155</td>\n",
       "      <td>0.013333</td>\n",
       "      <td>1</td>\n",
       "      <td>0</td>\n",
       "      <td>0</td>\n",
       "      <td>0</td>\n",
       "      <td>0</td>\n",
       "      <td>0</td>\n",
       "      <td>0</td>\n",
       "      <td>...</td>\n",
       "      <td>0</td>\n",
       "      <td>0</td>\n",
       "      <td>0</td>\n",
       "      <td>0</td>\n",
       "      <td>0</td>\n",
       "      <td>0</td>\n",
       "      <td>0</td>\n",
       "      <td>1</td>\n",
       "      <td>0</td>\n",
       "      <td>0</td>\n",
       "    </tr>\n",
       "  </tbody>\n",
       "</table>\n",
       "<p>5 rows × 29 columns</p>\n",
       "</div>"
      ],
      "text/plain": [
       "      MonthlyCharges  TotalCharges    months  StreamingMovies_Yes  \\\n",
       "2165        0.019432      0.029412  0.160000                    0   \n",
       "3814        0.702043      0.726238  0.933333                    1   \n",
       "2514        0.712008      0.250685  0.346667                    1   \n",
       "3837        0.870952      0.049137  0.066667                    1   \n",
       "2573        0.363727      0.004155  0.013333                    1   \n",
       "\n",
       "      StreamingMovies_no  Type_One year  Type_Two year  Partner_Yes  \\\n",
       "2165                   1              1              0            0   \n",
       "3814                   0              0              1            1   \n",
       "2514                   0              0              0            0   \n",
       "3837                   0              1              0            0   \n",
       "2573                   0              0              0            0   \n",
       "\n",
       "      SeniorCitizen_1  MultipleLines_Yes  ...  InternetService_no  \\\n",
       "2165                0                  0  ...                   1   \n",
       "3814                0                  1  ...                   0   \n",
       "2514                1                  1  ...                   0   \n",
       "3837                0                  0  ...                   0   \n",
       "2573                0                  0  ...                   0   \n",
       "\n",
       "      Dependents_Yes  StreamingTV_Yes  StreamingTV_no  gender_Male  \\\n",
       "2165               0                0               1            0   \n",
       "3814               0                1               0            1   \n",
       "2514               0                0               0            0   \n",
       "3837               0                1               0            0   \n",
       "2573               0                0               0            0   \n",
       "\n",
       "      OnlineSecurity_Yes  OnlineSecurity_no  PaperlessBilling_Yes  \\\n",
       "2165                   0                  1                     0   \n",
       "3814                   1                  0                     1   \n",
       "2514                   0                  0                     1   \n",
       "3837                   0                  0                     1   \n",
       "2573                   0                  0                     1   \n",
       "\n",
       "      DeviceProtection_Yes  DeviceProtection_no  \n",
       "2165                     0                    1  \n",
       "3814                     1                    0  \n",
       "2514                     0                    0  \n",
       "3837                     1                    0  \n",
       "2573                     0                    0  \n",
       "\n",
       "[5 rows x 29 columns]"
      ]
     },
     "execution_count": 33,
     "metadata": {},
     "output_type": "execute_result"
    }
   ],
   "source": [
    "split()\n",
    "\n",
    "# Предварительная обработка данных перед обучением модели\n",
    "\n",
    "# Кодирование методом One-Hot Encoding категориальных признаков\n",
    "features_train = pd.get_dummies(features_train, columns=columns_cat, drop_first=True)\n",
    "features_test = pd.get_dummies(features_test, columns=columns_cat, drop_first=True)\n",
    "\n",
    "# Массштабирование числовых признаков\n",
    "scaler = MinMaxScaler()\n",
    "for i in columns_num:\n",
    "    features_train[i] = scaler.fit_transform(features_train.loc[:, [i]])\n",
    "    features_test[i] = scaler.transform(features_test.loc[:, [i]])\n",
    "    \n",
    "features_train.head()"
   ]
  },
  {
   "cell_type": "code",
   "execution_count": 34,
   "id": "92f08b58",
   "metadata": {},
   "outputs": [],
   "source": [
    "# Сетка гиперпараметров\n",
    "parametrs = {'C': [0.001,0.01,0.1,1,10,100,1000],\n",
    "                 'solver': ['lbfgs', 'liblinear'], 'class_weight': ['balanced'] }\n",
    "\n",
    "# Обучение модели с кросс-валидацией\n",
    "model_log = GridSearchCV(LogisticRegression(), parametrs, cv=5, scoring='roc_auc', n_jobs=-1)\n",
    "model_log.fit(features_train, target_train)\n",
    "\n",
    "# Предсказание и получение метрик на тестовой выборке\n",
    "pred_log = model_log.predict(features_test)\n",
    "acc_log = accuracy_score(target_test, pred_log)\n",
    "roc_auc_log = roc_auc_score(target_test, model_log.predict_proba(features_test)[:, 1])"
   ]
  },
  {
   "cell_type": "code",
   "execution_count": 35,
   "id": "c4000855",
   "metadata": {
    "scrolled": true
   },
   "outputs": [
    {
     "name": "stdout",
     "output_type": "stream",
     "text": [
      "Метрики полученные при использовании модели LogisticRegression:\n",
      " ROC AUC: 0.847\n",
      "Accuracy: 0.743\n"
     ]
    },
    {
     "data": {
      "image/png": "[encoded data removed]",
      "text/plain": [
       "<Figure size 432x288 with 1 Axes>"
      ]
     },
     "metadata": {
      "needs_background": "light"
     },
     "output_type": "display_data"
    }
   ],
   "source": [
    "# Вывод метрик и графика ROC AUC\n",
    "print(f'Метрики полученные при использовании модели LogisticRegression:' '\\n'\n",
    "      f' ROC AUC:{roc_auc_log: .3}' '\\n'\n",
    "      f'Accuracy:{acc_log: .3}')\n",
    "\n",
    "grafic(model_log, features_test, target_test)"
   ]
  },
  {
   "cell_type": "markdown",
   "id": "9a523a3b",
   "metadata": {},
   "source": [
    "####  Корретировка модели на основе коэффицентов важности признаков"
   ]
  },
  {
   "cell_type": "code",
   "execution_count": 36,
   "id": "7bab53cb",
   "metadata": {},
   "outputs": [
    {
     "data": {
      "image/png": "[encoded data removed]",
      "text/plain": [
       "<Figure size 720x864 with 1 Axes>"
      ]
     },
     "metadata": {
      "needs_background": "light"
     },
     "output_type": "display_data"
    }
   ],
   "source": [
    "# Обучение модели, и вывод коэфициентов по каждому признаку в виде графика\n",
    "\n",
    "plt.figure(figsize=(10, 12))\n",
    "plt.grid(color='#95a5a6', linestyle='--', linewidth=2, axis='both', alpha=0.7)\n",
    "ax1 = plt.subplot()\n",
    "ax1.set_yticks(range(29))\n",
    "ax1.set_yticklabels(list(features_train))\n",
    "plt.ylabel('Признаки')\n",
    "plt.xlabel('coef')\n",
    "\n",
    "# Вычисление коэфициентов \n",
    "importance = model_log.best_estimator_.coef_[0]\n",
    "\n",
    "plt.barh([x for x in range(len(importance))], importance)\n",
    "plt.show()"
   ]
  },
  {
   "cell_type": "code",
   "execution_count": 37,
   "id": "bd5ddccb",
   "metadata": {},
   "outputs": [],
   "source": [
    "# Удаление признаков c низкими коэффицентами\n",
    "split()\n",
    "\n",
    "features_test = features_test.loc[:, ['Type', 'PaymentMethod', 'PaperlessBilling', 'StreamingMovies', 'StreamingTV',\n",
    "              'InternetService','TotalCharges','MonthlyCharges']]\n",
    "features_train = features_train.loc[:, ['Type', 'PaymentMethod', 'PaperlessBilling', 'StreamingMovies', 'StreamingTV',\n",
    "              'InternetService','TotalCharges','MonthlyCharges']]    \n",
    "    \n",
    "# Кодирование методом One-Hot Encoding категориальных признаков\n",
    "columns_cat3 =  ['Type', 'PaymentMethod', 'PaperlessBilling', \n",
    "                 'StreamingMovies', 'StreamingTV',  'InternetService']\n",
    "features_train = pd.get_dummies(features_train, columns=columns_cat3, drop_first=True)\n",
    "features_test = pd.get_dummies(features_test, columns=columns_cat3, drop_first=True)\n",
    "\n",
    "# Массштабирование числовых признаков\n",
    "columns_num3 = ['TotalCharges','MonthlyCharges']\n",
    "scaler = MinMaxScaler()\n",
    "for i in columns_num3:\n",
    "    features_train[i] = scaler.fit_transform(features_train.loc[:, [i]])\n",
    "    features_test[i] = scaler.transform(features_test.loc[:, [i]])"
   ]
  },
  {
   "cell_type": "code",
   "execution_count": 38,
   "id": "39d80b99",
   "metadata": {},
   "outputs": [],
   "source": [
    "# Сетка гиперпараметров\n",
    "parametrs = {'C': [0.001,0.01,0.1,1,10,100,1000],\n",
    "                 'solver': ['lbfgs', 'liblinear'], 'class_weight': ['balanced'] }\n",
    "\n",
    "# Обучение модели с кросс-валидацией\n",
    "model_log = GridSearchCV(LogisticRegression(), parametrs, cv=5, scoring='roc_auc', n_jobs=-1)\n",
    "model_log.fit(features_train, target_train)\n",
    "\n",
    "# Предсказание и получение метрик на тестовой выборке\n",
    "pred_log = model_log.predict(features_test)\n",
    "acc_log = accuracy_score(target_test, pred_log)\n",
    "roc_auc_log = roc_auc_score(target_test, model_log.predict_proba(features_test)[:, 1])"
   ]
  },
  {
   "cell_type": "code",
   "execution_count": 39,
   "id": "b852fa4c",
   "metadata": {
    "scrolled": true
   },
   "outputs": [
    {
     "name": "stdout",
     "output_type": "stream",
     "text": [
      "Метрики полученные при использовании модели LogisticRegression:\n",
      " ROC AUC: 0.844\n",
      "Accuracy: 0.741\n"
     ]
    },
    {
     "data": {
      "image/png": "[encoded data removed]",
      "text/plain": [
       "<Figure size 432x288 with 1 Axes>"
      ]
     },
     "metadata": {
      "needs_background": "light"
     },
     "output_type": "display_data"
    }
   ],
   "source": [
    "# Вывод метрик и графика ROC AUC\n",
    "print(f'Метрики полученные при использовании модели LogisticRegression:' '\\n'\n",
    "      f' ROC AUC:{roc_auc_log: .3}' '\\n'\n",
    "      f'Accuracy:{acc_log: .3}')\n",
    "\n",
    "grafic(model_log, features_test, target_test)"
   ]
  },
  {
   "cell_type": "markdown",
   "id": "62cfde54",
   "metadata": {},
   "source": [
    "#### Вывод\n",
    "Корретировка модели на основе коэффицентов важности призназнаков не увеличила метрику ROC AUC"
   ]
  },
  {
   "cell_type": "markdown",
   "id": "6d15bc09",
   "metadata": {},
   "source": [
    "### Проверка модели на адекватность Dummy классификатором"
   ]
  },
  {
   "cell_type": "code",
   "execution_count": 40,
   "id": "d57e0484",
   "metadata": {},
   "outputs": [
    {
     "name": "stdout",
     "output_type": "stream",
     "text": [
      "Метрики полученные при использовании Dummy классификатора:\n",
      "ROC AUC: 0.505\n",
      "Accuracy: 0.734\n"
     ]
    }
   ],
   "source": [
    "split()\n",
    "strategies = ['most_frequent', 'prior', 'stratified', 'uniform', 'constant']\n",
    "roc_auc_scores = []\n",
    "accuracy_scores = []\n",
    "\n",
    "for s in strategies:\n",
    "    if s == 'constant':\n",
    "        model_dm = DummyClassifier(strategy = s, random_state = 12345, constant = 0)\n",
    "    else:\n",
    "        model_dm = DummyClassifier(strategy = s, random_state = 12345)\n",
    "        model_dm.fit(features_train, target_train)\n",
    "\n",
    "        pred_d = model_dm.predict(features_test)\n",
    "        accuracy = accuracy_score(target_test, pred_d)\n",
    "        accuracy_scores.append(accuracy)\n",
    "\n",
    "        roc_auc_dm = roc_auc_score(target_test, model_dm.predict_proba(target_test)[:, 1])\n",
    "        roc_auc_scores.append(roc_auc_dm)\n",
    "\n",
    "        \n",
    "print(f'Метрики полученные при использовании Dummy классификатора:' '\\n'\n",
    "      f'ROC AUC:{max(roc_auc_scores): .3}' '\\n'\n",
    "      f'Accuracy:{max(accuracy_scores): .3}')      "
   ]
  },
  {
   "cell_type": "markdown",
   "id": "f95afaa9",
   "metadata": {},
   "source": [
    "#### Вывод\n",
    "Модели, применённые  в проекте прошли проверку на адекватность, так как метрики полученные при использовании Dummy классификатора значительно хуже метрик рабочих моделей."
   ]
  },
  {
   "cell_type": "markdown",
   "id": "2750b29c",
   "metadata": {},
   "source": [
    "## Вывод\n",
    "В данном проекте решалась задача прогнозирование оттока клиентов оператора связи «Ниединогоразрыва.ком» с помощью моделей машинного обучения. Точность предсказаний оттока клиентов описывается метриками ROC AUC и  Accuracy. Величина ROC AUC должна быть не ниже 0.75.  \n",
    "\n",
    "Были представлены 4 датасета с данными пользователей и информацией по использованным услугам. Предоставленные данные были обработаны: удалены пропуски, преобразованы типы данных столбцов. Все данные были объединены в одну таблицу. На основе одного из признаков ‘EndDate’ был создан столбец с целевым признаком.  \n",
    "Для получения прогнозов ухода клиентов были использованы 3 модели машинного обучения CatBoostClassifier, RandomForestClassifier, LogisticRegression. Для моделей RandomForestClassifier, LogisticRegression дополнительно проводилась предобработка данных с учетом особенностей работы моделей.\n",
    "Перед использованием моделей вся данные разбивались на обучающую и тестовую выборки. Обучение моделей проводилось на обучающей выборке. Проверка работы моделей производилось на тестовой выборке.  \n",
    "По каждой модели были получены метрики ROC AUC  Accuracy показывающие точность предсказаний. Самые высокие показатели метрик у модели CatBoostClassifie: ROC AUC 0.94  Accuracy 0.91, ниже показатели у модели RandomForestClassifier:  ROC AUC 0.88  Accuracy 0.80, самые низкие показатели метрик у модели LogisticRegression: ROC AUC 0.85  Accuracy 0.74. Все модели   прошли проверку на адекватность.  \n",
    "Анализ важности факторов на использованных моделях показал, что имеются признаки оказывающие значительное влияние на уход клиентов:  'Всего потрачено денег на услуги', 'Ежемесячные траты на услуги', 'Тип оплаты', 'Количество месяцев с момента заключения договора'.\n",
    "\n",
    "Полученные показатели метрик позволяют утверждать, что проект решает поставленную задачу."
   ]
  }
 ],
 "metadata": {
  "ExecuteTimeLog": [
   {
    "duration": 1449,
    "start_time": "2022-07-17T06:02:35.361Z"
   },
   {
    "duration": 355,
    "start_time": "2022-07-17T06:02:36.813Z"
   },
   {
    "duration": 25,
    "start_time": "2022-07-17T06:04:20.748Z"
   },
   {
    "duration": 7,
    "start_time": "2022-07-17T06:04:49.886Z"
   },
   {
    "duration": 56,
    "start_time": "2022-07-17T06:05:13.581Z"
   },
   {
    "duration": 29,
    "start_time": "2022-07-17T06:05:19.808Z"
   },
   {
    "duration": 17,
    "start_time": "2022-07-17T06:06:31.668Z"
   },
   {
    "duration": 12,
    "start_time": "2022-07-17T06:06:32.913Z"
   },
   {
    "duration": 3,
    "start_time": "2022-07-17T06:06:35.775Z"
   },
   {
    "duration": 294,
    "start_time": "2022-07-17T06:06:38.079Z"
   },
   {
    "duration": 367,
    "start_time": "2022-07-17T06:06:38.997Z"
   },
   {
    "duration": 25,
    "start_time": "2022-07-17T06:06:39.969Z"
   },
   {
    "duration": 313,
    "start_time": "2022-07-17T06:06:40.864Z"
   },
   {
    "duration": 20,
    "start_time": "2022-07-17T06:06:41.924Z"
   },
   {
    "duration": 11,
    "start_time": "2022-07-17T06:06:42.730Z"
   },
   {
    "duration": 20,
    "start_time": "2022-07-17T06:08:51.062Z"
   }
  ],
  "kernelspec": {
   "display_name": "Python 3 (ipykernel)",
   "language": "python",
   "name": "python3"
  },
  "language_info": {
   "codemirror_mode": {
    "name": "ipython",
    "version": 3
   },
   "file_extension": ".py",
   "mimetype": "text/x-python",
   "name": "python",
   "nbconvert_exporter": "python",
   "pygments_lexer": "ipython3",
   "version": "3.9.7"
  },
  "toc": {
   "base_numbering": 1,
   "nav_menu": {},
   "number_sections": true,
   "sideBar": true,
   "skip_h1_title": true,
   "title_cell": "Table of Contents",
   "title_sidebar": "Contents",
   "toc_cell": true,
   "toc_position": {
    "height": "calc(100% - 180px)",
    "left": "10px",
    "top": "150px",
    "width": "319.533px"
   },
   "toc_section_display": true,
   "toc_window_display": true
  }
 },
 "nbformat": 4,
 "nbformat_minor": 5
}
