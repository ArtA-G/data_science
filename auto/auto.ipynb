{
 "cells": [
  {
   "cell_type": "markdown",
   "metadata": {},
   "source": [
    "# Определение стоимости автомобилей"
   ]
  },
  {
   "cell_type": "markdown",
   "metadata": {},
   "source": [
    "Цель проекта - определение рыночной стоимости автомобиля по его описанию.\n",
    "Для решения задачи предосмтавлен датасет с историческими данными: техническими характеристиками, комплектацией и ценой автомобилей.\n",
    "Заказчику важны:\n",
    "- качество предсказания;\n",
    "- скорость предсказания;\n",
    "- время обучения."
   ]
  },
  {
   "cell_type": "markdown",
   "metadata": {},
   "source": [
    "## Подготовка данных"
   ]
  },
  {
   "cell_type": "code",
   "execution_count": 1,
   "metadata": {},
   "outputs": [],
   "source": [
    "import pandas as pd\n",
    "import numpy as np\n",
    "import matplotlib.pyplot as plt\n",
    "import seaborn as sns\n",
    "from sklearn.model_selection import train_test_split\n",
    "from sklearn.model_selection import cross_val_score\n",
    "from sklearn.model_selection import RepeatedKFold\n",
    "from sklearn.metrics import mean_squared_error\n",
    "from sklearn.linear_model import LinearRegression\n",
    "from sklearn.model_selection import GridSearchCV\n",
    "from catboost import Pool, CatBoostRegressor\n",
    "import lightgbm as lgb\n",
    "import time\n",
    "from sklearn.dummy import DummyRegressor\n",
    "from sklearn import preprocessing\n",
    "import warnings\n",
    "warnings.filterwarnings('ignore')"
   ]
  },
  {
   "cell_type": "code",
   "execution_count": 2,
   "metadata": {
    "scrolled": false
   },
   "outputs": [
    {
     "name": "stdout",
     "output_type": "stream",
     "text": [
      "<class 'pandas.core.frame.DataFrame'>\n",
      "RangeIndex: 354369 entries, 0 to 354368\n",
      "Data columns (total 16 columns):\n",
      " #   Column             Non-Null Count   Dtype \n",
      "---  ------             --------------   ----- \n",
      " 0   DateCrawled        354369 non-null  object\n",
      " 1   Price              354369 non-null  int64 \n",
      " 2   VehicleType        316879 non-null  object\n",
      " 3   RegistrationYear   354369 non-null  int64 \n",
      " 4   Gearbox            334536 non-null  object\n",
      " 5   Power              354369 non-null  int64 \n",
      " 6   Model              334664 non-null  object\n",
      " 7   Kilometer          354369 non-null  int64 \n",
      " 8   RegistrationMonth  354369 non-null  int64 \n",
      " 9   FuelType           321474 non-null  object\n",
      " 10  Brand              354369 non-null  object\n",
      " 11  NotRepaired        283215 non-null  object\n",
      " 12  DateCreated        354369 non-null  object\n",
      " 13  NumberOfPictures   354369 non-null  int64 \n",
      " 14  PostalCode         354369 non-null  int64 \n",
      " 15  LastSeen           354369 non-null  object\n",
      "dtypes: int64(7), object(9)\n",
      "memory usage: 43.3+ MB\n"
     ]
    },
    {
     "data": {
      "text/html": [
       "<div>\n",
       "<style scoped>\n",
       "    .dataframe tbody tr th:only-of-type {\n",
       "        vertical-align: middle;\n",
       "    }\n",
       "\n",
       "    .dataframe tbody tr th {\n",
       "        vertical-align: top;\n",
       "    }\n",
       "\n",
       "    .dataframe thead th {\n",
       "        text-align: right;\n",
       "    }\n",
       "</style>\n",
       "<table border=\"1\" class=\"dataframe\">\n",
       "  <thead>\n",
       "    <tr style=\"text-align: right;\">\n",
       "      <th></th>\n",
       "      <th>DateCrawled</th>\n",
       "      <th>Price</th>\n",
       "      <th>VehicleType</th>\n",
       "      <th>RegistrationYear</th>\n",
       "      <th>Gearbox</th>\n",
       "      <th>Power</th>\n",
       "      <th>Model</th>\n",
       "      <th>Kilometer</th>\n",
       "      <th>RegistrationMonth</th>\n",
       "      <th>FuelType</th>\n",
       "      <th>Brand</th>\n",
       "      <th>NotRepaired</th>\n",
       "      <th>DateCreated</th>\n",
       "      <th>NumberOfPictures</th>\n",
       "      <th>PostalCode</th>\n",
       "      <th>LastSeen</th>\n",
       "    </tr>\n",
       "  </thead>\n",
       "  <tbody>\n",
       "    <tr>\n",
       "      <th>0</th>\n",
       "      <td>2016-03-24 11:52:17</td>\n",
       "      <td>480</td>\n",
       "      <td>NaN</td>\n",
       "      <td>1993</td>\n",
       "      <td>manual</td>\n",
       "      <td>0</td>\n",
       "      <td>golf</td>\n",
       "      <td>150000</td>\n",
       "      <td>0</td>\n",
       "      <td>petrol</td>\n",
       "      <td>volkswagen</td>\n",
       "      <td>NaN</td>\n",
       "      <td>2016-03-24 00:00:00</td>\n",
       "      <td>0</td>\n",
       "      <td>70435</td>\n",
       "      <td>2016-04-07 03:16:57</td>\n",
       "    </tr>\n",
       "    <tr>\n",
       "      <th>1</th>\n",
       "      <td>2016-03-24 10:58:45</td>\n",
       "      <td>18300</td>\n",
       "      <td>coupe</td>\n",
       "      <td>2011</td>\n",
       "      <td>manual</td>\n",
       "      <td>190</td>\n",
       "      <td>NaN</td>\n",
       "      <td>125000</td>\n",
       "      <td>5</td>\n",
       "      <td>gasoline</td>\n",
       "      <td>audi</td>\n",
       "      <td>yes</td>\n",
       "      <td>2016-03-24 00:00:00</td>\n",
       "      <td>0</td>\n",
       "      <td>66954</td>\n",
       "      <td>2016-04-07 01:46:50</td>\n",
       "    </tr>\n",
       "    <tr>\n",
       "      <th>2</th>\n",
       "      <td>2016-03-14 12:52:21</td>\n",
       "      <td>9800</td>\n",
       "      <td>suv</td>\n",
       "      <td>2004</td>\n",
       "      <td>auto</td>\n",
       "      <td>163</td>\n",
       "      <td>grand</td>\n",
       "      <td>125000</td>\n",
       "      <td>8</td>\n",
       "      <td>gasoline</td>\n",
       "      <td>jeep</td>\n",
       "      <td>NaN</td>\n",
       "      <td>2016-03-14 00:00:00</td>\n",
       "      <td>0</td>\n",
       "      <td>90480</td>\n",
       "      <td>2016-04-05 12:47:46</td>\n",
       "    </tr>\n",
       "    <tr>\n",
       "      <th>3</th>\n",
       "      <td>2016-03-17 16:54:04</td>\n",
       "      <td>1500</td>\n",
       "      <td>small</td>\n",
       "      <td>2001</td>\n",
       "      <td>manual</td>\n",
       "      <td>75</td>\n",
       "      <td>golf</td>\n",
       "      <td>150000</td>\n",
       "      <td>6</td>\n",
       "      <td>petrol</td>\n",
       "      <td>volkswagen</td>\n",
       "      <td>no</td>\n",
       "      <td>2016-03-17 00:00:00</td>\n",
       "      <td>0</td>\n",
       "      <td>91074</td>\n",
       "      <td>2016-03-17 17:40:17</td>\n",
       "    </tr>\n",
       "    <tr>\n",
       "      <th>4</th>\n",
       "      <td>2016-03-31 17:25:20</td>\n",
       "      <td>3600</td>\n",
       "      <td>small</td>\n",
       "      <td>2008</td>\n",
       "      <td>manual</td>\n",
       "      <td>69</td>\n",
       "      <td>fabia</td>\n",
       "      <td>90000</td>\n",
       "      <td>7</td>\n",
       "      <td>gasoline</td>\n",
       "      <td>skoda</td>\n",
       "      <td>no</td>\n",
       "      <td>2016-03-31 00:00:00</td>\n",
       "      <td>0</td>\n",
       "      <td>60437</td>\n",
       "      <td>2016-04-06 10:17:21</td>\n",
       "    </tr>\n",
       "  </tbody>\n",
       "</table>\n",
       "</div>"
      ],
      "text/plain": [
       "           DateCrawled  Price VehicleType  RegistrationYear Gearbox  Power  \\\n",
       "0  2016-03-24 11:52:17    480         NaN              1993  manual      0   \n",
       "1  2016-03-24 10:58:45  18300       coupe              2011  manual    190   \n",
       "2  2016-03-14 12:52:21   9800         suv              2004    auto    163   \n",
       "3  2016-03-17 16:54:04   1500       small              2001  manual     75   \n",
       "4  2016-03-31 17:25:20   3600       small              2008  manual     69   \n",
       "\n",
       "   Model  Kilometer  RegistrationMonth  FuelType       Brand NotRepaired  \\\n",
       "0   golf     150000                  0    petrol  volkswagen         NaN   \n",
       "1    NaN     125000                  5  gasoline        audi         yes   \n",
       "2  grand     125000                  8  gasoline        jeep         NaN   \n",
       "3   golf     150000                  6    petrol  volkswagen          no   \n",
       "4  fabia      90000                  7  gasoline       skoda          no   \n",
       "\n",
       "           DateCreated  NumberOfPictures  PostalCode             LastSeen  \n",
       "0  2016-03-24 00:00:00                 0       70435  2016-04-07 03:16:57  \n",
       "1  2016-03-24 00:00:00                 0       66954  2016-04-07 01:46:50  \n",
       "2  2016-03-14 00:00:00                 0       90480  2016-04-05 12:47:46  \n",
       "3  2016-03-17 00:00:00                 0       91074  2016-03-17 17:40:17  \n",
       "4  2016-03-31 00:00:00                 0       60437  2016-04-06 10:17:21  "
      ]
     },
     "metadata": {},
     "output_type": "display_data"
    }
   ],
   "source": [
    "df = pd.read_csv('D:\\\\Documents\\\\ds\\\\auto\\\\autos.csv')\n",
    "# df = pd.read_csv('/datasets/autos.csv')\n",
    "\n",
    "df.info()\n",
    "display(df.head())"
   ]
  },
  {
   "cell_type": "code",
   "execution_count": 3,
   "metadata": {},
   "outputs": [
    {
     "data": {
      "text/plain": [
       "Index(['date_crawled', 'price', 'vehicle_type', 'registration_year', 'gearbox',\n",
       "       'power', 'model', 'kilometer', 'registration_month', 'fuel_type',\n",
       "       'brand', 'not_repaired', 'date_created', 'numberof_pictures',\n",
       "       'postal_code', 'last_seen'],\n",
       "      dtype='object')"
      ]
     },
     "execution_count": 3,
     "metadata": {},
     "output_type": "execute_result"
    }
   ],
   "source": [
    "# Приводим названия столлбцов в змеиный регистр\n",
    "df.columns = ['date_crawled', 'price', 'vehicle_type', 'registration_year', 'gearbox',\n",
    "       'power', 'model', 'kilometer', 'registration_month', 'fuel_type', 'brand',\n",
    "       'not_repaired', 'date_created', 'numberof_pictures', 'postal_code',\n",
    "       'last_seen']\n",
    "df.columns"
   ]
  },
  {
   "cell_type": "code",
   "execution_count": 4,
   "metadata": {},
   "outputs": [
    {
     "name": "stdout",
     "output_type": "stream",
     "text": [
      "vehicle_type\n",
      "sedan          91457\n",
      "small          79831\n",
      "wagon          65166\n",
      "bus            28775\n",
      "convertible    20203\n",
      "coupe          16163\n",
      "suv            11996\n",
      "other           3288\n",
      "Name: vehicle_type, dtype: int64 \n",
      "\n",
      "gearbox\n",
      "manual    268251\n",
      "auto       66285\n",
      "Name: gearbox, dtype: int64 \n",
      "\n",
      "model\n",
      "golf                  29232\n",
      "other                 24421\n",
      "3er                   19761\n",
      "polo                  13066\n",
      "corsa                 12570\n",
      "                      ...  \n",
      "i3                        8\n",
      "serie_3                   4\n",
      "rangerover                4\n",
      "range_rover_evoque        2\n",
      "serie_1                   2\n",
      "Name: model, Length: 250, dtype: int64 \n",
      "\n",
      "registration_month\n",
      "0     37352\n",
      "3     34373\n",
      "6     31508\n",
      "4     29270\n",
      "5     29153\n",
      "7     27213\n",
      "10    26099\n",
      "12    24289\n",
      "11    24186\n",
      "9     23813\n",
      "1     23219\n",
      "8     22627\n",
      "2     21267\n",
      "Name: registration_month, dtype: int64 \n",
      "\n",
      "fuel_type\n",
      "petrol      216352\n",
      "gasoline     98720\n",
      "lpg           5310\n",
      "cng            565\n",
      "hybrid         233\n",
      "other          204\n",
      "electric        90\n",
      "Name: fuel_type, dtype: int64 \n",
      "\n",
      "brand\n",
      "volkswagen        77013\n",
      "opel              39931\n",
      "bmw               36914\n",
      "mercedes_benz     32046\n",
      "audi              29456\n",
      "ford              25179\n",
      "renault           17927\n",
      "peugeot           10998\n",
      "fiat               9643\n",
      "seat               6907\n",
      "mazda              5615\n",
      "skoda              5500\n",
      "smart              5246\n",
      "citroen            5148\n",
      "nissan             4941\n",
      "toyota             4606\n",
      "hyundai            3587\n",
      "sonstige_autos     3374\n",
      "volvo              3210\n",
      "mini               3202\n",
      "mitsubishi         3022\n",
      "honda              2817\n",
      "kia                2465\n",
      "suzuki             2323\n",
      "alfa_romeo         2314\n",
      "chevrolet          1754\n",
      "chrysler           1439\n",
      "dacia               900\n",
      "daihatsu            806\n",
      "subaru              762\n",
      "porsche             758\n",
      "jeep                677\n",
      "trabant             589\n",
      "land_rover          545\n",
      "daewoo              542\n",
      "saab                526\n",
      "jaguar              505\n",
      "rover               486\n",
      "lancia              471\n",
      "lada                225\n",
      "Name: brand, dtype: int64 \n",
      "\n",
      "not_repaired\n",
      "no     247161\n",
      "yes     36054\n",
      "Name: not_repaired, dtype: int64 \n",
      "\n"
     ]
    }
   ],
   "source": [
    "# Просмотр категориальных данных\n",
    "cate_date = ['vehicle_type', 'gearbox', 'model', 'registration_month', 'fuel_type', 'brand', 'not_repaired']\n",
    "for i in cate_date:\n",
    "    print(i)\n",
    "    print(df[i].value_counts(), '\\n')"
   ]
  },
  {
   "cell_type": "code",
   "execution_count": 5,
   "metadata": {},
   "outputs": [],
   "source": [
    "# Функция вывода гистограммы\n",
    "def hist(i):\n",
    "    plt.figure(figsize=(22, 7))\n",
    "    sns.histplot(data=df[i], kde = True)\n",
    "    plt.grid(linestyle='--', linewidth=2, axis='y', alpha=0.7)\n",
    "    plt.show"
   ]
  },
  {
   "cell_type": "code",
   "execution_count": 6,
   "metadata": {
    "scrolled": false
   },
   "outputs": [
    {
     "name": "stdout",
     "output_type": "stream",
     "text": [
      "count    354369.000000\n",
      "mean       4416.656776\n",
      "std        4514.158514\n",
      "min           0.000000\n",
      "25%        1050.000000\n",
      "50%        2700.000000\n",
      "75%        6400.000000\n",
      "max       20000.000000\n",
      "Name: price, dtype: float64\n"
     ]
    },
    {
     "data": {
      "image/png": "[encoded data removed]",
      "text/plain": [
       "<Figure size 1800x144 with 1 Axes>"
      ]
     },
     "metadata": {
      "needs_background": "light"
     },
     "output_type": "display_data"
    },
    {
     "data": {
      "image/png": "[encoded data removed]",
      "text/plain": [
       "<Figure size 1584x504 with 1 Axes>"
      ]
     },
     "metadata": {
      "needs_background": "light"
     },
     "output_type": "display_data"
    }
   ],
   "source": [
    "# Анализ расспределения целевого признака\n",
    "print(df['price'].describe())\n",
    "\n",
    "plt.figure(figsize=(25, 2))\n",
    "sns.boxplot(data=df['price'], orient='h', palette='Set2')\n",
    "plt.show\n",
    "\n",
    "hist('price')"
   ]
  },
  {
   "cell_type": "code",
   "execution_count": 7,
   "metadata": {},
   "outputs": [
    {
     "name": "stdout",
     "output_type": "stream",
     "text": [
      "Количество нулевых значений: 10772\n",
      "Нулевые значения после обработки: 0\n"
     ]
    }
   ],
   "source": [
    "# Удаление нулевых значений целевого признака\n",
    "print('Количество нулевых значений:', df[df['price']==0]['price'].count())\n",
    "df = df[df['price']>0]\n",
    "print('Нулевые значения после обработки:', df[df['price']==0]['price'].count())"
   ]
  },
  {
   "cell_type": "code",
   "execution_count": 8,
   "metadata": {
    "scrolled": false
   },
   "outputs": [
    {
     "name": "stdout",
     "output_type": "stream",
     "text": [
      "count    343597.000000\n",
      "mean        111.000192\n",
      "std         188.177974\n",
      "min           0.000000\n",
      "25%          69.000000\n",
      "50%         105.000000\n",
      "75%         143.000000\n",
      "max       20000.000000\n",
      "Name: power, dtype: float64\n"
     ]
    },
    {
     "data": {
      "text/plain": [
       "<function matplotlib.pyplot.show(close=None, block=None)>"
      ]
     },
     "execution_count": 8,
     "metadata": {},
     "output_type": "execute_result"
    },
    {
     "data": {
      "image/png": "[encoded data removed]",
      "text/plain": [
       "<Figure size 1800x144 with 1 Axes>"
      ]
     },
     "metadata": {
      "needs_background": "light"
     },
     "output_type": "display_data"
    }
   ],
   "source": [
    "# Анализ расспределения столбца \"power\"\n",
    "print(df['power'].describe())\n",
    "\n",
    "plt.figure(figsize=(25, 2))\n",
    "sns.boxplot(data=df['power'], orient='h')\n",
    "plt.show"
   ]
  },
  {
   "cell_type": "code",
   "execution_count": 9,
   "metadata": {
    "scrolled": false
   },
   "outputs": [
    {
     "name": "stdout",
     "output_type": "stream",
     "text": [
      "Количество  нулевых значений и значений ниже 20: 36760\n",
      "Количество  нулевых значений и значений ниже 20 после обработки: 0\n"
     ]
    },
    {
     "data": {
      "image/png": "[encoded data removed]",
      "text/plain": [
       "<Figure size 1584x504 with 1 Axes>"
      ]
     },
     "metadata": {
      "needs_background": "light"
     },
     "output_type": "display_data"
    }
   ],
   "source": [
    "# В стобце 'power' удаляем нулевые значения, и исправляем выбросы\n",
    "print('Количество  нулевых значений и значений ниже 20:', df[df['power']<20]['power'].count())\n",
    "df = df[df['power']>=20]\n",
    "print('Количество  нулевых значений и значений ниже 20 после обработки:', df[df['power']<0]['power'].count())\n",
    "df['power'] = df.power.apply(lambda r: r/100 if r>250 else r)\n",
    "\n",
    "hist('power')"
   ]
  },
  {
   "cell_type": "code",
   "execution_count": 10,
   "metadata": {
    "scrolled": false
   },
   "outputs": [
    {
     "name": "stdout",
     "output_type": "stream",
     "text": [
      "count    306837.000000\n",
      "mean     128496.775161\n",
      "std       36654.192580\n",
      "min        5000.000000\n",
      "25%      125000.000000\n",
      "50%      150000.000000\n",
      "75%      150000.000000\n",
      "max      150000.000000\n",
      "Name: kilometer, dtype: float64\n"
     ]
    },
    {
     "data": {
      "image/png": "[encoded data removed]",
      "text/plain": [
       "<Figure size 1584x504 with 1 Axes>"
      ]
     },
     "metadata": {
      "needs_background": "light"
     },
     "output_type": "display_data"
    }
   ],
   "source": [
    "# Анализ расспределения столбца \"kilometer\"\n",
    "print(df['kilometer'].describe())\n",
    "hist('kilometer')"
   ]
  },
  {
   "cell_type": "markdown",
   "metadata": {},
   "source": [
    "В столбце 'kilometer' аномальных значений и выбросов нет"
   ]
  },
  {
   "cell_type": "code",
   "execution_count": 11,
   "metadata": {
    "scrolled": true
   },
   "outputs": [
    {
     "name": "stdout",
     "output_type": "stream",
     "text": [
      "count    306837.000000\n",
      "mean       2003.522857\n",
      "std          33.223277\n",
      "min        1000.000000\n",
      "25%        1999.000000\n",
      "50%        2003.000000\n",
      "75%        2008.000000\n",
      "max        9999.000000\n",
      "Name: registration_year, dtype: float64\n"
     ]
    }
   ],
   "source": [
    "# Анализ расспределения столбца \"registration_year\"\n",
    "print(df['registration_year'].describe())"
   ]
  },
  {
   "cell_type": "code",
   "execution_count": 12,
   "metadata": {
    "scrolled": false
   },
   "outputs": [
    {
     "name": "stdout",
     "output_type": "stream",
     "text": [
      "Количество  аномальных значений : 2163\n",
      "Количество  аномальных значений  после обработки: 0\n"
     ]
    },
    {
     "data": {
      "image/png": "[encoded data removed]",
      "text/plain": [
       "<Figure size 1584x504 with 1 Axes>"
      ]
     },
     "metadata": {
      "needs_background": "light"
     },
     "output_type": "display_data"
    }
   ],
   "source": [
    "# Удаление выбросов столбца \"registration_year\"\n",
    "\n",
    "print('Количество  аномальных значений :',\n",
    "      df[(df['registration_year']<1980) | (df['registration_year']>2022)]['price'].count())\n",
    "\n",
    "df = df[(df['registration_year']>=1980) & (df['registration_year']<=2022)]\n",
    "\n",
    "print('Количество  аномальных значений  после обработки:',\n",
    "      df[(df['registration_year']<1980) | (df['registration_year']>2022)]['price'].count())\n",
    "\n",
    "hist('registration_year')"
   ]
  },
  {
   "cell_type": "code",
   "execution_count": 13,
   "metadata": {
    "scrolled": false
   },
   "outputs": [
    {
     "name": "stdout",
     "output_type": "stream",
     "text": [
      "count     292833\n",
      "unique       248\n",
      "top         golf\n",
      "freq       25992\n",
      "Name: model, dtype: object\n"
     ]
    },
    {
     "data": {
      "text/plain": [
       "count     292833\n",
       "unique       248\n",
       "top         golf\n",
       "freq       25992\n",
       "Name: model, dtype: object"
      ]
     },
     "execution_count": 13,
     "metadata": {},
     "output_type": "execute_result"
    }
   ],
   "source": [
    "print(df['model'].describe())\n",
    "\n",
    "df['model'].describe()"
   ]
  },
  {
   "cell_type": "markdown",
   "metadata": {},
   "source": [
    "Аномальных значений, выбросов в признаке 'model' нет"
   ]
  },
  {
   "cell_type": "code",
   "execution_count": 14,
   "metadata": {},
   "outputs": [],
   "source": [
    "# Заполнение пропусков столбца \"not_repaired\"\n",
    "df['not_repaired'].fillna('unknow', inplace=True)\n",
    "\n",
    "# Удаление строк с пропусками\n",
    "df.dropna(subset=['vehicle_type', 'gearbox', 'fuel_type', 'model'], inplace=True)"
   ]
  },
  {
   "cell_type": "code",
   "execution_count": 15,
   "metadata": {
    "scrolled": true
   },
   "outputs": [
    {
     "name": "stdout",
     "output_type": "stream",
     "text": [
      "<class 'pandas.core.frame.DataFrame'>\n",
      "Int64Index: 262146 entries, 2 to 354368\n",
      "Data columns (total 10 columns):\n",
      " #   Column             Non-Null Count   Dtype  \n",
      "---  ------             --------------   -----  \n",
      " 0   price              262146 non-null  int64  \n",
      " 1   vehicle_type       262146 non-null  object \n",
      " 2   registration_year  262146 non-null  int64  \n",
      " 3   gearbox            262146 non-null  object \n",
      " 4   power              262146 non-null  float64\n",
      " 5   model              262146 non-null  object \n",
      " 6   kilometer          262146 non-null  int64  \n",
      " 7   fuel_type          262146 non-null  object \n",
      " 8   brand              262146 non-null  object \n",
      " 9   not_repaired       262146 non-null  object \n",
      "dtypes: float64(1), int64(3), object(6)\n",
      "memory usage: 22.0+ MB\n"
     ]
    }
   ],
   "source": [
    "# Удаление  столбцов не влиящих на целевой признак\n",
    "df.drop(columns=['registration_month', 'date_crawled', 'date_created', 'postal_code', 'last_seen', 'numberof_pictures', 'numberof_pictures'], inplace=True, axis=1)\n",
    "df.info()"
   ]
  },
  {
   "cell_type": "markdown",
   "metadata": {},
   "source": [
    "### Вывод\n",
    "В представленном датасете 354369 строк и 16 столбцов.\n",
    "В датасете присутствовали пропуски значений, аномальные данные, выбросы.\n",
    "\n",
    "Было выполнено следующее:  \n",
    "Удалены признаки не влиящие на целевой показатель 'date_crawled', 'date_created', 'postal_code', 'last_seen'.  \n",
    "В стобцах 'price', 'power', 'registration_year' удалены выбросы.  \n",
    "В столбце 'power' преобразованы аномальные данные.    \n",
    "Пропуски в столбце \"not_repaired\" заполнены значением 'unknow', остальные пропуски удалены.  \n",
    "Так как будут использоваться модели обучения которые про разному обрабатывают категориальные признаки, преобразование данных столбцов будет проведено перед использованием моделей.  "
   ]
  },
  {
   "cell_type": "markdown",
   "metadata": {},
   "source": [
    "## Обучение моделей"
   ]
  },
  {
   "cell_type": "code",
   "execution_count": 16,
   "metadata": {},
   "outputs": [],
   "source": [
    "# Масштабирование\n",
    "scaler = preprocessing.MinMaxScaler()\n",
    "for i in ['registration_year', 'power', 'kilometer']:\n",
    "    df[i] = scaler.fit_transform(df.loc[:, [i]])"
   ]
  },
  {
   "cell_type": "markdown",
   "metadata": {},
   "source": [
    "###  Модель CatBoostRegressor"
   ]
  },
  {
   "cell_type": "markdown",
   "metadata": {},
   "source": [
    "#### Подготовка обучающей и валидационной выборок для модели CatBoostRegressor"
   ]
  },
  {
   "cell_type": "code",
   "execution_count": 17,
   "metadata": {},
   "outputs": [
    {
     "name": "stdout",
     "output_type": "stream",
     "text": [
      "(196609, 9)\n",
      "(65537, 9)\n",
      "(196609,)\n",
      "(65537,)\n",
      "<class 'pandas.core.frame.DataFrame'>\n",
      "Int64Index: 262146 entries, 2 to 354368\n",
      "Data columns (total 9 columns):\n",
      " #   Column             Non-Null Count   Dtype  \n",
      "---  ------             --------------   -----  \n",
      " 0   vehicle_type       262146 non-null  object \n",
      " 1   registration_year  262146 non-null  float64\n",
      " 2   gearbox            262146 non-null  object \n",
      " 3   power              262146 non-null  float64\n",
      " 4   model              262146 non-null  object \n",
      " 5   kilometer          262146 non-null  float64\n",
      " 6   fuel_type          262146 non-null  object \n",
      " 7   brand              262146 non-null  object \n",
      " 8   not_repaired       262146 non-null  object \n",
      "dtypes: float64(3), object(6)\n",
      "memory usage: 20.0+ MB\n"
     ]
    }
   ],
   "source": [
    "# Выделение в выборках признаков и целевого признака\n",
    "target = df['price']\n",
    "features = df.drop('price', axis=1)\n",
    "\n",
    "# Разбивка на обучающую выборку и валидационную выборку\n",
    "features_train, features_valid, target_train, target_valid = train_test_split(\n",
    "features, target, test_size=0.25, random_state=12345)\n",
    "\n",
    "for i  in [features_train, features_valid, target_train, target_valid]:\n",
    "    print(i.shape)\n",
    "features.info()"
   ]
  },
  {
   "cell_type": "markdown",
   "metadata": {},
   "source": [
    "#### Обучение и предсказние модели CatBoostRegressor"
   ]
  },
  {
   "cell_type": "code",
   "execution_count": 18,
   "metadata": {},
   "outputs": [
    {
     "name": "stdout",
     "output_type": "stream",
     "text": [
      "CPU times: total: 9min 27s\n",
      "Wall time: 1min 18s\n"
     ]
    },
    {
     "data": {
      "text/plain": [
       "<catboost.core.CatBoostRegressor at 0x265b35d77f0>"
      ]
     },
     "execution_count": 18,
     "metadata": {},
     "output_type": "execute_result"
    }
   ],
   "source": [
    "%%time\n",
    "# Обучение модели CatBoostRegressor\n",
    "train_pool = Pool(features_train, target_train, cat_features=[0,2,4,6,7,8])\n",
    "test_pool = Pool(features_valid, cat_features=[0,2,4,6,7,8]) \n",
    "\n",
    "model_cat = CatBoostRegressor(logging_level='Silent')\n",
    "model_cat.fit(train_pool)"
   ]
  },
  {
   "cell_type": "code",
   "execution_count": 19,
   "metadata": {},
   "outputs": [
    {
     "name": "stdout",
     "output_type": "stream",
     "text": [
      "RMSE =  1523\n",
      "CPU times: total: 734 ms\n",
      "Wall time: 52 ms\n"
     ]
    }
   ],
   "source": [
    "%%time\n",
    "# Предсказание модели CatBoostRegressor\n",
    "pred_cat = model_cat.predict(test_pool)\n",
    "rmse_cat = np.sqrt(mean_squared_error(target_valid, pred_cat))\n",
    "print('RMSE = ','%.0f'% rmse_cat)\n",
    "CatBoost = ['CatBoostRegressor', round(rmse_cat), '9min 34s', '1min 20s', '734 ms', '53 ms']"
   ]
  },
  {
   "cell_type": "markdown",
   "metadata": {},
   "source": [
    "### Модель LightGBM"
   ]
  },
  {
   "cell_type": "markdown",
   "metadata": {},
   "source": [
    "#### Подготовка обучающей и валидационной выборок для модели LightGBM"
   ]
  },
  {
   "cell_type": "code",
   "execution_count": 20,
   "metadata": {},
   "outputs": [
    {
     "data": {
      "text/html": [
       "<div>\n",
       "<style scoped>\n",
       "    .dataframe tbody tr th:only-of-type {\n",
       "        vertical-align: middle;\n",
       "    }\n",
       "\n",
       "    .dataframe tbody tr th {\n",
       "        vertical-align: top;\n",
       "    }\n",
       "\n",
       "    .dataframe thead th {\n",
       "        text-align: right;\n",
       "    }\n",
       "</style>\n",
       "<table border=\"1\" class=\"dataframe\">\n",
       "  <thead>\n",
       "    <tr style=\"text-align: right;\">\n",
       "      <th></th>\n",
       "      <th>vehicle_type</th>\n",
       "      <th>registration_year</th>\n",
       "      <th>gearbox</th>\n",
       "      <th>power</th>\n",
       "      <th>model</th>\n",
       "      <th>kilometer</th>\n",
       "      <th>fuel_type</th>\n",
       "      <th>brand</th>\n",
       "      <th>not_repaired</th>\n",
       "    </tr>\n",
       "  </thead>\n",
       "  <tbody>\n",
       "    <tr>\n",
       "      <th>120144</th>\n",
       "      <td>6</td>\n",
       "      <td>0.447368</td>\n",
       "      <td>2</td>\n",
       "      <td>0.232292</td>\n",
       "      <td>103</td>\n",
       "      <td>1.0</td>\n",
       "      <td>7</td>\n",
       "      <td>11</td>\n",
       "      <td>2</td>\n",
       "    </tr>\n",
       "    <tr>\n",
       "      <th>318042</th>\n",
       "      <td>5</td>\n",
       "      <td>0.500000</td>\n",
       "      <td>2</td>\n",
       "      <td>0.595943</td>\n",
       "      <td>12</td>\n",
       "      <td>1.0</td>\n",
       "      <td>7</td>\n",
       "      <td>3</td>\n",
       "      <td>1</td>\n",
       "    </tr>\n",
       "    <tr>\n",
       "      <th>266349</th>\n",
       "      <td>8</td>\n",
       "      <td>0.763158</td>\n",
       "      <td>1</td>\n",
       "      <td>0.676755</td>\n",
       "      <td>60</td>\n",
       "      <td>1.0</td>\n",
       "      <td>3</td>\n",
       "      <td>21</td>\n",
       "      <td>1</td>\n",
       "    </tr>\n",
       "    <tr>\n",
       "      <th>134846</th>\n",
       "      <td>6</td>\n",
       "      <td>0.710526</td>\n",
       "      <td>2</td>\n",
       "      <td>0.430280</td>\n",
       "      <td>81</td>\n",
       "      <td>1.0</td>\n",
       "      <td>3</td>\n",
       "      <td>22</td>\n",
       "      <td>1</td>\n",
       "    </tr>\n",
       "    <tr>\n",
       "      <th>31376</th>\n",
       "      <td>2</td>\n",
       "      <td>0.473684</td>\n",
       "      <td>2</td>\n",
       "      <td>0.769688</td>\n",
       "      <td>12</td>\n",
       "      <td>1.0</td>\n",
       "      <td>7</td>\n",
       "      <td>3</td>\n",
       "      <td>1</td>\n",
       "    </tr>\n",
       "  </tbody>\n",
       "</table>\n",
       "</div>"
      ],
      "text/plain": [
       "        vehicle_type  registration_year  gearbox     power  model  kilometer  \\\n",
       "120144             6           0.447368        2  0.232292    103        1.0   \n",
       "318042             5           0.500000        2  0.595943     12        1.0   \n",
       "266349             8           0.763158        1  0.676755     60        1.0   \n",
       "134846             6           0.710526        2  0.430280     81        1.0   \n",
       "31376              2           0.473684        2  0.769688     12        1.0   \n",
       "\n",
       "        fuel_type  brand  not_repaired  \n",
       "120144          7     11             2  \n",
       "318042          7      3             1  \n",
       "266349          3     21             1  \n",
       "134846          3     22             1  \n",
       "31376           7      3             1  "
      ]
     },
     "execution_count": 20,
     "metadata": {},
     "output_type": "execute_result"
    }
   ],
   "source": [
    "# Преобразование категориальных признаков методом \"кодирования меток\"\n",
    "cols = ['vehicle_type', 'gearbox', 'model', 'fuel_type', 'brand', 'not_repaired']\n",
    "for item in cols:\n",
    "    df[item] = df[item].astype('category').cat.codes + 1\n",
    "\n",
    "target = df['price']\n",
    "features = df.drop('price', axis=1)\n",
    "\n",
    "# Разбивка на обучающую выборку и валидационную выборку\n",
    "features_train, features_valid, target_train, target_valid = train_test_split(\n",
    "features, target, test_size=0.25, random_state=12345)\n",
    "\n",
    "features_train.head()"
   ]
  },
  {
   "cell_type": "markdown",
   "metadata": {},
   "source": [
    "####  Обучение и предсказние модели LightGBM"
   ]
  },
  {
   "cell_type": "code",
   "execution_count": 21,
   "metadata": {},
   "outputs": [
    {
     "name": "stdout",
     "output_type": "stream",
     "text": [
      "[LightGBM] [Warning] Unknown parameter: target\n",
      "[LightGBM] [Warning] Unknown parameter: target\n",
      "[LightGBM] [Warning] Auto-choosing row-wise multi-threading, the overhead of testing was 0.000757 seconds.\n",
      "You can set `force_row_wise=true` to remove the overhead.\n",
      "And if memory is not enough, you can set `force_col_wise=true`.\n",
      "[LightGBM] [Info] Total Bins 536\n",
      "[LightGBM] [Info] Number of data points in the train set: 196609, number of used features: 9\n",
      "[LightGBM] [Warning] Unknown parameter: target\n",
      "[LightGBM] [Info] Start training from score 5049.528587\n",
      "CPU times: total: 2.19 s\n",
      "Wall time: 173 ms\n"
     ]
    }
   ],
   "source": [
    "%%time\n",
    "\n",
    "# Преобразование в формат данных набора данных\n",
    "lgb_train = lgb.Dataset(features_train, target_train)\n",
    "lgb_eval = lgb.Dataset(features_valid, target_valid, reference=lgb_train)\n",
    " \n",
    "# Параметры\n",
    "params = {\n",
    "    'task': 'train',\n",
    "         'boosting_type': 'gbdt', \n",
    "         'target': 'regression',\n",
    "         'metric': 'l2_root'\n",
    "}\n",
    "\n",
    "# Вызов модели LightGBM и использование данных для обучения\n",
    "my_model = lgb.train(params, lgb_train, num_boost_round=20,\n",
    "                     valid_sets=lgb_eval, verbose_eval=0, categorical_feature=[0,2,4,6,7,8])\n"
   ]
  },
  {
   "cell_type": "code",
   "execution_count": 22,
   "metadata": {},
   "outputs": [
    {
     "name": "stdout",
     "output_type": "stream",
     "text": [
      "RMSE:  1886\n",
      "CPU times: total: 250 ms\n",
      "Wall time: 18 ms\n"
     ]
    }
   ],
   "source": [
    "%%time\n",
    "\n",
    "# Предсказание на основе данных тестового набора\n",
    "predictions = my_model.predict(features_valid, num_iteration=my_model.best_iteration)\n",
    "\n",
    "# Оценка результатов прогноза модели\n",
    "rmse_lgb = np.sqrt(mean_squared_error(predictions, target_valid))\n",
    "print('RMSE: ', '%.0f'% rmse_lgb)\n",
    "LightGBM = ['LightGBM', round(rmse_lgb), '2.2 s', '185 ms', '219 ms', '18 ms']"
   ]
  },
  {
   "cell_type": "markdown",
   "metadata": {},
   "source": [
    "###  Модель LinearRegression"
   ]
  },
  {
   "cell_type": "markdown",
   "metadata": {},
   "source": [
    "#### Подготовка обучающей и валидационной выборок для модели LinearRegression"
   ]
  },
  {
   "cell_type": "code",
   "execution_count": 23,
   "metadata": {
    "scrolled": true
   },
   "outputs": [
    {
     "name": "stdout",
     "output_type": "stream",
     "text": [
      "(196609, 58)\n",
      "(65537, 58)\n",
      "(196609,)\n",
      "(65537,)\n"
     ]
    },
    {
     "data": {
      "text/html": [
       "<div>\n",
       "<style scoped>\n",
       "    .dataframe tbody tr th:only-of-type {\n",
       "        vertical-align: middle;\n",
       "    }\n",
       "\n",
       "    .dataframe tbody tr th {\n",
       "        vertical-align: top;\n",
       "    }\n",
       "\n",
       "    .dataframe thead th {\n",
       "        text-align: right;\n",
       "    }\n",
       "</style>\n",
       "<table border=\"1\" class=\"dataframe\">\n",
       "  <thead>\n",
       "    <tr style=\"text-align: right;\">\n",
       "      <th></th>\n",
       "      <th>registration_year</th>\n",
       "      <th>power</th>\n",
       "      <th>kilometer</th>\n",
       "      <th>model_price</th>\n",
       "      <th>vehicle_type_2</th>\n",
       "      <th>vehicle_type_3</th>\n",
       "      <th>vehicle_type_4</th>\n",
       "      <th>vehicle_type_5</th>\n",
       "      <th>vehicle_type_6</th>\n",
       "      <th>vehicle_type_7</th>\n",
       "      <th>...</th>\n",
       "      <th>brand_32</th>\n",
       "      <th>brand_33</th>\n",
       "      <th>brand_34</th>\n",
       "      <th>brand_35</th>\n",
       "      <th>brand_36</th>\n",
       "      <th>brand_37</th>\n",
       "      <th>brand_38</th>\n",
       "      <th>brand_39</th>\n",
       "      <th>not_repaired_2</th>\n",
       "      <th>not_repaired_3</th>\n",
       "    </tr>\n",
       "  </thead>\n",
       "  <tbody>\n",
       "    <tr>\n",
       "      <th>2</th>\n",
       "      <td>0.631579</td>\n",
       "      <td>0.648471</td>\n",
       "      <td>0.827586</td>\n",
       "      <td>5326.470588</td>\n",
       "      <td>0</td>\n",
       "      <td>0</td>\n",
       "      <td>0</td>\n",
       "      <td>0</td>\n",
       "      <td>0</td>\n",
       "      <td>1</td>\n",
       "      <td>...</td>\n",
       "      <td>0</td>\n",
       "      <td>0</td>\n",
       "      <td>0</td>\n",
       "      <td>0</td>\n",
       "      <td>0</td>\n",
       "      <td>0</td>\n",
       "      <td>0</td>\n",
       "      <td>0</td>\n",
       "      <td>1</td>\n",
       "      <td>0</td>\n",
       "    </tr>\n",
       "    <tr>\n",
       "      <th>3</th>\n",
       "      <td>0.552632</td>\n",
       "      <td>0.292901</td>\n",
       "      <td>1.000000</td>\n",
       "      <td>2657.198039</td>\n",
       "      <td>0</td>\n",
       "      <td>0</td>\n",
       "      <td>0</td>\n",
       "      <td>0</td>\n",
       "      <td>1</td>\n",
       "      <td>0</td>\n",
       "      <td>...</td>\n",
       "      <td>0</td>\n",
       "      <td>0</td>\n",
       "      <td>0</td>\n",
       "      <td>0</td>\n",
       "      <td>0</td>\n",
       "      <td>0</td>\n",
       "      <td>1</td>\n",
       "      <td>0</td>\n",
       "      <td>0</td>\n",
       "      <td>0</td>\n",
       "    </tr>\n",
       "    <tr>\n",
       "      <th>4</th>\n",
       "      <td>0.736842</td>\n",
       "      <td>0.268657</td>\n",
       "      <td>0.586207</td>\n",
       "      <td>5055.741007</td>\n",
       "      <td>0</td>\n",
       "      <td>0</td>\n",
       "      <td>0</td>\n",
       "      <td>0</td>\n",
       "      <td>1</td>\n",
       "      <td>0</td>\n",
       "      <td>...</td>\n",
       "      <td>1</td>\n",
       "      <td>0</td>\n",
       "      <td>0</td>\n",
       "      <td>0</td>\n",
       "      <td>0</td>\n",
       "      <td>0</td>\n",
       "      <td>0</td>\n",
       "      <td>0</td>\n",
       "      <td>0</td>\n",
       "      <td>0</td>\n",
       "    </tr>\n",
       "    <tr>\n",
       "      <th>5</th>\n",
       "      <td>0.394737</td>\n",
       "      <td>0.401996</td>\n",
       "      <td>1.000000</td>\n",
       "      <td>1761.472477</td>\n",
       "      <td>0</td>\n",
       "      <td>0</td>\n",
       "      <td>0</td>\n",
       "      <td>1</td>\n",
       "      <td>0</td>\n",
       "      <td>0</td>\n",
       "      <td>...</td>\n",
       "      <td>0</td>\n",
       "      <td>0</td>\n",
       "      <td>0</td>\n",
       "      <td>0</td>\n",
       "      <td>0</td>\n",
       "      <td>0</td>\n",
       "      <td>0</td>\n",
       "      <td>0</td>\n",
       "      <td>0</td>\n",
       "      <td>1</td>\n",
       "    </tr>\n",
       "    <tr>\n",
       "      <th>6</th>\n",
       "      <td>0.631579</td>\n",
       "      <td>0.430280</td>\n",
       "      <td>1.000000</td>\n",
       "      <td>2386.563776</td>\n",
       "      <td>1</td>\n",
       "      <td>0</td>\n",
       "      <td>0</td>\n",
       "      <td>0</td>\n",
       "      <td>0</td>\n",
       "      <td>0</td>\n",
       "      <td>...</td>\n",
       "      <td>0</td>\n",
       "      <td>0</td>\n",
       "      <td>0</td>\n",
       "      <td>0</td>\n",
       "      <td>0</td>\n",
       "      <td>0</td>\n",
       "      <td>0</td>\n",
       "      <td>0</td>\n",
       "      <td>0</td>\n",
       "      <td>0</td>\n",
       "    </tr>\n",
       "  </tbody>\n",
       "</table>\n",
       "<p>5 rows × 58 columns</p>\n",
       "</div>"
      ],
      "text/plain": [
       "   registration_year     power  kilometer  model_price  vehicle_type_2  \\\n",
       "2           0.631579  0.648471   0.827586  5326.470588               0   \n",
       "3           0.552632  0.292901   1.000000  2657.198039               0   \n",
       "4           0.736842  0.268657   0.586207  5055.741007               0   \n",
       "5           0.394737  0.401996   1.000000  1761.472477               0   \n",
       "6           0.631579  0.430280   1.000000  2386.563776               1   \n",
       "\n",
       "   vehicle_type_3  vehicle_type_4  vehicle_type_5  vehicle_type_6  \\\n",
       "2               0               0               0               0   \n",
       "3               0               0               0               1   \n",
       "4               0               0               0               1   \n",
       "5               0               0               1               0   \n",
       "6               0               0               0               0   \n",
       "\n",
       "   vehicle_type_7  ...  brand_32  brand_33  brand_34  brand_35  brand_36  \\\n",
       "2               1  ...         0         0         0         0         0   \n",
       "3               0  ...         0         0         0         0         0   \n",
       "4               0  ...         1         0         0         0         0   \n",
       "5               0  ...         0         0         0         0         0   \n",
       "6               0  ...         0         0         0         0         0   \n",
       "\n",
       "   brand_37  brand_38  brand_39  not_repaired_2  not_repaired_3  \n",
       "2         0         0         0               1               0  \n",
       "3         0         1         0               0               0  \n",
       "4         0         0         0               0               0  \n",
       "5         0         0         0               0               1  \n",
       "6         0         0         0               0               0  \n",
       "\n",
       "[5 rows x 58 columns]"
      ]
     },
     "execution_count": 23,
     "metadata": {},
     "output_type": "execute_result"
    }
   ],
   "source": [
    "df_lg = df.copy()\n",
    "\n",
    "# Преобразование категориального признака 'model' в числовой\n",
    "# Применение One Hot Encoding для данного признака приведет к сильному увелечиние времени обучения модели\n",
    "df_lg['model_price'] = df_lg.groupby(['model', 'registration_year']).price.transform('mean')\n",
    "\n",
    "# Применение One Hot Encoding для остальных категориальных признаков\n",
    "df_lg = pd.get_dummies(df_lg, columns=['vehicle_type', 'gearbox', 'fuel_type', 'brand', 'not_repaired'], drop_first=True)\n",
    "\n",
    "target = df_lg['price']\n",
    "features = df_lg.drop(['price', 'model'], axis=1)\n",
    "\n",
    "# Разбивка на обучающую выборку и валидационную выборку\n",
    "features_train, features_valid, target_train, target_valid = train_test_split(\n",
    "features, target, test_size=0.25, random_state=12345)\n",
    "\n",
    "for i  in [features_train, features_valid, target_train, target_valid]:\n",
    "    print(i.shape)\n",
    "features.head()"
   ]
  },
  {
   "cell_type": "markdown",
   "metadata": {},
   "source": [
    "#### Обучение и предсказние модели LinearRegression"
   ]
  },
  {
   "cell_type": "code",
   "execution_count": 24,
   "metadata": {
    "scrolled": false
   },
   "outputs": [
    {
     "name": "stdout",
     "output_type": "stream",
     "text": [
      "CPU times: total: 3.58 s\n",
      "Wall time: 18.1 s\n"
     ]
    },
    {
     "data": {
      "text/html": [
       "<style>#sk-container-id-1 {color: black;background-color: white;}#sk-container-id-1 pre{padding: 0;}#sk-container-id-1 div.sk-toggleable {background-color: white;}#sk-container-id-1 label.sk-toggleable__label {cursor: pointer;display: block;width: 100%;margin-bottom: 0;padding: 0.3em;box-sizing: border-box;text-align: center;}#sk-container-id-1 label.sk-toggleable__label-arrow:before {content: \"▸\";float: left;margin-right: 0.25em;color: #696969;}#sk-container-id-1 label.sk-toggleable__label-arrow:hover:before {color: black;}#sk-container-id-1 div.sk-estimator:hover label.sk-toggleable__label-arrow:before {color: black;}#sk-container-id-1 div.sk-toggleable__content {max-height: 0;max-width: 0;overflow: hidden;text-align: left;background-color: #f0f8ff;}#sk-container-id-1 div.sk-toggleable__content pre {margin: 0.2em;color: black;border-radius: 0.25em;background-color: #f0f8ff;}#sk-container-id-1 input.sk-toggleable__control:checked~div.sk-toggleable__content {max-height: 200px;max-width: 100%;overflow: auto;}#sk-container-id-1 input.sk-toggleable__control:checked~label.sk-toggleable__label-arrow:before {content: \"▾\";}#sk-container-id-1 div.sk-estimator input.sk-toggleable__control:checked~label.sk-toggleable__label {background-color: #d4ebff;}#sk-container-id-1 div.sk-label input.sk-toggleable__control:checked~label.sk-toggleable__label {background-color: #d4ebff;}#sk-container-id-1 input.sk-hidden--visually {border: 0;clip: rect(1px 1px 1px 1px);clip: rect(1px, 1px, 1px, 1px);height: 1px;margin: -1px;overflow: hidden;padding: 0;position: absolute;width: 1px;}#sk-container-id-1 div.sk-estimator {font-family: monospace;background-color: #f0f8ff;border: 1px dotted black;border-radius: 0.25em;box-sizing: border-box;margin-bottom: 0.5em;}#sk-container-id-1 div.sk-estimator:hover {background-color: #d4ebff;}#sk-container-id-1 div.sk-parallel-item::after {content: \"\";width: 100%;border-bottom: 1px solid gray;flex-grow: 1;}#sk-container-id-1 div.sk-label:hover label.sk-toggleable__label {background-color: #d4ebff;}#sk-container-id-1 div.sk-serial::before {content: \"\";position: absolute;border-left: 1px solid gray;box-sizing: border-box;top: 0;bottom: 0;left: 50%;z-index: 0;}#sk-container-id-1 div.sk-serial {display: flex;flex-direction: column;align-items: center;background-color: white;padding-right: 0.2em;padding-left: 0.2em;position: relative;}#sk-container-id-1 div.sk-item {position: relative;z-index: 1;}#sk-container-id-1 div.sk-parallel {display: flex;align-items: stretch;justify-content: center;background-color: white;position: relative;}#sk-container-id-1 div.sk-item::before, #sk-container-id-1 div.sk-parallel-item::before {content: \"\";position: absolute;border-left: 1px solid gray;box-sizing: border-box;top: 0;bottom: 0;left: 50%;z-index: -1;}#sk-container-id-1 div.sk-parallel-item {display: flex;flex-direction: column;z-index: 1;position: relative;background-color: white;}#sk-container-id-1 div.sk-parallel-item:first-child::after {align-self: flex-end;width: 50%;}#sk-container-id-1 div.sk-parallel-item:last-child::after {align-self: flex-start;width: 50%;}#sk-container-id-1 div.sk-parallel-item:only-child::after {width: 0;}#sk-container-id-1 div.sk-dashed-wrapped {border: 1px dashed gray;margin: 0 0.4em 0.5em 0.4em;box-sizing: border-box;padding-bottom: 0.4em;background-color: white;}#sk-container-id-1 div.sk-label label {font-family: monospace;font-weight: bold;display: inline-block;line-height: 1.2em;}#sk-container-id-1 div.sk-label-container {text-align: center;}#sk-container-id-1 div.sk-container {/* jupyter's `normalize.less` sets `[hidden] { display: none; }` but bootstrap.min.css set `[hidden] { display: none !important; }` so we also need the `!important` here to be able to override the default hidden behavior on the sphinx rendered scikit-learn.org. See: https://github.com/scikit-learn/scikit-learn/issues/21755 */display: inline-block !important;position: relative;}#sk-container-id-1 div.sk-text-repr-fallback {display: none;}</style><div id=\"sk-container-id-1\" class=\"sk-top-container\"><div class=\"sk-text-repr-fallback\"><pre>GridSearchCV(cv=5, estimator=LinearRegression(), n_jobs=-1,\n",
       "             param_grid=[{&#x27;copy_X&#x27;: [True, False],\n",
       "                          &#x27;fit_intercept&#x27;: [True, False],\n",
       "                          &#x27;positive&#x27;: [True, False]}],\n",
       "             scoring=&#x27;neg_root_mean_squared_error&#x27;)</pre><b>In a Jupyter environment, please rerun this cell to show the HTML representation or trust the notebook. <br />On GitHub, the HTML representation is unable to render, please try loading this page with nbviewer.org.</b></div><div class=\"sk-container\" hidden><div class=\"sk-item sk-dashed-wrapped\"><div class=\"sk-label-container\"><div class=\"sk-label sk-toggleable\"><input class=\"sk-toggleable__control sk-hidden--visually\" id=\"sk-estimator-id-1\" type=\"checkbox\" ><label for=\"sk-estimator-id-1\" class=\"sk-toggleable__label sk-toggleable__label-arrow\">GridSearchCV</label><div class=\"sk-toggleable__content\"><pre>GridSearchCV(cv=5, estimator=LinearRegression(), n_jobs=-1,\n",
       "             param_grid=[{&#x27;copy_X&#x27;: [True, False],\n",
       "                          &#x27;fit_intercept&#x27;: [True, False],\n",
       "                          &#x27;positive&#x27;: [True, False]}],\n",
       "             scoring=&#x27;neg_root_mean_squared_error&#x27;)</pre></div></div></div><div class=\"sk-parallel\"><div class=\"sk-parallel-item\"><div class=\"sk-item\"><div class=\"sk-label-container\"><div class=\"sk-label sk-toggleable\"><input class=\"sk-toggleable__control sk-hidden--visually\" id=\"sk-estimator-id-2\" type=\"checkbox\" ><label for=\"sk-estimator-id-2\" class=\"sk-toggleable__label sk-toggleable__label-arrow\">estimator: LinearRegression</label><div class=\"sk-toggleable__content\"><pre>LinearRegression()</pre></div></div></div><div class=\"sk-serial\"><div class=\"sk-item\"><div class=\"sk-estimator sk-toggleable\"><input class=\"sk-toggleable__control sk-hidden--visually\" id=\"sk-estimator-id-3\" type=\"checkbox\" ><label for=\"sk-estimator-id-3\" class=\"sk-toggleable__label sk-toggleable__label-arrow\">LinearRegression</label><div class=\"sk-toggleable__content\"><pre>LinearRegression()</pre></div></div></div></div></div></div></div></div></div></div>"
      ],
      "text/plain": [
       "GridSearchCV(cv=5, estimator=LinearRegression(), n_jobs=-1,\n",
       "             param_grid=[{'copy_X': [True, False],\n",
       "                          'fit_intercept': [True, False],\n",
       "                          'positive': [True, False]}],\n",
       "             scoring='neg_root_mean_squared_error')"
      ]
     },
     "execution_count": 24,
     "metadata": {},
     "output_type": "execute_result"
    }
   ],
   "source": [
    "%%time\n",
    "\n",
    "# Обучение модели LinearRegression\n",
    "parametrs = [{'fit_intercept':[True, False], 'copy_X': [True, False], 'positive': [True, False]}]\n",
    "model_lrg = GridSearchCV(LinearRegression(), parametrs, cv=5, scoring='neg_root_mean_squared_error', n_jobs=-1)\n",
    "model_lrg.fit(features_train, target_train)"
   ]
  },
  {
   "cell_type": "code",
   "execution_count": 25,
   "metadata": {
    "scrolled": true
   },
   "outputs": [
    {
     "name": "stdout",
     "output_type": "stream",
     "text": [
      "RMSE =  1930\n",
      "CPU times: total: 0 ns\n",
      "Wall time: 13 ms\n"
     ]
    }
   ],
   "source": [
    "%%time\n",
    "\n",
    "# Предсказание модели LinearRegression\n",
    "pred_lrg = model_lrg.predict(features_valid)\n",
    "rmse_lrg = np.sqrt(mean_squared_error(target_valid, pred_lrg))\n",
    "print('RMSE = ','%.0f'% rmse_lrg)\n",
    "LinearReg = ['LinearRegression', round(rmse_lrg), '3.48 s', '16 s', '15.6 ms', '13 ms']"
   ]
  },
  {
   "cell_type": "markdown",
   "metadata": {},
   "source": [
    "###  Проверка моделей на адекватность"
   ]
  },
  {
   "cell_type": "code",
   "execution_count": 26,
   "metadata": {},
   "outputs": [
    {
     "name": "stdout",
     "output_type": "stream",
     "text": [
      "rmse strategy mean 4649\n",
      "rmse strategy median 4919\n"
     ]
    }
   ],
   "source": [
    "for i in ['mean', 'median']:\n",
    "    model_mean = DummyRegressor(strategy=i)\n",
    "    model_mean.fit(features_train, target_train)\n",
    "    predict = model_mean.predict(features_valid)\n",
    "    score = np.sqrt(mean_squared_error(target_valid, predict))\n",
    "    print('rmse strategy', i,'%.0f'% score)"
   ]
  },
  {
   "cell_type": "markdown",
   "metadata": {},
   "source": [
    "## Анализ моделей"
   ]
  },
  {
   "cell_type": "code",
   "execution_count": 27,
   "metadata": {},
   "outputs": [
    {
     "data": {
      "text/html": [
       "<div>\n",
       "<style scoped>\n",
       "    .dataframe tbody tr th:only-of-type {\n",
       "        vertical-align: middle;\n",
       "    }\n",
       "\n",
       "    .dataframe tbody tr th {\n",
       "        vertical-align: top;\n",
       "    }\n",
       "\n",
       "    .dataframe thead th {\n",
       "        text-align: right;\n",
       "    }\n",
       "</style>\n",
       "<table border=\"1\" class=\"dataframe\">\n",
       "  <thead>\n",
       "    <tr style=\"text-align: right;\">\n",
       "      <th></th>\n",
       "      <th>Model</th>\n",
       "      <th>RMSE</th>\n",
       "      <th>learn_CPU_times</th>\n",
       "      <th>learn_Wall_time</th>\n",
       "      <th>pred_CPU_times</th>\n",
       "      <th>pred_Wall_time</th>\n",
       "    </tr>\n",
       "  </thead>\n",
       "  <tbody>\n",
       "    <tr>\n",
       "      <th>0</th>\n",
       "      <td>CatBoostRegressor</td>\n",
       "      <td>1523</td>\n",
       "      <td>9min 34s</td>\n",
       "      <td>1min 20s</td>\n",
       "      <td>734 ms</td>\n",
       "      <td>53 ms</td>\n",
       "    </tr>\n",
       "    <tr>\n",
       "      <th>1</th>\n",
       "      <td>LightGBM</td>\n",
       "      <td>1886</td>\n",
       "      <td>2.2 s</td>\n",
       "      <td>185 ms</td>\n",
       "      <td>219 ms</td>\n",
       "      <td>18 ms</td>\n",
       "    </tr>\n",
       "    <tr>\n",
       "      <th>2</th>\n",
       "      <td>LinearRegression</td>\n",
       "      <td>1930</td>\n",
       "      <td>3.48 s</td>\n",
       "      <td>16 s</td>\n",
       "      <td>15.6 ms</td>\n",
       "      <td>13 ms</td>\n",
       "    </tr>\n",
       "  </tbody>\n",
       "</table>\n",
       "</div>"
      ],
      "text/plain": [
       "               Model  RMSE learn_CPU_times learn_Wall_time pred_CPU_times  \\\n",
       "0  CatBoostRegressor  1523        9min 34s        1min 20s         734 ms   \n",
       "1           LightGBM  1886           2.2 s          185 ms         219 ms   \n",
       "2   LinearRegression  1930          3.48 s            16 s        15.6 ms   \n",
       "\n",
       "  pred_Wall_time  \n",
       "0          53 ms  \n",
       "1          18 ms  \n",
       "2          13 ms  "
      ]
     },
     "metadata": {},
     "output_type": "display_data"
    }
   ],
   "source": [
    "# Вывод таблицы с результами работы моделей\n",
    "tab = pd.DataFrame([CatBoost, LightGBM, LinearReg],\n",
    "                    columns=['Model', 'RMSE', 'learn_CPU_times', 'learn_Wall_time', 'pred_CPU_times', 'pred_Wall_time'])\n",
    "display(tab)"
   ]
  },
  {
   "cell_type": "markdown",
   "metadata": {},
   "source": [
    "### Вывод\n",
    "Самая точная модель машинного обучения на данном датасете - CatBoostRegressor. RMSE модели равен 1523. У моделей LightGBM и LinearRegression RMSE соответственно равен 1881 и 1930.  \n",
    "При самой высокой точности модель CatBoostRegressor самая медленная при обучении и при предсказании. Самая быстро обучающаяся  – LinearRegression при самом низком показании точности прогноза.  \n",
    "Модели были проверены на адекватность. Все модели имеют предсказательную силу.  \n",
    "При выборе модели обучения для определения стоимости автомобиля следует определить, что важнее точность предсказания или затрачиваемое время (вычислительные ресурсы) при более низком точности предсказания.\n",
    "Если важна точность следует выбрать модель CatBoostRegressor, если важны меньшие вычислительные ресурсы следует выбрать модель LightGBM или LinearRegression."
   ]
  }
 ],
 "metadata": {
  "kernelspec": {
   "display_name": "Python 3 (ipykernel)",
   "language": "python",
   "name": "python3"
  },
  "language_info": {
   "codemirror_mode": {
    "name": "ipython",
    "version": 3
   },
   "file_extension": ".py",
   "mimetype": "text/x-python",
   "name": "python",
   "nbconvert_exporter": "python",
   "pygments_lexer": "ipython3",
   "version": "3.9.12"
  },
  "toc": {
   "base_numbering": 1,
   "nav_menu": {
    "height": "275.067px",
    "width": "766.067px"
   },
   "number_sections": true,
   "sideBar": true,
   "skip_h1_title": true,
   "title_cell": "Table of Contents",
   "title_sidebar": "Contents",
   "toc_cell": false,
   "toc_position": {
    "height": "calc(100% - 180px)",
    "left": "10px",
    "top": "150px",
    "width": "294.4px"
   },
   "toc_section_display": true,
   "toc_window_display": true
  }
 },
 "nbformat": 4,
 "nbformat_minor": 2
}
