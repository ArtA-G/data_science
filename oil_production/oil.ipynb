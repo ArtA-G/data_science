{
 "cells": [
  {
   "cell_type": "markdown",
   "metadata": {},
   "source": [
    "# Выбор локации для скважины"
   ]
  },
  {
   "cell_type": "markdown",
   "metadata": {},
   "source": [
    "Цель проекта - ыбор наиболее выгодного региона для добычи нефти.\n",
    "\n",
    "Предоставлены пробы нефти в трёх регионах: в каждом 10 000 месторождений, где измерили качество нефти и объём её запасов. Необходимо построить модель машинного обучения, которая поможет определить регион, где добыча принесёт наибольшую прибыль, провести анализ возможной прибыли и рисков.\n",
    "\n",
    "Шаги для выбора локации:\n",
    "\n",
    "- В избранном регионе ищут месторождения, для каждого определяют значения признаков;\n",
    "- Строят модель и оценивают объём запасов;\n",
    "- Выбирают месторождения с самым высокими оценками значений. Количество месторождений зависит от бюджета компании и стоимости разработки одной скважины;\n",
    "- Прибыль равна суммарной прибыли отобранных месторождений."
   ]
  },
  {
   "cell_type": "markdown",
   "metadata": {},
   "source": [
    "## Загрузка и подготовка данных"
   ]
  },
  {
   "cell_type": "code",
   "execution_count": 1,
   "metadata": {},
   "outputs": [],
   "source": [
    "import pandas as pd\n",
    "import numpy as np\n",
    "from sklearn.model_selection import train_test_split\n",
    "from sklearn.linear_model import LinearRegression\n",
    "from sklearn.model_selection import GridSearchCV\n",
    "from sklearn.metrics import mean_squared_error\n",
    "from scipy import stats as st\n",
    "import matplotlib.pyplot as plt\n",
    "import seaborn as sns\n",
    "from math import sqrt"
   ]
  },
  {
   "cell_type": "code",
   "execution_count": 2,
   "metadata": {
    "scrolled": false
   },
   "outputs": [
    {
     "name": "stdout",
     "output_type": "stream",
     "text": [
      "Датафрейм 1-го региона \n",
      "\n",
      "<class 'pandas.core.frame.DataFrame'>\n",
      "RangeIndex: 100000 entries, 0 to 99999\n",
      "Data columns (total 5 columns):\n",
      " #   Column   Non-Null Count   Dtype  \n",
      "---  ------   --------------   -----  \n",
      " 0   id       100000 non-null  object \n",
      " 1   f0       100000 non-null  float64\n",
      " 2   f1       100000 non-null  float64\n",
      " 3   f2       100000 non-null  float64\n",
      " 4   product  100000 non-null  float64\n",
      "dtypes: float64(4), object(1)\n",
      "memory usage: 3.8+ MB\n",
      "Количество дубликатов: 0\n"
     ]
    },
    {
     "data": {
      "text/html": [
       "<div>\n",
       "<style scoped>\n",
       "    .dataframe tbody tr th:only-of-type {\n",
       "        vertical-align: middle;\n",
       "    }\n",
       "\n",
       "    .dataframe tbody tr th {\n",
       "        vertical-align: top;\n",
       "    }\n",
       "\n",
       "    .dataframe thead th {\n",
       "        text-align: right;\n",
       "    }\n",
       "</style>\n",
       "<table border=\"1\" class=\"dataframe\">\n",
       "  <thead>\n",
       "    <tr style=\"text-align: right;\">\n",
       "      <th></th>\n",
       "      <th>id</th>\n",
       "      <th>f0</th>\n",
       "      <th>f1</th>\n",
       "      <th>f2</th>\n",
       "      <th>product</th>\n",
       "    </tr>\n",
       "  </thead>\n",
       "  <tbody>\n",
       "    <tr>\n",
       "      <th>0</th>\n",
       "      <td>txEyH</td>\n",
       "      <td>0.705745</td>\n",
       "      <td>-0.497823</td>\n",
       "      <td>1.221170</td>\n",
       "      <td>105.280062</td>\n",
       "    </tr>\n",
       "    <tr>\n",
       "      <th>1</th>\n",
       "      <td>2acmU</td>\n",
       "      <td>1.334711</td>\n",
       "      <td>-0.340164</td>\n",
       "      <td>4.365080</td>\n",
       "      <td>73.037750</td>\n",
       "    </tr>\n",
       "    <tr>\n",
       "      <th>2</th>\n",
       "      <td>409Wp</td>\n",
       "      <td>1.022732</td>\n",
       "      <td>0.151990</td>\n",
       "      <td>1.419926</td>\n",
       "      <td>85.265647</td>\n",
       "    </tr>\n",
       "    <tr>\n",
       "      <th>3</th>\n",
       "      <td>iJLyR</td>\n",
       "      <td>-0.032172</td>\n",
       "      <td>0.139033</td>\n",
       "      <td>2.978566</td>\n",
       "      <td>168.620776</td>\n",
       "    </tr>\n",
       "    <tr>\n",
       "      <th>4</th>\n",
       "      <td>Xdl7t</td>\n",
       "      <td>1.988431</td>\n",
       "      <td>0.155413</td>\n",
       "      <td>4.751769</td>\n",
       "      <td>154.036647</td>\n",
       "    </tr>\n",
       "  </tbody>\n",
       "</table>\n",
       "</div>"
      ],
      "text/plain": [
       "      id        f0        f1        f2     product\n",
       "0  txEyH  0.705745 -0.497823  1.221170  105.280062\n",
       "1  2acmU  1.334711 -0.340164  4.365080   73.037750\n",
       "2  409Wp  1.022732  0.151990  1.419926   85.265647\n",
       "3  iJLyR -0.032172  0.139033  2.978566  168.620776\n",
       "4  Xdl7t  1.988431  0.155413  4.751769  154.036647"
      ]
     },
     "metadata": {},
     "output_type": "display_data"
    },
    {
     "name": "stdout",
     "output_type": "stream",
     "text": [
      "Датафрейм 2-го региона \n",
      "\n",
      "<class 'pandas.core.frame.DataFrame'>\n",
      "RangeIndex: 100000 entries, 0 to 99999\n",
      "Data columns (total 5 columns):\n",
      " #   Column   Non-Null Count   Dtype  \n",
      "---  ------   --------------   -----  \n",
      " 0   id       100000 non-null  object \n",
      " 1   f0       100000 non-null  float64\n",
      " 2   f1       100000 non-null  float64\n",
      " 3   f2       100000 non-null  float64\n",
      " 4   product  100000 non-null  float64\n",
      "dtypes: float64(4), object(1)\n",
      "memory usage: 3.8+ MB\n",
      "Количество дубликатов: 0\n"
     ]
    },
    {
     "data": {
      "text/html": [
       "<div>\n",
       "<style scoped>\n",
       "    .dataframe tbody tr th:only-of-type {\n",
       "        vertical-align: middle;\n",
       "    }\n",
       "\n",
       "    .dataframe tbody tr th {\n",
       "        vertical-align: top;\n",
       "    }\n",
       "\n",
       "    .dataframe thead th {\n",
       "        text-align: right;\n",
       "    }\n",
       "</style>\n",
       "<table border=\"1\" class=\"dataframe\">\n",
       "  <thead>\n",
       "    <tr style=\"text-align: right;\">\n",
       "      <th></th>\n",
       "      <th>id</th>\n",
       "      <th>f0</th>\n",
       "      <th>f1</th>\n",
       "      <th>f2</th>\n",
       "      <th>product</th>\n",
       "    </tr>\n",
       "  </thead>\n",
       "  <tbody>\n",
       "    <tr>\n",
       "      <th>0</th>\n",
       "      <td>kBEdx</td>\n",
       "      <td>-15.001348</td>\n",
       "      <td>-8.276000</td>\n",
       "      <td>-0.005876</td>\n",
       "      <td>3.179103</td>\n",
       "    </tr>\n",
       "    <tr>\n",
       "      <th>1</th>\n",
       "      <td>62mP7</td>\n",
       "      <td>14.272088</td>\n",
       "      <td>-3.475083</td>\n",
       "      <td>0.999183</td>\n",
       "      <td>26.953261</td>\n",
       "    </tr>\n",
       "    <tr>\n",
       "      <th>2</th>\n",
       "      <td>vyE1P</td>\n",
       "      <td>6.263187</td>\n",
       "      <td>-5.948386</td>\n",
       "      <td>5.001160</td>\n",
       "      <td>134.766305</td>\n",
       "    </tr>\n",
       "    <tr>\n",
       "      <th>3</th>\n",
       "      <td>KcrkZ</td>\n",
       "      <td>-13.081196</td>\n",
       "      <td>-11.506057</td>\n",
       "      <td>4.999415</td>\n",
       "      <td>137.945408</td>\n",
       "    </tr>\n",
       "    <tr>\n",
       "      <th>4</th>\n",
       "      <td>AHL4O</td>\n",
       "      <td>12.702195</td>\n",
       "      <td>-8.147433</td>\n",
       "      <td>5.004363</td>\n",
       "      <td>134.766305</td>\n",
       "    </tr>\n",
       "  </tbody>\n",
       "</table>\n",
       "</div>"
      ],
      "text/plain": [
       "      id         f0         f1        f2     product\n",
       "0  kBEdx -15.001348  -8.276000 -0.005876    3.179103\n",
       "1  62mP7  14.272088  -3.475083  0.999183   26.953261\n",
       "2  vyE1P   6.263187  -5.948386  5.001160  134.766305\n",
       "3  KcrkZ -13.081196 -11.506057  4.999415  137.945408\n",
       "4  AHL4O  12.702195  -8.147433  5.004363  134.766305"
      ]
     },
     "metadata": {},
     "output_type": "display_data"
    },
    {
     "name": "stdout",
     "output_type": "stream",
     "text": [
      "Датафрейм 3-го региона \n",
      "\n",
      "<class 'pandas.core.frame.DataFrame'>\n",
      "RangeIndex: 100000 entries, 0 to 99999\n",
      "Data columns (total 5 columns):\n",
      " #   Column   Non-Null Count   Dtype  \n",
      "---  ------   --------------   -----  \n",
      " 0   id       100000 non-null  object \n",
      " 1   f0       100000 non-null  float64\n",
      " 2   f1       100000 non-null  float64\n",
      " 3   f2       100000 non-null  float64\n",
      " 4   product  100000 non-null  float64\n",
      "dtypes: float64(4), object(1)\n",
      "memory usage: 3.8+ MB\n",
      "Количество дубликатов: 0\n"
     ]
    },
    {
     "data": {
      "text/html": [
       "<div>\n",
       "<style scoped>\n",
       "    .dataframe tbody tr th:only-of-type {\n",
       "        vertical-align: middle;\n",
       "    }\n",
       "\n",
       "    .dataframe tbody tr th {\n",
       "        vertical-align: top;\n",
       "    }\n",
       "\n",
       "    .dataframe thead th {\n",
       "        text-align: right;\n",
       "    }\n",
       "</style>\n",
       "<table border=\"1\" class=\"dataframe\">\n",
       "  <thead>\n",
       "    <tr style=\"text-align: right;\">\n",
       "      <th></th>\n",
       "      <th>id</th>\n",
       "      <th>f0</th>\n",
       "      <th>f1</th>\n",
       "      <th>f2</th>\n",
       "      <th>product</th>\n",
       "    </tr>\n",
       "  </thead>\n",
       "  <tbody>\n",
       "    <tr>\n",
       "      <th>0</th>\n",
       "      <td>fwXo0</td>\n",
       "      <td>-1.146987</td>\n",
       "      <td>0.963328</td>\n",
       "      <td>-0.828965</td>\n",
       "      <td>27.758673</td>\n",
       "    </tr>\n",
       "    <tr>\n",
       "      <th>1</th>\n",
       "      <td>WJtFt</td>\n",
       "      <td>0.262778</td>\n",
       "      <td>0.269839</td>\n",
       "      <td>-2.530187</td>\n",
       "      <td>56.069697</td>\n",
       "    </tr>\n",
       "    <tr>\n",
       "      <th>2</th>\n",
       "      <td>ovLUW</td>\n",
       "      <td>0.194587</td>\n",
       "      <td>0.289035</td>\n",
       "      <td>-5.586433</td>\n",
       "      <td>62.871910</td>\n",
       "    </tr>\n",
       "    <tr>\n",
       "      <th>3</th>\n",
       "      <td>q6cA6</td>\n",
       "      <td>2.236060</td>\n",
       "      <td>-0.553760</td>\n",
       "      <td>0.930038</td>\n",
       "      <td>114.572842</td>\n",
       "    </tr>\n",
       "    <tr>\n",
       "      <th>4</th>\n",
       "      <td>WPMUX</td>\n",
       "      <td>-0.515993</td>\n",
       "      <td>1.716266</td>\n",
       "      <td>5.899011</td>\n",
       "      <td>149.600746</td>\n",
       "    </tr>\n",
       "  </tbody>\n",
       "</table>\n",
       "</div>"
      ],
      "text/plain": [
       "      id        f0        f1        f2     product\n",
       "0  fwXo0 -1.146987  0.963328 -0.828965   27.758673\n",
       "1  WJtFt  0.262778  0.269839 -2.530187   56.069697\n",
       "2  ovLUW  0.194587  0.289035 -5.586433   62.871910\n",
       "3  q6cA6  2.236060 -0.553760  0.930038  114.572842\n",
       "4  WPMUX -0.515993  1.716266  5.899011  149.600746"
      ]
     },
     "metadata": {},
     "output_type": "display_data"
    }
   ],
   "source": [
    "df1 = pd.read_csv('D:\\\\Documents\\\\ds\\\\oil\\\\geo_data_0.csv')\n",
    "df2 = pd.read_csv('D:\\\\Documents\\\\ds\\\\oil\\\\geo_data_1.csv')\n",
    "df3 = pd.read_csv('D:\\\\Documents\\\\ds\\\\oil\\\\geo_data_2.csv')\n",
    "\n",
    "# df1 = pd.read_csv('/datasets/geo_data_0.csv')\n",
    "# df2 = pd.read_csv('/datasets/geo_data_1.csv')\n",
    "# df3 = pd.read_csv('/datasets/geo_data_2.csv')\n",
    "\n",
    "def df_inf(inf, x):\n",
    "    print(inf, '\\n')\n",
    "    x.info()\n",
    "    print('Количество дубликатов:', x.duplicated().sum())\n",
    "    display(x.head())\n",
    "\n",
    "df_inf('Датафрейм 1-го региона', df1)\n",
    "df_inf('Датафрейм 2-го региона', df2)\n",
    "df_inf('Датафрейм 3-го региона', df3)"
   ]
  },
  {
   "cell_type": "code",
   "execution_count": 3,
   "metadata": {},
   "outputs": [
    {
     "data": {
      "image/png": "[encoded data removed]",
      "text/plain": [
       "<Figure size 432x288 with 2 Axes>"
      ]
     },
     "metadata": {
      "needs_background": "light"
     },
     "output_type": "display_data"
    },
    {
     "name": "stdout",
     "output_type": "stream",
     "text": [
      "\n"
     ]
    },
    {
     "data": {
      "image/png": "[encoded data removed]",
      "text/plain": [
       "<Figure size 432x288 with 2 Axes>"
      ]
     },
     "metadata": {},
     "output_type": "display_data"
    },
    {
     "name": "stdout",
     "output_type": "stream",
     "text": [
      "\n"
     ]
    },
    {
     "data": {
      "image/png": "[encoded data removed]",
      "text/plain": [
       "<Figure size 432x288 with 2 Axes>"
      ]
     },
     "metadata": {},
     "output_type": "display_data"
    },
    {
     "name": "stdout",
     "output_type": "stream",
     "text": [
      "\n"
     ]
    }
   ],
   "source": [
    "# Проверка на корреляцию признаков\n",
    "for i in (df1, df2, df3):\n",
    "    i.drop(['id'], inplace=True, axis=1)\n",
    "    plt.figure(figsize=(6, 4))\n",
    "    sns.set(font_scale=1)\n",
    "    matrix = np.triu(i.corr())\n",
    "    sns.heatmap(i.corr(), annot=True, cmap= 'coolwarm', mask = matrix)\n",
    "    plt.title('Корреляция признаков')\n",
    "    plt.show()\n",
    "    print()"
   ]
  },
  {
   "cell_type": "markdown",
   "metadata": {},
   "source": [
    "### Вывод\n",
    "Предоставленные 3 датасета, содержащие по 100000 строк и 5 столбцов.  \n",
    "Пропусков и дубликатов в предоставленных датасетах нет.  \n",
    "Столбец 'id' не влияет на целевой признак, поэтому был удален.  \n",
    "В датафрейме 2-го региона сильная корреляция признака 'f2' и целевого признака 'product'."
   ]
  },
  {
   "cell_type": "markdown",
   "metadata": {},
   "source": [
    "## Обучение и проверка модели"
   ]
  },
  {
   "cell_type": "code",
   "execution_count": 4,
   "metadata": {},
   "outputs": [],
   "source": [
    "def calc(df):\n",
    "    # Разбивка данных на обучающую и валидационную выборки\n",
    "    features = df.drop('product', axis=1)\n",
    "    target = df['product']\n",
    "    target = df['product']\n",
    "    features_train, features_valid, target_train, target_valid = train_test_split(\n",
    "    features, target, test_size=0.25, random_state=12345)\n",
    "    \n",
    "    # Обучение модели и выполнение предсказания на валидационной выборке\n",
    "    parametrs = [{'fit_intercept':[True, False], 'copy_X': [True, False], 'positive': [True, False]}]\n",
    "    model = GridSearchCV(LinearRegression(), parametrs, cv=5, scoring='neg_root_mean_squared_error', n_jobs=-1)\n",
    "    model.fit(features_train, target_train)\n",
    "    pred = model.predict(features_valid)\n",
    "    \n",
    "    # Сохраниние предсказаний и правильных ответов в валидационной выборке\n",
    "    s = pd.Series(pred)\n",
    "    valid_pred = pd.DataFrame({'valid':target_valid.values, 'pred':s.values})\n",
    "    valid_pred.rename(columns={0: 'pred'}, inplace=True)\n",
    "    \n",
    "    # Сохранение в переменных среднего запаса предсказанного сырья и RMSE \n",
    "    stock = valid_pred['pred'].mean()\n",
    "    rmse = sqrt(mean_squared_error(target_valid, pred))\n",
    "    \n",
    "    return valid_pred, stock, rmse"
   ]
  },
  {
   "cell_type": "code",
   "execution_count": 5,
   "metadata": {},
   "outputs": [],
   "source": [
    "valid_pred1, stock1, rmse1 = calc(df1)\n",
    "valid_pred2, stock2, rmse2 = calc(df2)\n",
    "valid_pred3, stock3, rmse3 = calc(df3)"
   ]
  },
  {
   "cell_type": "code",
   "execution_count": 6,
   "metadata": {},
   "outputs": [
    {
     "name": "stdout",
     "output_type": "stream",
     "text": [
      "  1-ый регион: \n",
      " Средний запас предсказанного сырья  93 \n",
      " RMSE модели  37.6 \n",
      "\n",
      "  2-ый регион: \n",
      " Средний запас предсказанного сырья  69 \n",
      " RMSE модели  0.9 \n",
      "\n",
      "  3-ый регион: \n",
      " Средний запас предсказанного сырья  95 \n",
      " RMSE модели  40.0 \n",
      "\n"
     ]
    }
   ],
   "source": [
    "print(f\"  1-ый регион: \\n Средний запас предсказанного сырья {stock1: .0f} \\n RMSE модели {rmse1: .1f} \\n\")\n",
    "print(f\"  2-ый регион: \\n Средний запас предсказанного сырья {stock2: .0f} \\n RMSE модели {rmse2: .1f} \\n\")\n",
    "print(f\"  3-ый регион: \\n Средний запас предсказанного сырья {stock3: .0f} \\n RMSE модели {rmse3: .1f} \\n\")"
   ]
  },
  {
   "cell_type": "markdown",
   "metadata": {},
   "source": [
    "### Вывод\n",
    "Самый высокий запас предсказанного сырья в 1-ом и 3-м регионе, самый низкий во 2-ом.  \n",
    "RMSE модели 2-го региона имеет очень низкий показатель, что объясняется высокой корреляцией признака 'f2' и целевого признака 'product'."
   ]
  },
  {
   "cell_type": "markdown",
   "metadata": {},
   "source": [
    "## Подготовка к расчёту прибыли"
   ]
  },
  {
   "cell_type": "code",
   "execution_count": 7,
   "metadata": {},
   "outputs": [],
   "source": [
    "VOLUME = 10000000000\n",
    "REVENUE = 450000\n",
    "TEST_POINT = 500\n",
    "BEST_POINT = 200\n",
    "ALPHA = 0.025"
   ]
  },
  {
   "cell_type": "code",
   "execution_count": 8,
   "metadata": {
    "scrolled": true
   },
   "outputs": [
    {
     "name": "stdout",
     "output_type": "stream",
     "text": [
      "Достаточный объём сырья для безубыточной разработки новой скважины -  111 тыс. баррелей\n"
     ]
    }
   ],
   "source": [
    "volum_oil = VOLUME / REVENUE / BEST_POINT\n",
    "print(f'Достаточный объём сырья для безубыточной разработки новой скважины - {volum_oil: .0f} тыс. баррелей')"
   ]
  },
  {
   "cell_type": "markdown",
   "metadata": {},
   "source": [
    "### Вывод\n",
    "Достаточный объём сырья для безубыточной разработки новой скважины выше чем средний запас предсказанного сырья по каждому региону.   \n",
    "Для получения прибыли при добыче необходимо выбирать скважины с наибольшим запасом сырья."
   ]
  },
  {
   "cell_type": "markdown",
   "metadata": {},
   "source": [
    "## Расчёт прибыли и рисков "
   ]
  },
  {
   "cell_type": "code",
   "execution_count": 9,
   "metadata": {},
   "outputs": [],
   "source": [
    "def profit(valid_pred):\n",
    "    state = np.random.RandomState(12345)\n",
    "    values = []\n",
    "    for i in range(1000):\n",
    "        # Применение техники Bootstrap для вычисления распределения прибыли \n",
    "        subsample = valid_pred.sample(n=500, replace=True, random_state=state)\n",
    "        sub = subsample.sort_values(by='pred', ascending=False).head(200)\n",
    "        profit = sub['valid'].sum() * REVENUE - VOLUME\n",
    "        values.append(profit)\n",
    "        \n",
    "    values = pd.Series(values)\n",
    "    \n",
    "    # Расчет 95%-ого доверительного интервала \n",
    "    lower = values.quantile(0.025)\n",
    "    upper = values.quantile(0.975)\n",
    "    \n",
    "    # Расчет средней прибыли 200 лучших скважин\n",
    "    profit_mean = values.mean()\n",
    "    \n",
    "    # Расчет риска убытков\n",
    "    risk_loss = (values < 0).mean()\n",
    "    \n",
    "    return profit_mean, risk_loss, lower, upper"
   ]
  },
  {
   "cell_type": "code",
   "execution_count": 10,
   "metadata": {},
   "outputs": [],
   "source": [
    "profit_mean1, risk_loss1, lower1, upper1 = profit(valid_pred1)\n",
    "profit_mean2, risk_loss2, lower2, upper2 = profit(valid_pred2)\n",
    "profit_mean3, risk_loss3, lower3, upper3 = profit(valid_pred3)"
   ]
  },
  {
   "cell_type": "code",
   "execution_count": 11,
   "metadata": {},
   "outputs": [
    {
     "name": "stdout",
     "output_type": "stream",
     "text": [
      "   1-ый регион: \n",
      " Cредняя прибыль -  396164985 \n",
      " 95%-й доверительный интервал (-111215546  909766942) \n",
      " риск убытков  0.069 \n",
      "\n",
      "   2-ой регион: \n",
      " Cредняя прибыль -  456045106 \n",
      " 95%-й доверительный интервал ( 33820509  852289454) \n",
      " риск убытков  0.015 \n",
      "\n",
      "   3-ий регион: \n",
      " Cредняя прибыль -  404460705 \n",
      " 95%-й доверительный интервал (-165693883  946444849) \n",
      " риск убытков  0.077\n"
     ]
    }
   ],
   "source": [
    "print(f'   1-ый регион: \\n'\n",
    "      f' Cредняя прибыль - {profit_mean1: .0f} \\n'\n",
    "      f' 95%-й доверительный интервал ({lower1: .0f} {upper1: .0f}) \\n'\n",
    "      f' риск убытков {risk_loss1: .3f} \\n')\n",
    "\n",
    "print(f'   2-ой регион: \\n'\n",
    "      f' Cредняя прибыль - {profit_mean2: .0f} \\n'\n",
    "      f' 95%-й доверительный интервал ({lower2: .0f} {upper2: .0f}) \\n'\n",
    "      f' риск убытков {risk_loss2: .3f} \\n') \n",
    "\n",
    "print(f'   3-ий регион: \\n'\n",
    "      f' Cредняя прибыль - {profit_mean3: .0f} \\n'\n",
    "      f' 95%-й доверительный интервал ({lower3: .0f} {upper3: .0f}) \\n'\n",
    "      f' риск убытков {risk_loss3: .3f}') "
   ]
  },
  {
   "cell_type": "markdown",
   "metadata": {},
   "source": [
    "### Вывод\n",
    "Средняя прибыль при добычи самая высокая во 2-ом регионе.  \n",
    "Диапазон 95%-го доверительного интервала во 2-ом регионе выше, чем в других регионах и не включает убытки.  \n",
    "Риск убытков составляет 1,5% что ниже допустимого (2,5%) и ниже, чем в других регионах.  \n",
    "По результатам проведенного исследования для добычи сырья необходимо выбрать 2-ой регион. "
   ]
  }
 ],
 "metadata": {
  "kernelspec": {
   "display_name": "Python 3 (ipykernel)",
   "language": "python",
   "name": "python3"
  },
  "language_info": {
   "codemirror_mode": {
    "name": "ipython",
    "version": 3
   },
   "file_extension": ".py",
   "mimetype": "text/x-python",
   "name": "python",
   "nbconvert_exporter": "python",
   "pygments_lexer": "ipython3",
   "version": "3.9.12"
  },
  "toc": {
   "base_numbering": 1,
   "nav_menu": {},
   "number_sections": true,
   "sideBar": true,
   "skip_h1_title": true,
   "title_cell": "Table of Contents",
   "title_sidebar": "Contents",
   "toc_cell": false,
   "toc_position": {},
   "toc_section_display": true,
   "toc_window_display": true
  }
 },
 "nbformat": 4,
 "nbformat_minor": 2
}
