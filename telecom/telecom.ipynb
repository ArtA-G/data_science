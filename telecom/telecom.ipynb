{
 "cells": [
  {
   "cell_type": "markdown",
   "metadata": {
    "toc": true
   },
   "source": [
    "<h1>Содержание<span class=\"tocSkip\"></span></h1>\n",
    "<div class=\"toc\"><ul class=\"toc-item\"><li><span><a href=\"#Изучение-данных-из-файла\" data-toc-modified-id=\"Изучение-данных-из-файла-1\"><span class=\"toc-item-num\">1&nbsp;&nbsp;</span>Изучение данных из файла</a></span><ul class=\"toc-item\"><li><span><a href=\"#Вывод\" data-toc-modified-id=\"Вывод-1.1\"><span class=\"toc-item-num\">1.1&nbsp;&nbsp;</span>Вывод</a></span></li></ul></li><li><span><a href=\"#Предобработка-данных\" data-toc-modified-id=\"Предобработка-данных-2\"><span class=\"toc-item-num\">2&nbsp;&nbsp;</span>Предобработка данных</a></span><ul class=\"toc-item\"><li><span><a href=\"#Итоги-предобработки\" data-toc-modified-id=\"Итоги-предобработки-2.1\"><span class=\"toc-item-num\">2.1&nbsp;&nbsp;</span>Итоги предобработки</a></span></li></ul></li><li><span><a href=\"#Расчёты-и-добавление-результатов-в-таблицы\" data-toc-modified-id=\"Расчёты-и-добавление-результатов-в-таблицы-3\"><span class=\"toc-item-num\">3&nbsp;&nbsp;</span>Расчёты и добавление результатов в таблицы</a></span><ul class=\"toc-item\"><li><span><a href=\"#Подготовка-таблиц-для-проведения-расчетов\" data-toc-modified-id=\"Подготовка-таблиц-для-проведения-расчетов-3.1\"><span class=\"toc-item-num\">3.1&nbsp;&nbsp;</span>Подготовка таблиц для проведения расчетов</a></span></li><li><span><a href=\"#Создание-функций-используемых-в-расчетах\" data-toc-modified-id=\"Создание-функций-используемых-в-расчетах-3.2\"><span class=\"toc-item-num\">3.2&nbsp;&nbsp;</span>Создание функций используемых в расчетах</a></span></li><li><span><a href=\"#Расчет,-формирование-итоговых-таблиц-для-анализа\" data-toc-modified-id=\"Расчет,-формирование-итоговых-таблиц-для-анализа-3.3\"><span class=\"toc-item-num\">3.3&nbsp;&nbsp;</span>Расчет, формирование итоговых таблиц для анализа</a></span></li><li><span><a href=\"#Итог-расчетов\" data-toc-modified-id=\"Итог-расчетов-3.4\"><span class=\"toc-item-num\">3.4&nbsp;&nbsp;</span>Итог расчетов</a></span></li></ul></li><li><span><a href=\"#Анализ-данных\" data-toc-modified-id=\"Анализ-данных-4\"><span class=\"toc-item-num\">4&nbsp;&nbsp;</span>Анализ данных</a></span><ul class=\"toc-item\"><li><span><a href=\"#Анализ-средемесячного-количествва-звонков\" data-toc-modified-id=\"Анализ-средемесячного-количествва-звонков-4.1\"><span class=\"toc-item-num\">4.1&nbsp;&nbsp;</span>Анализ средемесячного количествва звонков</a></span></li><li><span><a href=\"#Анализ-средней-продолжительности-звонков-за-месяц\" data-toc-modified-id=\"Анализ-средней-продолжительности-звонков-за-месяц-4.2\"><span class=\"toc-item-num\">4.2&nbsp;&nbsp;</span>Анализ средней продолжительности звонков за месяц</a></span></li><li><span><a href=\"#Анализ-среднего-количества-смс-сообщений-за-месяц\" data-toc-modified-id=\"Анализ-среднего-количества-смс-сообщений-за-месяц-4.3\"><span class=\"toc-item-num\">4.3&nbsp;&nbsp;</span>Анализ среднего количества смс сообщений за месяц</a></span></li><li><span><a href=\"#Анализ-среднего-потреблению-трафика-за-месяц\" data-toc-modified-id=\"Анализ-среднего-потреблению-трафика-за-месяц-4.4\"><span class=\"toc-item-num\">4.4&nbsp;&nbsp;</span>Анализ среднего потреблению трафика за месяц</a></span></li><li><span><a href=\"#Анализ-средней-выручке-от-пользователей-за-месяц\" data-toc-modified-id=\"Анализ-средней-выручке-от-пользователей-за-месяц-4.5\"><span class=\"toc-item-num\">4.5&nbsp;&nbsp;</span>Анализ средней выручке от пользователей за месяц</a></span></li><li><span><a href=\"#Результат-анализа-данных\" data-toc-modified-id=\"Результат-анализа-данных-4.6\"><span class=\"toc-item-num\">4.6&nbsp;&nbsp;</span><font style=\"vertical-align: inherit;\">Результат анализа данных </font></a></span></li><li><span><a href=\"#Проверка-гипотез\" data-toc-modified-id=\"Проверка-гипотез-4.7\"><span class=\"toc-item-num\">4.7&nbsp;&nbsp;</span><font style=\"vertical-align: inherit;\">Проверка гипотез </font></a></span></li><li><span><a href=\"#Итоги-анализа-данных\" data-toc-modified-id=\"Итоги-анализа-данных-4.8\"><span class=\"toc-item-num\">4.8&nbsp;&nbsp;</span>Итоги анализа данных</a></span></li></ul></li><li><span><a href=\"#Общий-вывод\" data-toc-modified-id=\"Общий-вывод-5\"><span class=\"toc-item-num\">5&nbsp;&nbsp;</span>Общий вывод</a></span></li></ul></div>"
   ]
  },
  {
   "cell_type": "markdown",
   "metadata": {},
   "source": [
    "# Исследование\n",
    "В вашем распоряжении выборка по 500 пользователям опрератора сотовой компании \"Мегалайн\". Цель проекта - проанализировать поведение клиентов 2-х тарифных планов «Смарт» и «Ультра» и выявить какой тарифный план приносит больше денег."
   ]
  },
  {
   "cell_type": "markdown",
   "metadata": {},
   "source": [
    "## Изучение данных из файла"
   ]
  },
  {
   "cell_type": "code",
   "execution_count": 1,
   "metadata": {
    "scrolled": false
   },
   "outputs": [],
   "source": [
    "import pandas as pd\n",
    "import numpy as np\n",
    "from statistics import mean\n",
    "from scipy import stats as st\n",
    "import matplotlib.pyplot as plt\n",
    "import seaborn as sns\n",
    "import warnings\n",
    "warnings.filterwarnings(\"ignore\")"
   ]
  },
  {
   "cell_type": "code",
   "execution_count": 2,
   "metadata": {
    "scrolled": false
   },
   "outputs": [
    {
     "name": "stdout",
     "output_type": "stream",
     "text": [
      "Датафрейм информация о звонках \n",
      "\n",
      "<class 'pandas.core.frame.DataFrame'>\n",
      "RangeIndex: 202607 entries, 0 to 202606\n",
      "Data columns (total 4 columns):\n",
      " #   Column     Non-Null Count   Dtype  \n",
      "---  ------     --------------   -----  \n",
      " 0   id         202607 non-null  object \n",
      " 1   call_date  202607 non-null  object \n",
      " 2   duration   202607 non-null  float64\n",
      " 3   user_id    202607 non-null  int64  \n",
      "dtypes: float64(1), int64(1), object(2)\n",
      "memory usage: 6.2+ MB\n"
     ]
    },
    {
     "data": {
      "text/html": [
       "<div>\n",
       "<style scoped>\n",
       "    .dataframe tbody tr th:only-of-type {\n",
       "        vertical-align: middle;\n",
       "    }\n",
       "\n",
       "    .dataframe tbody tr th {\n",
       "        vertical-align: top;\n",
       "    }\n",
       "\n",
       "    .dataframe thead th {\n",
       "        text-align: right;\n",
       "    }\n",
       "</style>\n",
       "<table border=\"1\" class=\"dataframe\">\n",
       "  <thead>\n",
       "    <tr style=\"text-align: right;\">\n",
       "      <th></th>\n",
       "      <th>id</th>\n",
       "      <th>call_date</th>\n",
       "      <th>duration</th>\n",
       "      <th>user_id</th>\n",
       "    </tr>\n",
       "  </thead>\n",
       "  <tbody>\n",
       "    <tr>\n",
       "      <th>0</th>\n",
       "      <td>1000_0</td>\n",
       "      <td>2018-07-25</td>\n",
       "      <td>0.00</td>\n",
       "      <td>1000</td>\n",
       "    </tr>\n",
       "    <tr>\n",
       "      <th>1</th>\n",
       "      <td>1000_1</td>\n",
       "      <td>2018-08-17</td>\n",
       "      <td>0.00</td>\n",
       "      <td>1000</td>\n",
       "    </tr>\n",
       "    <tr>\n",
       "      <th>2</th>\n",
       "      <td>1000_2</td>\n",
       "      <td>2018-06-11</td>\n",
       "      <td>2.85</td>\n",
       "      <td>1000</td>\n",
       "    </tr>\n",
       "    <tr>\n",
       "      <th>3</th>\n",
       "      <td>1000_3</td>\n",
       "      <td>2018-09-21</td>\n",
       "      <td>13.80</td>\n",
       "      <td>1000</td>\n",
       "    </tr>\n",
       "    <tr>\n",
       "      <th>4</th>\n",
       "      <td>1000_4</td>\n",
       "      <td>2018-12-15</td>\n",
       "      <td>5.18</td>\n",
       "      <td>1000</td>\n",
       "    </tr>\n",
       "  </tbody>\n",
       "</table>\n",
       "</div>"
      ],
      "text/plain": [
       "       id   call_date  duration  user_id\n",
       "0  1000_0  2018-07-25      0.00     1000\n",
       "1  1000_1  2018-08-17      0.00     1000\n",
       "2  1000_2  2018-06-11      2.85     1000\n",
       "3  1000_3  2018-09-21     13.80     1000\n",
       "4  1000_4  2018-12-15      5.18     1000"
      ]
     },
     "metadata": {},
     "output_type": "display_data"
    },
    {
     "name": "stdout",
     "output_type": "stream",
     "text": [
      "Количество пропусков:\n",
      "id           0\n",
      "call_date    0\n",
      "duration     0\n",
      "user_id      0\n",
      "dtype: int64\n",
      "Количество дубликатов: 0 \n",
      "\n",
      "\n",
      "Датафрейм информация об интернет-сессиях \n",
      "\n",
      "<class 'pandas.core.frame.DataFrame'>\n",
      "RangeIndex: 149396 entries, 0 to 149395\n",
      "Data columns (total 5 columns):\n",
      " #   Column        Non-Null Count   Dtype  \n",
      "---  ------        --------------   -----  \n",
      " 0   Unnamed: 0    149396 non-null  int64  \n",
      " 1   id            149396 non-null  object \n",
      " 2   mb_used       149396 non-null  float64\n",
      " 3   session_date  149396 non-null  object \n",
      " 4   user_id       149396 non-null  int64  \n",
      "dtypes: float64(1), int64(2), object(2)\n",
      "memory usage: 5.7+ MB\n"
     ]
    },
    {
     "data": {
      "text/html": [
       "<div>\n",
       "<style scoped>\n",
       "    .dataframe tbody tr th:only-of-type {\n",
       "        vertical-align: middle;\n",
       "    }\n",
       "\n",
       "    .dataframe tbody tr th {\n",
       "        vertical-align: top;\n",
       "    }\n",
       "\n",
       "    .dataframe thead th {\n",
       "        text-align: right;\n",
       "    }\n",
       "</style>\n",
       "<table border=\"1\" class=\"dataframe\">\n",
       "  <thead>\n",
       "    <tr style=\"text-align: right;\">\n",
       "      <th></th>\n",
       "      <th>Unnamed: 0</th>\n",
       "      <th>id</th>\n",
       "      <th>mb_used</th>\n",
       "      <th>session_date</th>\n",
       "      <th>user_id</th>\n",
       "    </tr>\n",
       "  </thead>\n",
       "  <tbody>\n",
       "    <tr>\n",
       "      <th>0</th>\n",
       "      <td>0</td>\n",
       "      <td>1000_0</td>\n",
       "      <td>112.95</td>\n",
       "      <td>2018-11-25</td>\n",
       "      <td>1000</td>\n",
       "    </tr>\n",
       "    <tr>\n",
       "      <th>1</th>\n",
       "      <td>1</td>\n",
       "      <td>1000_1</td>\n",
       "      <td>1052.81</td>\n",
       "      <td>2018-09-07</td>\n",
       "      <td>1000</td>\n",
       "    </tr>\n",
       "    <tr>\n",
       "      <th>2</th>\n",
       "      <td>2</td>\n",
       "      <td>1000_2</td>\n",
       "      <td>1197.26</td>\n",
       "      <td>2018-06-25</td>\n",
       "      <td>1000</td>\n",
       "    </tr>\n",
       "    <tr>\n",
       "      <th>3</th>\n",
       "      <td>3</td>\n",
       "      <td>1000_3</td>\n",
       "      <td>550.27</td>\n",
       "      <td>2018-08-22</td>\n",
       "      <td>1000</td>\n",
       "    </tr>\n",
       "    <tr>\n",
       "      <th>4</th>\n",
       "      <td>4</td>\n",
       "      <td>1000_4</td>\n",
       "      <td>302.56</td>\n",
       "      <td>2018-09-24</td>\n",
       "      <td>1000</td>\n",
       "    </tr>\n",
       "  </tbody>\n",
       "</table>\n",
       "</div>"
      ],
      "text/plain": [
       "   Unnamed: 0      id  mb_used session_date  user_id\n",
       "0           0  1000_0   112.95   2018-11-25     1000\n",
       "1           1  1000_1  1052.81   2018-09-07     1000\n",
       "2           2  1000_2  1197.26   2018-06-25     1000\n",
       "3           3  1000_3   550.27   2018-08-22     1000\n",
       "4           4  1000_4   302.56   2018-09-24     1000"
      ]
     },
     "metadata": {},
     "output_type": "display_data"
    },
    {
     "name": "stdout",
     "output_type": "stream",
     "text": [
      "Количество пропусков:\n",
      "Unnamed: 0      0\n",
      "id              0\n",
      "mb_used         0\n",
      "session_date    0\n",
      "user_id         0\n",
      "dtype: int64\n",
      "Количество дубликатов: 0 \n",
      "\n",
      "\n",
      "Датафрейм информация об информация о сообщениях \n",
      "\n",
      "<class 'pandas.core.frame.DataFrame'>\n",
      "RangeIndex: 123036 entries, 0 to 123035\n",
      "Data columns (total 3 columns):\n",
      " #   Column        Non-Null Count   Dtype \n",
      "---  ------        --------------   ----- \n",
      " 0   id            123036 non-null  object\n",
      " 1   message_date  123036 non-null  object\n",
      " 2   user_id       123036 non-null  int64 \n",
      "dtypes: int64(1), object(2)\n",
      "memory usage: 2.8+ MB\n"
     ]
    },
    {
     "data": {
      "text/html": [
       "<div>\n",
       "<style scoped>\n",
       "    .dataframe tbody tr th:only-of-type {\n",
       "        vertical-align: middle;\n",
       "    }\n",
       "\n",
       "    .dataframe tbody tr th {\n",
       "        vertical-align: top;\n",
       "    }\n",
       "\n",
       "    .dataframe thead th {\n",
       "        text-align: right;\n",
       "    }\n",
       "</style>\n",
       "<table border=\"1\" class=\"dataframe\">\n",
       "  <thead>\n",
       "    <tr style=\"text-align: right;\">\n",
       "      <th></th>\n",
       "      <th>id</th>\n",
       "      <th>message_date</th>\n",
       "      <th>user_id</th>\n",
       "    </tr>\n",
       "  </thead>\n",
       "  <tbody>\n",
       "    <tr>\n",
       "      <th>0</th>\n",
       "      <td>1000_0</td>\n",
       "      <td>2018-06-27</td>\n",
       "      <td>1000</td>\n",
       "    </tr>\n",
       "    <tr>\n",
       "      <th>1</th>\n",
       "      <td>1000_1</td>\n",
       "      <td>2018-10-08</td>\n",
       "      <td>1000</td>\n",
       "    </tr>\n",
       "    <tr>\n",
       "      <th>2</th>\n",
       "      <td>1000_2</td>\n",
       "      <td>2018-08-04</td>\n",
       "      <td>1000</td>\n",
       "    </tr>\n",
       "    <tr>\n",
       "      <th>3</th>\n",
       "      <td>1000_3</td>\n",
       "      <td>2018-06-16</td>\n",
       "      <td>1000</td>\n",
       "    </tr>\n",
       "    <tr>\n",
       "      <th>4</th>\n",
       "      <td>1000_4</td>\n",
       "      <td>2018-12-05</td>\n",
       "      <td>1000</td>\n",
       "    </tr>\n",
       "  </tbody>\n",
       "</table>\n",
       "</div>"
      ],
      "text/plain": [
       "       id message_date  user_id\n",
       "0  1000_0   2018-06-27     1000\n",
       "1  1000_1   2018-10-08     1000\n",
       "2  1000_2   2018-08-04     1000\n",
       "3  1000_3   2018-06-16     1000\n",
       "4  1000_4   2018-12-05     1000"
      ]
     },
     "metadata": {},
     "output_type": "display_data"
    },
    {
     "name": "stdout",
     "output_type": "stream",
     "text": [
      "Количество пропусков:\n",
      "id              0\n",
      "message_date    0\n",
      "user_id         0\n",
      "dtype: int64\n",
      "Количество дубликатов: 0 \n",
      "\n",
      "\n",
      "Датафрейм информация о тарифах \n",
      "\n",
      "<class 'pandas.core.frame.DataFrame'>\n",
      "RangeIndex: 2 entries, 0 to 1\n",
      "Data columns (total 8 columns):\n",
      " #   Column                 Non-Null Count  Dtype \n",
      "---  ------                 --------------  ----- \n",
      " 0   messages_included      2 non-null      int64 \n",
      " 1   mb_per_month_included  2 non-null      int64 \n",
      " 2   minutes_included       2 non-null      int64 \n",
      " 3   rub_monthly_fee        2 non-null      int64 \n",
      " 4   rub_per_gb             2 non-null      int64 \n",
      " 5   rub_per_message        2 non-null      int64 \n",
      " 6   rub_per_minute         2 non-null      int64 \n",
      " 7   tariff_name            2 non-null      object\n",
      "dtypes: int64(7), object(1)\n",
      "memory usage: 256.0+ bytes\n"
     ]
    },
    {
     "data": {
      "text/html": [
       "<div>\n",
       "<style scoped>\n",
       "    .dataframe tbody tr th:only-of-type {\n",
       "        vertical-align: middle;\n",
       "    }\n",
       "\n",
       "    .dataframe tbody tr th {\n",
       "        vertical-align: top;\n",
       "    }\n",
       "\n",
       "    .dataframe thead th {\n",
       "        text-align: right;\n",
       "    }\n",
       "</style>\n",
       "<table border=\"1\" class=\"dataframe\">\n",
       "  <thead>\n",
       "    <tr style=\"text-align: right;\">\n",
       "      <th></th>\n",
       "      <th>messages_included</th>\n",
       "      <th>mb_per_month_included</th>\n",
       "      <th>minutes_included</th>\n",
       "      <th>rub_monthly_fee</th>\n",
       "      <th>rub_per_gb</th>\n",
       "      <th>rub_per_message</th>\n",
       "      <th>rub_per_minute</th>\n",
       "      <th>tariff_name</th>\n",
       "    </tr>\n",
       "  </thead>\n",
       "  <tbody>\n",
       "    <tr>\n",
       "      <th>0</th>\n",
       "      <td>50</td>\n",
       "      <td>15360</td>\n",
       "      <td>500</td>\n",
       "      <td>550</td>\n",
       "      <td>200</td>\n",
       "      <td>3</td>\n",
       "      <td>3</td>\n",
       "      <td>smart</td>\n",
       "    </tr>\n",
       "    <tr>\n",
       "      <th>1</th>\n",
       "      <td>1000</td>\n",
       "      <td>30720</td>\n",
       "      <td>3000</td>\n",
       "      <td>1950</td>\n",
       "      <td>150</td>\n",
       "      <td>1</td>\n",
       "      <td>1</td>\n",
       "      <td>ultra</td>\n",
       "    </tr>\n",
       "  </tbody>\n",
       "</table>\n",
       "</div>"
      ],
      "text/plain": [
       "   messages_included  mb_per_month_included  minutes_included  \\\n",
       "0                 50                  15360               500   \n",
       "1               1000                  30720              3000   \n",
       "\n",
       "   rub_monthly_fee  rub_per_gb  rub_per_message  rub_per_minute tariff_name  \n",
       "0              550         200                3               3       smart  \n",
       "1             1950         150                1               1       ultra  "
      ]
     },
     "metadata": {},
     "output_type": "display_data"
    },
    {
     "name": "stdout",
     "output_type": "stream",
     "text": [
      "Количество пропусков:\n",
      "messages_included        0\n",
      "mb_per_month_included    0\n",
      "minutes_included         0\n",
      "rub_monthly_fee          0\n",
      "rub_per_gb               0\n",
      "rub_per_message          0\n",
      "rub_per_minute           0\n",
      "tariff_name              0\n",
      "dtype: int64\n",
      "Количество дубликатов: 0 \n",
      "\n",
      "\n",
      "Датафрейм информация о пользователях \n",
      "\n",
      "<class 'pandas.core.frame.DataFrame'>\n",
      "RangeIndex: 500 entries, 0 to 499\n",
      "Data columns (total 8 columns):\n",
      " #   Column      Non-Null Count  Dtype \n",
      "---  ------      --------------  ----- \n",
      " 0   user_id     500 non-null    int64 \n",
      " 1   age         500 non-null    int64 \n",
      " 2   churn_date  38 non-null     object\n",
      " 3   city        500 non-null    object\n",
      " 4   first_name  500 non-null    object\n",
      " 5   last_name   500 non-null    object\n",
      " 6   reg_date    500 non-null    object\n",
      " 7   tariff      500 non-null    object\n",
      "dtypes: int64(2), object(6)\n",
      "memory usage: 31.4+ KB\n"
     ]
    },
    {
     "data": {
      "text/html": [
       "<div>\n",
       "<style scoped>\n",
       "    .dataframe tbody tr th:only-of-type {\n",
       "        vertical-align: middle;\n",
       "    }\n",
       "\n",
       "    .dataframe tbody tr th {\n",
       "        vertical-align: top;\n",
       "    }\n",
       "\n",
       "    .dataframe thead th {\n",
       "        text-align: right;\n",
       "    }\n",
       "</style>\n",
       "<table border=\"1\" class=\"dataframe\">\n",
       "  <thead>\n",
       "    <tr style=\"text-align: right;\">\n",
       "      <th></th>\n",
       "      <th>user_id</th>\n",
       "      <th>age</th>\n",
       "      <th>churn_date</th>\n",
       "      <th>city</th>\n",
       "      <th>first_name</th>\n",
       "      <th>last_name</th>\n",
       "      <th>reg_date</th>\n",
       "      <th>tariff</th>\n",
       "    </tr>\n",
       "  </thead>\n",
       "  <tbody>\n",
       "    <tr>\n",
       "      <th>0</th>\n",
       "      <td>1000</td>\n",
       "      <td>52</td>\n",
       "      <td>NaN</td>\n",
       "      <td>Краснодар</td>\n",
       "      <td>Рафаил</td>\n",
       "      <td>Верещагин</td>\n",
       "      <td>2018-05-25</td>\n",
       "      <td>ultra</td>\n",
       "    </tr>\n",
       "    <tr>\n",
       "      <th>1</th>\n",
       "      <td>1001</td>\n",
       "      <td>41</td>\n",
       "      <td>NaN</td>\n",
       "      <td>Москва</td>\n",
       "      <td>Иван</td>\n",
       "      <td>Ежов</td>\n",
       "      <td>2018-11-01</td>\n",
       "      <td>smart</td>\n",
       "    </tr>\n",
       "    <tr>\n",
       "      <th>2</th>\n",
       "      <td>1002</td>\n",
       "      <td>59</td>\n",
       "      <td>NaN</td>\n",
       "      <td>Стерлитамак</td>\n",
       "      <td>Евгений</td>\n",
       "      <td>Абрамович</td>\n",
       "      <td>2018-06-17</td>\n",
       "      <td>smart</td>\n",
       "    </tr>\n",
       "    <tr>\n",
       "      <th>3</th>\n",
       "      <td>1003</td>\n",
       "      <td>23</td>\n",
       "      <td>NaN</td>\n",
       "      <td>Москва</td>\n",
       "      <td>Белла</td>\n",
       "      <td>Белякова</td>\n",
       "      <td>2018-08-17</td>\n",
       "      <td>ultra</td>\n",
       "    </tr>\n",
       "    <tr>\n",
       "      <th>4</th>\n",
       "      <td>1004</td>\n",
       "      <td>68</td>\n",
       "      <td>NaN</td>\n",
       "      <td>Новокузнецк</td>\n",
       "      <td>Татьяна</td>\n",
       "      <td>Авдеенко</td>\n",
       "      <td>2018-05-14</td>\n",
       "      <td>ultra</td>\n",
       "    </tr>\n",
       "  </tbody>\n",
       "</table>\n",
       "</div>"
      ],
      "text/plain": [
       "   user_id  age churn_date         city first_name  last_name    reg_date  \\\n",
       "0     1000   52        NaN    Краснодар     Рафаил  Верещагин  2018-05-25   \n",
       "1     1001   41        NaN       Москва       Иван       Ежов  2018-11-01   \n",
       "2     1002   59        NaN  Стерлитамак    Евгений  Абрамович  2018-06-17   \n",
       "3     1003   23        NaN       Москва      Белла   Белякова  2018-08-17   \n",
       "4     1004   68        NaN  Новокузнецк    Татьяна   Авдеенко  2018-05-14   \n",
       "\n",
       "  tariff  \n",
       "0  ultra  \n",
       "1  smart  \n",
       "2  smart  \n",
       "3  ultra  \n",
       "4  ultra  "
      ]
     },
     "metadata": {},
     "output_type": "display_data"
    },
    {
     "name": "stdout",
     "output_type": "stream",
     "text": [
      "Количество пропусков:\n",
      "user_id         0\n",
      "age             0\n",
      "churn_date    462\n",
      "city            0\n",
      "first_name      0\n",
      "last_name       0\n",
      "reg_date        0\n",
      "tariff          0\n",
      "dtype: int64\n",
      "Количество дубликатов: 0 \n",
      "\n",
      "\n"
     ]
    }
   ],
   "source": [
    "# calls = pd.read_csv('/datasets/calls.csv')\n",
    "# internet = pd.read_csv('/datasets/internet.csv')\n",
    "# messages = pd.read_csv('/datasets/messages.csv')\n",
    "# tariffs = pd.read_csv('/datasets/tariffs.csv')\n",
    "# users = pd.read_csv('/datasets/users.csv')\n",
    "\n",
    "# Функция для вывода информации о датафрейме\n",
    "def df_inf(inf, x):\n",
    "    print(inf, '\\n')\n",
    "    x.info()\n",
    "    display(x.head())\n",
    "    print('Количество пропусков:', x.isna().sum(), sep='\\n')\n",
    "    print('Количество дубликатов:', x.duplicated().sum(), '\\n'*2)\n",
    "\n",
    "df_inf('Датафрейм информация о звонках', calls)\n",
    "df_inf('Датафрейм информация об интернет-сессиях', internet)\n",
    "df_inf('Датафрейм информация об информация о сообщениях', messages)\n",
    "df_inf('Датафрейм информация о тарифах', tariffs)\n",
    "df_inf('Датафрейм информация о пользователях', users)"
   ]
  },
  {
   "cell_type": "code",
   "execution_count": 3,
   "metadata": {},
   "outputs": [],
   "source": [
    "# Функция вывода статистических данных и диаграммы размаха\n",
    "def inf_num(df, col):\n",
    "    print(col, ':', '\\n', sep='',)\n",
    "    print(df[col].describe())\n",
    "    boxplot = df.boxplot(column=col)\n",
    "    plt.show()\n",
    "    print()"
   ]
  },
  {
   "cell_type": "code",
   "execution_count": 4,
   "metadata": {
    "scrolled": false
   },
   "outputs": [
    {
     "name": "stdout",
     "output_type": "stream",
     "text": [
      "duration:\n",
      "\n",
      "count    202607.000000\n",
      "mean          6.755887\n",
      "std           5.843365\n",
      "min           0.000000\n",
      "25%           1.300000\n",
      "50%           6.000000\n",
      "75%          10.700000\n",
      "max          38.000000\n",
      "Name: duration, dtype: float64\n"
     ]
    },
    {
     "data": {
      "image/png": "[encoded data removed]",
      "text/plain": [
       "<Figure size 432x288 with 1 Axes>"
      ]
     },
     "metadata": {
      "needs_background": "light"
     },
     "output_type": "display_data"
    },
    {
     "name": "stdout",
     "output_type": "stream",
     "text": [
      "\n",
      "mb_used:\n",
      "\n",
      "count    149396.000000\n",
      "mean        370.192426\n",
      "std         278.300951\n",
      "min           0.000000\n",
      "25%         138.187500\n",
      "50%         348.015000\n",
      "75%         559.552500\n",
      "max        1724.830000\n",
      "Name: mb_used, dtype: float64\n"
     ]
    },
    {
     "data": {
      "image/png": "[encoded data removed]",
      "text/plain": [
       "<Figure size 432x288 with 1 Axes>"
      ]
     },
     "metadata": {
      "needs_background": "light"
     },
     "output_type": "display_data"
    },
    {
     "name": "stdout",
     "output_type": "stream",
     "text": [
      "\n",
      "age:\n",
      "\n",
      "count    500.00000\n",
      "mean      46.58800\n",
      "std       16.66763\n",
      "min       18.00000\n",
      "25%       32.00000\n",
      "50%       46.00000\n",
      "75%       62.00000\n",
      "max       75.00000\n",
      "Name: age, dtype: float64\n"
     ]
    },
    {
     "data": {
      "image/png": "[encoded data removed]",
      "text/plain": [
       "<Figure size 432x288 with 1 Axes>"
      ]
     },
     "metadata": {
      "needs_background": "light"
     },
     "output_type": "display_data"
    },
    {
     "name": "stdout",
     "output_type": "stream",
     "text": [
      "\n"
     ]
    }
   ],
   "source": [
    "inf_num(calls, 'duration')\n",
    "inf_num(internet, 'mb_used')\n",
    "inf_num(users, 'age')"
   ]
  },
  {
   "cell_type": "markdown",
   "metadata": {},
   "source": [
    "### Вывод"
   ]
  },
  {
   "cell_type": "markdown",
   "metadata": {},
   "source": [
    "Всего получено 5 датасета с информацией о пользователях, звонках, смс сообщениях, интернет-сессиях, параметрах тарифа. Информация получена из билинга сотовой компании. Данные не имеют аномальных значений, пропущенных значений. Исключение составляют пропуски в данных в дата прекращения пользования тарифом, связанные с тем, что пользователи этим тарифом еще пользуются. Столбцы содержащие даты представлены как строки."
   ]
  },
  {
   "cell_type": "markdown",
   "metadata": {},
   "source": [
    "## Предобработка данных"
   ]
  },
  {
   "cell_type": "code",
   "execution_count": 5,
   "metadata": {
    "scrolled": false
   },
   "outputs": [],
   "source": [
    "# В датафреймах столбцы с датами меняем на тип \"дата\"\n",
    "calls['call_date'] = pd.to_datetime(calls['call_date'])\n",
    "internet['session_date'] = pd.to_datetime(internet['session_date'])\n",
    "messages['message_date'] = pd.to_datetime(messages['message_date'])\n",
    "users['reg_date'] = pd.to_datetime(users['reg_date'])\n",
    "users['churn_date'] = pd.to_datetime(users['churn_date'])\n",
    "\n",
    "# Добавляем столбцы с месяцем подключения тарифа и месяцем прекращения пользования тарифом\n",
    "users['month_reg'] = users['reg_date'].dt.month\n",
    "users['month_churn'] = users['churn_date'].dt.month\n",
    "\n",
    "# Заменяем пропущенные значения месяца прекращения пользования тарифом числом 13\n",
    "users['month_churn'].fillna(13, inplace=True)\n",
    "\n",
    "# Добавляем столбцы с месяцем звонков, сообщений, потребления интернет трафика\n",
    "calls['month'] = calls['call_date'].dt.month\n",
    "messages['month'] = messages['message_date'].dt.month\n",
    "internet['month'] = internet['session_date'].dt.month"
   ]
  },
  {
   "cell_type": "markdown",
   "metadata": {},
   "source": [
    "### Итоги предобработки"
   ]
  },
  {
   "cell_type": "markdown",
   "metadata": {},
   "source": [
    "Была произведена замена типа данных в столбцах, содержащих даты.\n",
    "Добавлены столбцы с месяцами, которые потребуются в последующих расчетах.\n",
    "В столбце с месяцем прекращения пользования тарифом пропуски заполнены числом 13"
   ]
  },
  {
   "cell_type": "markdown",
   "metadata": {},
   "source": [
    "## Расчёты и добавление результатов в таблицы"
   ]
  },
  {
   "cell_type": "markdown",
   "metadata": {},
   "source": [
    "### Подготовка таблиц для проведения расчетов"
   ]
  },
  {
   "cell_type": "code",
   "execution_count": 6,
   "metadata": {},
   "outputs": [],
   "source": [
    "# Объединение таблиц 'calls' и 'users'\n",
    "calls = calls.merge(users, how='left')\n",
    "\n",
    "# Округление минут в большую сторону\n",
    "calls['minutes'] = -(-calls['duration']//1)\n",
    "calls['minutes'] = calls['minutes'].astype('int')\n",
    "\n",
    "# Сводные таблицы звонков и минут звонков с сумированием по месяцам\n",
    "calls_count = calls.pivot_table(index=['tariff', 'user_id', 'month_reg', 'month_churn', 'city'],\n",
    "                                columns='month', values='minutes', aggfunc='count').fillna(0)\n",
    "calls_time = calls.pivot_table(index=['tariff', 'user_id', 'month_reg', 'month_churn', 'city'],\n",
    "                              columns='month', values='minutes', aggfunc='sum').fillna(0)\n",
    "\n",
    "# Создание копий таблиц кол. звонков и времени звонков без мультииндексов\n",
    "calls_count = calls_count.copy()\n",
    "calls_count.reset_index(inplace=True)\n",
    "calls_time = calls_time.copy()\n",
    "calls_time.reset_index(inplace=True)\n",
    "\n",
    "# Объединение таблиц 'messages' и 'users'\n",
    "messages = messages.merge(users, how='left')\n",
    "# Сводная таблица смс сообщений с сумированием по месяцам\n",
    "mes_count = messages.pivot_table(index=['tariff', 'user_id', 'month_reg', 'month_churn', 'city'],\n",
    "                                 columns='month', values='id', aggfunc='count').fillna(0)\n",
    "\n",
    "# Создание копии таблицы смс сообщений  без мультииндексов\n",
    "mes_count = mes_count.copy()\n",
    "mes_count.reset_index(inplace=True)\n",
    "\n",
    "# Объединение таблиц 'internet' и 'users'\n",
    "internet = internet.merge(users, how='left')\n",
    "# Сводная таблица потребления трафика сумированием по месяцам и округлением до целых Гб в большую сторону\n",
    "inet_vol = internet.pivot_table(index=['tariff', 'user_id', 'month_reg', 'month_churn', 'city'], columns='month',\n",
    "                                values='mb_used',aggfunc=([lambda x: -(-x.sum()//1024)])).fillna(0)\n",
    "\n",
    "# Создание копии таблицы потребления трафика без мультииндексов\n",
    "inet_vol = inet_vol.copy()\n",
    "inet_vol.reset_index(inplace=True)\n",
    "inet_vol.set_axis(['tariff', 'user_id', 'month_reg', 'month_churn', 'city', 1, 2, 3, 4, 5, 6, 7, 8, 9, 10, 11, 12],\n",
    "                 axis='columns', inplace=True)"
   ]
  },
  {
   "cell_type": "markdown",
   "metadata": {},
   "source": [
    "### Создание функций используемых в расчетах"
   ]
  },
  {
   "cell_type": "code",
   "execution_count": 7,
   "metadata": {},
   "outputs": [],
   "source": [
    "# Функция расчета среднего месячного значения параметра \n",
    "# Из расчета исключается период от января до месяца подключения тарифа включительно\n",
    "def calc_mean(i):\n",
    "    s = []\n",
    "    for k in range(1, 13):\n",
    "        if k > i['month_reg'] and k < i['month_churn']:\n",
    "            s.append(i[k])\n",
    "    if s == []:\n",
    "        return 0\n",
    "    return round(mean(s), 1)\n",
    "\n",
    "# Функция расчета расходов клиентов сверх абонентской платы\n",
    "# (превышение лимитов звонков, сообщений, трафика)\n",
    "# Из расчета исключается период от января до месяца подключения тарифа включительно\n",
    "# p - список со стоимостью услуг при превышении тарифа:\n",
    "# p[0] - абоненская плата без доп. услуг тарифа 'smart', p[1] - стоимость услуги тарифа 'smart',\n",
    "# p[2] - стоимость услуги тарифа 'ultra', p[3] - стоимость услуги тарифа 'ultra'\n",
    "def calc(i):\n",
    "    for k in range(1, 13):\n",
    "        if k > i['month_reg'] and k < i['month_churn']:\n",
    "            if i['tariff'] == 'smart' and i[k] > p[0]:\n",
    "                i[k] = (i[k] - p[0]) * p[1]\n",
    "            elif i['tariff'] == 'ultra' and i[k] > p[2]:\n",
    "                i[k] = (i[k] - p[2]) * p[3]\n",
    "            else:\n",
    "                i[k] = 0\n",
    "        else:\n",
    "            i[k] = 0\n",
    "    return i"
   ]
  },
  {
   "cell_type": "markdown",
   "metadata": {},
   "source": [
    "### Расчет, формирование итоговых таблиц для анализа"
   ]
  },
  {
   "cell_type": "code",
   "execution_count": 8,
   "metadata": {},
   "outputs": [
    {
     "data": {
      "text/html": [
       "<div>\n",
       "<style scoped>\n",
       "    .dataframe tbody tr th:only-of-type {\n",
       "        vertical-align: middle;\n",
       "    }\n",
       "\n",
       "    .dataframe tbody tr th {\n",
       "        vertical-align: top;\n",
       "    }\n",
       "\n",
       "    .dataframe thead th {\n",
       "        text-align: right;\n",
       "    }\n",
       "</style>\n",
       "<table border=\"1\" class=\"dataframe\">\n",
       "  <thead>\n",
       "    <tr style=\"text-align: right;\">\n",
       "      <th></th>\n",
       "      <th>tariff</th>\n",
       "      <th>user_id</th>\n",
       "      <th>month_reg</th>\n",
       "      <th>month_churn</th>\n",
       "      <th>city</th>\n",
       "      <th>1</th>\n",
       "      <th>2</th>\n",
       "      <th>3</th>\n",
       "      <th>4</th>\n",
       "      <th>5</th>\n",
       "      <th>6</th>\n",
       "      <th>7</th>\n",
       "      <th>8</th>\n",
       "      <th>9</th>\n",
       "      <th>10</th>\n",
       "      <th>11</th>\n",
       "      <th>12</th>\n",
       "      <th>mean</th>\n",
       "    </tr>\n",
       "  </thead>\n",
       "  <tbody>\n",
       "    <tr>\n",
       "      <th>0</th>\n",
       "      <td>smart</td>\n",
       "      <td>1001</td>\n",
       "      <td>11</td>\n",
       "      <td>13.0</td>\n",
       "      <td>Москва</td>\n",
       "      <td>0</td>\n",
       "      <td>0.0</td>\n",
       "      <td>0.0</td>\n",
       "      <td>0.0</td>\n",
       "      <td>0.0</td>\n",
       "      <td>0.0</td>\n",
       "      <td>0.0</td>\n",
       "      <td>0.0</td>\n",
       "      <td>0.0</td>\n",
       "      <td>0.0</td>\n",
       "      <td>0.0</td>\n",
       "      <td>550.0</td>\n",
       "      <td>550.0</td>\n",
       "    </tr>\n",
       "    <tr>\n",
       "      <th>1</th>\n",
       "      <td>smart</td>\n",
       "      <td>1002</td>\n",
       "      <td>6</td>\n",
       "      <td>13.0</td>\n",
       "      <td>Стерлитамак</td>\n",
       "      <td>0</td>\n",
       "      <td>0.0</td>\n",
       "      <td>0.0</td>\n",
       "      <td>0.0</td>\n",
       "      <td>0.0</td>\n",
       "      <td>0.0</td>\n",
       "      <td>1150.0</td>\n",
       "      <td>1550.0</td>\n",
       "      <td>950.0</td>\n",
       "      <td>550.0</td>\n",
       "      <td>1350.0</td>\n",
       "      <td>1150.0</td>\n",
       "      <td>1116.7</td>\n",
       "    </tr>\n",
       "    <tr>\n",
       "      <th>2</th>\n",
       "      <td>smart</td>\n",
       "      <td>1005</td>\n",
       "      <td>1</td>\n",
       "      <td>13.0</td>\n",
       "      <td>Набережные Челны</td>\n",
       "      <td>0</td>\n",
       "      <td>550.0</td>\n",
       "      <td>886.0</td>\n",
       "      <td>1186.0</td>\n",
       "      <td>835.0</td>\n",
       "      <td>886.0</td>\n",
       "      <td>775.0</td>\n",
       "      <td>949.0</td>\n",
       "      <td>556.0</td>\n",
       "      <td>1219.0</td>\n",
       "      <td>694.0</td>\n",
       "      <td>838.0</td>\n",
       "      <td>852.2</td>\n",
       "    </tr>\n",
       "    <tr>\n",
       "      <th>3</th>\n",
       "      <td>smart</td>\n",
       "      <td>1006</td>\n",
       "      <td>2</td>\n",
       "      <td>13.0</td>\n",
       "      <td>Ульяновск</td>\n",
       "      <td>0</td>\n",
       "      <td>0.0</td>\n",
       "      <td>950.0</td>\n",
       "      <td>550.0</td>\n",
       "      <td>550.0</td>\n",
       "      <td>550.0</td>\n",
       "      <td>1550.0</td>\n",
       "      <td>1350.0</td>\n",
       "      <td>750.0</td>\n",
       "      <td>1550.0</td>\n",
       "      <td>550.0</td>\n",
       "      <td>1350.0</td>\n",
       "      <td>970.0</td>\n",
       "    </tr>\n",
       "    <tr>\n",
       "      <th>4</th>\n",
       "      <td>smart</td>\n",
       "      <td>1007</td>\n",
       "      <td>4</td>\n",
       "      <td>13.0</td>\n",
       "      <td>Москва</td>\n",
       "      <td>0</td>\n",
       "      <td>0.0</td>\n",
       "      <td>0.0</td>\n",
       "      <td>0.0</td>\n",
       "      <td>1150.0</td>\n",
       "      <td>685.0</td>\n",
       "      <td>981.0</td>\n",
       "      <td>1750.0</td>\n",
       "      <td>1015.0</td>\n",
       "      <td>550.0</td>\n",
       "      <td>990.0</td>\n",
       "      <td>550.0</td>\n",
       "      <td>958.9</td>\n",
       "    </tr>\n",
       "  </tbody>\n",
       "</table>\n",
       "</div>"
      ],
      "text/plain": [
       "  tariff  user_id  month_reg  month_churn              city  1      2      3  \\\n",
       "0  smart     1001         11         13.0            Москва  0    0.0    0.0   \n",
       "1  smart     1002          6         13.0       Стерлитамак  0    0.0    0.0   \n",
       "2  smart     1005          1         13.0  Набережные Челны  0  550.0  886.0   \n",
       "3  smart     1006          2         13.0         Ульяновск  0    0.0  950.0   \n",
       "4  smart     1007          4         13.0            Москва  0    0.0    0.0   \n",
       "\n",
       "        4       5      6       7       8       9      10      11      12  \\\n",
       "0     0.0     0.0    0.0     0.0     0.0     0.0     0.0     0.0   550.0   \n",
       "1     0.0     0.0    0.0  1150.0  1550.0   950.0   550.0  1350.0  1150.0   \n",
       "2  1186.0   835.0  886.0   775.0   949.0   556.0  1219.0   694.0   838.0   \n",
       "3   550.0   550.0  550.0  1550.0  1350.0   750.0  1550.0   550.0  1350.0   \n",
       "4     0.0  1150.0  685.0   981.0  1750.0  1015.0   550.0   990.0   550.0   \n",
       "\n",
       "     mean  \n",
       "0   550.0  \n",
       "1  1116.7  \n",
       "2   852.2  \n",
       "3   970.0  \n",
       "4   958.9  "
      ]
     },
     "execution_count": 8,
     "metadata": {},
     "output_type": "execute_result"
    }
   ],
   "source": [
    "# Создание столбцов таблиц со средними значениями кол. звонков, минут, сообщений, трафика\n",
    "calls_count['mean'] = calls_count.apply(calc_mean, axis=1)\n",
    "calls_time['mean'] = calls_time.apply(calc_mean, axis=1)\n",
    "mes_count['mean'] = mes_count.apply(calc_mean, axis=1)\n",
    "inet_vol['mean'] = inet_vol.apply(calc_mean, axis=1)\n",
    "\n",
    "# Создание таблиц со стоимостью услуг не включенных в абонентскую плату\n",
    "# Через переменную 'p' указывается лимит тарифа 'smart', стоимость его превышения за единицу,\n",
    "# лимит тарифа 'ultra', тоимость его превышения за единицу\n",
    "\n",
    "# Cтоимость минут\n",
    "\n",
    "p=[500, 3, 3000, 1]\n",
    "calls_rub = calls_time.apply(calc, axis=1)\n",
    "\n",
    "# Cтоимость сообщений\n",
    "p = [50, 3, 1000, 1]\n",
    "mes_rub = mes_count.apply(calc, axis=1)\n",
    "\n",
    "# Cтоимость трафика\n",
    "p = [15, 200, 30, 150]\n",
    "inet_rub = inet_vol.apply(calc, axis=1)\n",
    "\n",
    "# Объединение 3-х таблиц  с дополнительными платежами за звонки, сообщения, интернет\n",
    "pay_over = pd.concat([calls_rub, mes_rub, inet_rub])\n",
    "\n",
    "# Суммирование дополнительных платежей по каждому пользователю\n",
    "pay_sum = pay_over.pivot_table(index=['tariff', 'user_id', 'month_reg', 'month_churn', 'city'],\n",
    "                               values=range(1, 13), aggfunc='sum')\n",
    "pay_sum = pay_sum.copy()\n",
    "pay_sum.reset_index(inplace=True)\n",
    "\n",
    "# Функция суммирования абонентской платы и дополнительных платежей\n",
    "# Из расчета исключается период от января до месяца подключения тарифа включительно\n",
    "def calc_sum(i):\n",
    "    for k in range(1, 13):\n",
    "        if k > i['month_reg'] and k < i['month_churn']:\n",
    "            if i['tariff'] == 'smart':\n",
    "                i[k] += 550\n",
    "            else:\n",
    "                i[k] += 1950\n",
    "    return i\n",
    "\n",
    "# Формирование таблицы с помесячной выручкой с каждого пользователя по месяцам\n",
    "pay_rub = pay_sum.apply(calc_sum, axis=1)\n",
    "\n",
    "# Создание столбца со среднемесячным расходом пользователя\n",
    "pay_rub['mean'] = pay_rub.apply(calc_mean, axis=1)\n",
    "\n",
    "pay_rub.head()"
   ]
  },
  {
   "cell_type": "markdown",
   "metadata": {},
   "source": [
    "### Итог расчетов\n",
    "Были сформированы 5 таблиц с данными которые потребуются в дальнейшем анализе:  \n",
    "Среднее количество звонков пользователя в месяц  \n",
    "Среднее время звонков пользователя за месяц  \n",
    "Среднее количество смс сообщений пользователя в месяц  \n",
    "Среднее количество интернет трафика израсходованного пользователем за месяц  \n",
    "Средняя выручка от каждого пользователя за месяц"
   ]
  },
  {
   "cell_type": "markdown",
   "metadata": {},
   "source": [
    "## Анализ данных"
   ]
  },
  {
   "cell_type": "markdown",
   "metadata": {},
   "source": [
    "### Анализ средемесячного количествва звонков"
   ]
  },
  {
   "cell_type": "code",
   "execution_count": 9,
   "metadata": {
    "scrolled": false
   },
   "outputs": [
    {
     "name": "stdout",
     "output_type": "stream",
     "text": [
      "        count       mean        std  min   25%   50%     75%    max\n",
      "tariff                                                             \n",
      "smart   349.0  60.272206  30.384491  0.0  43.8  63.7   78.90  198.0\n",
      "ultra   143.0  80.249650  46.495391  0.0  45.2  78.9  110.75  244.0\n"
     ]
    },
    {
     "data": {
      "image/png": "[encoded data removed]",
      "text/plain": [
       "<Figure size 1008x504 with 1 Axes>"
      ]
     },
     "metadata": {
      "needs_background": "light"
     },
     "output_type": "display_data"
    }
   ],
   "source": [
    "print(calls_count.groupby('tariff')['mean'].describe())\n",
    "plt.figure(figsize=(14, 7))\n",
    "sns.distplot(calls_count.query('tariff == \"smart\"')['mean'], rug=True, kde=True, color='blue')\n",
    "sns.distplot(calls_count.query('tariff == \"ultra\"')['mean'], rug=True, kde=True, color='red')\n",
    "plt.title('Гистограмма и график плотности распределения среднего количества звонков в месяц')\n",
    "plt.xlabel('Количество звонков в месяц')\n",
    "plt.ylabel('Плотность')\n",
    "plt.show()"
   ]
  },
  {
   "cell_type": "markdown",
   "metadata": {},
   "source": [
    "### Анализ средней продолжительности звонков за месяц"
   ]
  },
  {
   "cell_type": "code",
   "execution_count": 10,
   "metadata": {
    "scrolled": false
   },
   "outputs": [
    {
     "name": "stdout",
     "output_type": "stream",
     "text": [
      "        count        mean         std  min    25%    50%     75%     max\n",
      "tariff                                                                  \n",
      "smart   349.0  429.831519  217.177731  0.0  308.9  449.9  563.30  1435.0\n",
      "ultra   143.0  575.825175  334.316722  0.0  325.9  562.0  792.15  1673.0\n"
     ]
    },
    {
     "data": {
      "image/png": "[encoded data removed]",
      "text/plain": [
       "<Figure size 1008x504 with 1 Axes>"
      ]
     },
     "metadata": {
      "needs_background": "light"
     },
     "output_type": "display_data"
    }
   ],
   "source": [
    "print(calls_time.groupby('tariff')['mean'].describe())\n",
    "plt.figure(figsize=(14, 7))\n",
    "sns.distplot(calls_time.query('tariff == \"smart\"')['mean'], rug=True, kde=True, color='blue')\n",
    "sns.distplot(calls_time.query('tariff == \"ultra\"')['mean'], rug=True, kde=True, color='red')\n",
    "plt.title('Гистограмма и график плотности распределения средней продолжительности звонков за месяц')\n",
    "plt.xlabel('Длительность звонков за месяц, мин.')\n",
    "plt.ylabel('Плотность')\n",
    "plt.show()"
   ]
  },
  {
   "cell_type": "markdown",
   "metadata": {},
   "source": [
    "### Анализ среднего количества смс сообщений за месяц"
   ]
  },
  {
   "cell_type": "code",
   "execution_count": 11,
   "metadata": {
    "scrolled": false
   },
   "outputs": [
    {
     "name": "stdout",
     "output_type": "stream",
     "text": [
      "        count       mean        std  min    25%    50%     75%    max\n",
      "tariff                                                               \n",
      "smart   302.0  38.300000  29.079352  0.0  15.35  34.65  57.775  132.7\n",
      "ultra   124.0  67.041129  49.106652  0.0  27.75  58.20  94.300  210.5\n"
     ]
    },
    {
     "data": {
      "image/png": "[encoded data removed]",
      "text/plain": [
       "<Figure size 1008x504 with 1 Axes>"
      ]
     },
     "metadata": {
      "needs_background": "light"
     },
     "output_type": "display_data"
    }
   ],
   "source": [
    "print(mes_count.groupby('tariff')['mean'].describe())\n",
    "plt.figure(figsize=(14, 7))\n",
    "sns.distplot(mes_count.query('tariff == \"smart\"')['mean'], rug=True,\n",
    "             axlabel='Количество сообщений за месяц', color='blue')\n",
    "sns.distplot(mes_count.query('tariff == \"ultra\"')['mean'],\n",
    "             axlabel='Количество сообщений за месяц',rug=True, color='red')\n",
    "plt.title('Гистограмма и график плотности распределения среднего количества смс сообщений за месяц')\n",
    "plt.xlabel('Количество сообщений за месяц')\n",
    "plt.ylabel('Плотность')\n",
    "plt.show()"
   ]
  },
  {
   "cell_type": "markdown",
   "metadata": {},
   "source": [
    "### Анализ среднего потреблению трафика за месяц"
   ]
  },
  {
   "cell_type": "code",
   "execution_count": 12,
   "metadata": {},
   "outputs": [
    {
     "name": "stdout",
     "output_type": "stream",
     "text": [
      "        count       mean        std  min     25%   50%   75%   max\n",
      "tariff                                                            \n",
      "smart   350.0  16.586000   6.888245  0.0  14.225  17.5  20.5  37.0\n",
      "ultra   147.0  20.905442  10.233130  0.0  14.350  21.0  27.4  43.0\n"
     ]
    },
    {
     "data": {
      "image/png": "[encoded data removed]",
      "text/plain": [
       "<Figure size 1008x504 with 1 Axes>"
      ]
     },
     "metadata": {
      "needs_background": "light"
     },
     "output_type": "display_data"
    }
   ],
   "source": [
    "print(inet_vol.groupby('tariff')['mean'].describe())\n",
    "plt.figure(figsize=(14, 7))\n",
    "sns.distplot(inet_vol.query('tariff == \"smart\"')['mean'], rug=True, color='blue')\n",
    "sns.distplot(inet_vol.query('tariff == \"ultra\"')['mean'], rug=True, color='red')\n",
    "plt.title('Гистограмма и график плотности распределения среднего потребления трафика за месяц')\n",
    "plt.xlabel('Потребление трафика за месяц, ГБ.')\n",
    "plt.ylabel('Плотность')\n",
    "plt.show()"
   ]
  },
  {
   "cell_type": "markdown",
   "metadata": {},
   "source": [
    "### Анализ средней выручке от пользователей за месяц"
   ]
  },
  {
   "cell_type": "code",
   "execution_count": 13,
   "metadata": {},
   "outputs": [
    {
     "name": "stdout",
     "output_type": "stream",
     "text": [
      "        count         mean         std  min     25%     50%       75%     max\n",
      "tariff                                                                       \n",
      "smart   350.0  1414.993143  961.340938  0.0   814.9  1235.3  1858.775  6225.0\n",
      "ultra   148.0  2033.114865  654.618320  0.0  1950.0  1950.0  1980.700  3900.0\n"
     ]
    },
    {
     "data": {
      "image/png": "[encoded data removed]",
      "text/plain": [
       "<Figure size 1008x504 with 1 Axes>"
      ]
     },
     "metadata": {
      "needs_background": "light"
     },
     "output_type": "display_data"
    }
   ],
   "source": [
    "print(pay_rub.groupby('tariff')['mean'].describe())\n",
    "fig, ax = plt.subplots(1,1)\n",
    "sns.distplot(inet_vol.query('tariff == \"smart\"')['mean'], rug=True, color='blue')\n",
    "sns.distplot(inet_vol.query('tariff == \"ultra\"')['mean'], rug=True, color='red')\n",
    "plt.title('Гистограмма и график плотности распределения средней выручки пользователя за месяц')\n",
    "plt.xlabel('Помесячная выручка с каждого пользователя, руб.')\n",
    "plt.ylabel('Плотность')\n",
    "ax.set_xticklabels(ax.get_xticks()*100)\n",
    "fig.set_size_inches(14, 7, forward=True)\n",
    "plt.show()"
   ]
  },
  {
   "cell_type": "markdown",
   "metadata": {},
   "source": [
    "### Результат анализа данных\n",
    "Анализ данных по пользователям тарифов 'smart' и 'ultra' показывает, что у пользователей тарифа 'ultra' среднемесячное количество звонков, сообщений, среднемесячная продолжительность звонков, средимесячное потребление трафика, среднемесячная выручка выше, чем у пользователей тарифа 'smart'. Показатели пользователей тарифа 'ultra' на 1,5 раза выше чем у пользователей тарифа 'smart'. Исключение – использование интернета, здесь пользователи тарифа 'ultra' в среднем на 27% потребляют больше трафика, что возможно объясняется ростом интереса к мобильному интернету у всех пользователей.  \n",
    "Размер выборок пользователей тарифа 'ultra' более чем в 2 раза меньше, чем размер выборок по пользователям тарифа 'smart'. Вследствие этого стандартное отклонение и дисперсия распределений показателей пользователей тарифа ' ultra' выше, чем у пользователей тарифа 'smart'."
   ]
  },
  {
   "cell_type": "markdown",
   "metadata": {},
   "source": [
    "### Проверка гипотез"
   ]
  },
  {
   "cell_type": "code",
   "execution_count": 14,
   "metadata": {},
   "outputs": [],
   "source": [
    "# Функция вывода результатов проверки гипотез\n",
    "def conclusion():\n",
    "    print(f'p-значение:{results.pvalue: .3}')\n",
    "    if results.pvalue < alpha:\n",
    "        print(\"Отвергаем нулевую гипотезу\")\n",
    "    else:\n",
    "        print(\"Не получилось отвергнуть нулевую гипотезу\") "
   ]
  },
  {
   "cell_type": "code",
   "execution_count": 15,
   "metadata": {},
   "outputs": [
    {
     "name": "stdout",
     "output_type": "stream",
     "text": [
      "p-значение: 1.55e-15\n",
      "Отвергаем нулевую гипотезу\n"
     ]
    }
   ],
   "source": [
    "# Нулевая гипотеза -  средние месячные платежи тарифов 'smart' и 'ultra' равны.\n",
    "alpha = .01\n",
    "results = st.ttest_ind(pay_rub.query('tariff == \"smart\"')['mean'],\n",
    "                       pay_rub.query('tariff == \"ultra\"')['mean'], equal_var = False)\n",
    "\n",
    "conclusion()"
   ]
  },
  {
   "cell_type": "code",
   "execution_count": 16,
   "metadata": {},
   "outputs": [
    {
     "name": "stdout",
     "output_type": "stream",
     "text": [
      "p-значение: 0.309\n",
      "Не получилось отвергнуть нулевую гипотезу\n"
     ]
    }
   ],
   "source": [
    "# Нулевая гипотеза -  средние месячные платежи тарифа 'smart' г. Москвы и других регионов равны.\n",
    "alpha = .01\n",
    "results = st.ttest_ind(pay_rub.query('tariff == \"smart\" and city == \"Москва\"')['mean'],\n",
    "                       pay_rub.query('tariff == \"smart\" and city != \"Москва\"')['mean'])\n",
    "\n",
    "conclusion()"
   ]
  },
  {
   "cell_type": "code",
   "execution_count": 17,
   "metadata": {},
   "outputs": [
    {
     "data": {
      "text/plain": [
       "tariff\n",
       "smart    495247.6\n",
       "ultra    300901.0\n",
       "Name: mean, dtype: float64"
      ]
     },
     "execution_count": 17,
     "metadata": {},
     "output_type": "execute_result"
    }
   ],
   "source": [
    "# Среднемесячная сумма выручки от пользователей тарифов 'smart' и 'ultra' по всей выборке\n",
    "pay_rub.groupby('tariff')['mean'].sum()"
   ]
  },
  {
   "cell_type": "markdown",
   "metadata": {},
   "source": [
    "### Итоги анализа данных"
   ]
  },
  {
   "cell_type": "markdown",
   "metadata": {},
   "source": [
    "Анализ итоговых таблиц показал, что пользователи тарифа «ultra» активнее пользуются услугами сотовой компании, чем пользователи тарифа «smart».  Это касается всех услуг (звонков, смс сообщений, пользование интернетом).  \n",
    "При проверки гипотезы, что средняя выручка пользователей тарифов «ultra» и «smart» различаются, гипотеза подтвердилась для уровня значимости 1%.  Гипотеза, что средняя выручка пользователей из Москвы отличается от выручки пользователей из других регионов не подтвердилась."
   ]
  },
  {
   "cell_type": "markdown",
   "metadata": {},
   "source": [
    "## Общий вывод"
   ]
  },
  {
   "cell_type": "markdown",
   "metadata": {},
   "source": [
    "В проекте выполнено исследование поведение пользователей сотового оператора «Мегалайн» с целью выявить какой тарифный план приносит больше денег.  \n",
    "Были загружены и проанализированы 4 датасета  с информацией по 500 пользователям, по их использованию услуг сотового оператора. Данные были предварительно обработаны: произведена замена типа данных столбцов содержащих даты, были добавлены дополнительные столбцы для дальнейшего использования в расчетах.  \n",
    "После проведения расчетов были получены таблицы с данными пригодными к анализу.  \n",
    "При проведении анализа было выявлено, что пользователи тарифа «ultra»  пользуются услугами сотовой компании в большем объеме, чем пользователи тарифа «smart».\n",
    "Средняя выручка пользователей тарифа «ultra» выше чем у пользователей тарифа «smart».\n",
    "Предположение, что выручка пользователей из Москвы отличается от выручки пользователей из других регионов не подтвердилась.  \n",
    "Несмотря на то что средняя выручка одного пользователя тарифа «ultra» в среднем выше чем у пользователя тарифа «smart», общая выручка из выборки 500 человек у тарифа «smart» выше чем у тарифа «ultra».  \n",
    "Что бы более точно определить какой тариф приносит больше денег, необходимо учесть расходы сотовой компании на пользователей каждого тарифа."
   ]
  }
 ],
 "metadata": {
  "ExecuteTimeLog": [
   {
    "duration": 1593,
    "start_time": "2022-02-02T19:54:45.722Z"
   },
   {
    "duration": 62,
    "start_time": "2022-02-02T19:54:47.317Z"
   },
   {
    "duration": 419,
    "start_time": "2022-02-02T19:54:47.381Z"
   },
   {
    "duration": 118,
    "start_time": "2022-02-02T19:54:47.801Z"
   },
   {
    "duration": 601,
    "start_time": "2022-02-02T19:54:47.921Z"
   },
   {
    "duration": 5,
    "start_time": "2022-02-02T19:54:48.524Z"
   },
   {
    "duration": 1061,
    "start_time": "2022-02-02T19:54:48.531Z"
   },
   {
    "duration": 554,
    "start_time": "2022-02-02T19:54:49.594Z"
   },
   {
    "duration": 432,
    "start_time": "2022-02-02T19:54:50.151Z"
   },
   {
    "duration": 492,
    "start_time": "2022-02-02T19:54:50.585Z"
   },
   {
    "duration": 492,
    "start_time": "2022-02-02T19:54:51.081Z"
   },
   {
    "duration": 416,
    "start_time": "2022-02-02T19:54:51.575Z"
   },
   {
    "duration": 9,
    "start_time": "2022-02-02T19:54:51.993Z"
   },
   {
    "duration": 10,
    "start_time": "2022-02-02T19:54:52.004Z"
   },
   {
    "duration": 11,
    "start_time": "2022-02-02T19:54:52.016Z"
   },
   {
    "duration": 6,
    "start_time": "2022-02-02T19:54:52.028Z"
   },
   {
    "duration": 3,
    "start_time": "2022-02-02T20:17:35.252Z"
   },
   {
    "duration": 4,
    "start_time": "2022-02-02T20:17:42.783Z"
   },
   {
    "duration": 4,
    "start_time": "2022-02-02T20:17:56.896Z"
   }
  ],
  "celltoolbar": "Необработанный формат ячейки",
  "kernelspec": {
   "display_name": "Python 3 (ipykernel)",
   "language": "python",
   "name": "python3"
  },
  "language_info": {
   "codemirror_mode": {
    "name": "ipython",
    "version": 3
   },
   "file_extension": ".py",
   "mimetype": "text/x-python",
   "name": "python",
   "nbconvert_exporter": "python",
   "pygments_lexer": "ipython3",
   "version": "3.9.12"
  },
  "toc": {
   "base_numbering": 1,
   "nav_menu": {},
   "number_sections": true,
   "sideBar": true,
   "skip_h1_title": true,
   "title_cell": "Содержание",
   "title_sidebar": "Contents",
   "toc_cell": true,
   "toc_position": {
    "height": "calc(100% - 180px)",
    "left": "10px",
    "top": "150px",
    "width": "345.867px"
   },
   "toc_section_display": true,
   "toc_window_display": true
  }
 },
 "nbformat": 4,
 "nbformat_minor": 2
}
